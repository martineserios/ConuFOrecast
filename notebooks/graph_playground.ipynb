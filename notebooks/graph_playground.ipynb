{
 "cells": [
  {
   "cell_type": "code",
   "execution_count": 1,
   "metadata": {},
   "outputs": [],
   "source": [
    "import sys\n",
    "import os\n",
    "import networkx as nx\n",
    "\n",
    "from plotly.subplots import make_subplots\n",
    "import pandas as pd\n",
    "import plotly.express as px\n",
    "import plotly.graph_objects as go\n",
    "\n",
    "sys.path.append(os.path.join(os.getcwd(), '..'))"
   ]
  },
  {
   "cell_type": "code",
   "execution_count": 2,
   "metadata": {
    "tags": []
   },
   "outputs": [
    {
     "output_type": "display_data",
     "data": {
      "text/plain": "<IPython.core.display.HTML object>",
      "text/html": "<style type='text/css'>\n.datatable table.frame { margin-bottom: 0; }\n.datatable table.frame thead { border-bottom: none; }\n.datatable table.frame tr.coltypes td {  color: #FFFFFF;  line-height: 6px;  padding: 0 0.5em;}\n.datatable .boolean { background: #DDDD99; }\n.datatable .object  { background: #565656; }\n.datatable .integer { background: #5D9E5D; }\n.datatable .float   { background: #4040CC; }\n.datatable .string  { background: #CC4040; }\n.datatable .row_index {  background: var(--jp-border-color3);  border-right: 1px solid var(--jp-border-color0);  color: var(--jp-ui-font-color3);  font-size: 9px;}\n.datatable .frame tr.coltypes .row_index {  background: var(--jp-border-color0);}\n.datatable th:nth-child(2) { padding-left: 12px; }\n.datatable .hellipsis {  color: var(--jp-cell-editor-border-color);}\n.datatable .vellipsis {  background: var(--jp-layout-color0);  color: var(--jp-cell-editor-border-color);}\n.datatable .na {  color: var(--jp-cell-editor-border-color);  font-size: 80%;}\n.datatable .footer { font-size: 9px; }\n.datatable .frame_dimensions {  background: var(--jp-border-color3);  border-top: 1px solid var(--jp-border-color0);  color: var(--jp-ui-font-color3);  display: inline-block;  opacity: 0.6;  padding: 1px 10px 1px 5px;}\n</style>\n"
     },
     "metadata": {}
    }
   ],
   "source": [
    "from ConuForecast.src.graph_utils import GraphInit, DBconnector\n",
    "\n",
    "conn = DBconnector('172.17.0.1', 5555, 'base-ina', 'postgres', 'postgres')\n",
    "\n",
    "MODEL = 'model_007'\n",
    "EVENT = '007'\n",
    "PRECIP = 'precipitation_007'\n",
    "\n",
    "conu_basin = GraphInit(model=MODEL, event=EVENT, precip=PRECIP, conn=conn)"
   ]
  },
  {
   "source": [
    "conu_basin.subgraph_tseries_viz('NODO1453', 'infilt_media_mm/hs', time_step=2, acc_data=True)"
   ],
   "cell_type": "code",
   "metadata": {
    "tags": []
   },
   "execution_count": 16,
   "outputs": [
    {
     "output_type": "display_data",
     "data": {
      "application/vnd.plotly.v1+json": {
       "config": {
        "plotlyServerURL": "https://plot.ly"
       },
       "data": [
        {
         "alignmentgroup": "True",
         "hovertemplate": "elapsed_time=%{x}<br>rainfall=%{y}<extra></extra>",
         "legendgroup": "",
         "marker": {
          "color": [
           "black"
          ]
         },
         "name": "",
         "offsetgroup": "",
         "orientation": "v",
         "showlegend": false,
         "textposition": "auto",
         "type": "bar",
         "x": [
          "2017-01-01T00:00:00",
          "2017-01-01T00:30:00",
          "2017-01-01T01:00:00",
          "2017-01-01T01:30:00",
          "2017-01-01T02:00:00",
          "2017-01-01T02:30:00",
          "2017-01-01T03:00:00",
          "2017-01-01T03:30:00",
          "2017-01-01T04:00:00",
          "2017-01-01T04:30:00",
          "2017-01-01T05:00:00",
          "2017-01-01T05:30:00",
          "2017-01-01T06:00:00",
          "2017-01-01T06:30:00",
          "2017-01-01T07:00:00",
          "2017-01-01T07:30:00",
          "2017-01-01T08:00:00",
          "2017-01-01T08:30:00",
          "2017-01-01T09:00:00",
          "2017-01-01T09:30:00",
          "2017-01-01T10:00:00",
          "2017-01-01T10:30:00",
          "2017-01-01T11:00:00",
          "2017-01-01T11:30:00",
          "2017-01-01T12:00:00",
          "2017-01-01T12:30:00",
          "2017-01-01T13:00:00",
          "2017-01-01T13:30:00",
          "2017-01-01T14:00:00",
          "2017-01-01T14:30:00",
          "2017-01-01T15:00:00",
          "2017-01-01T15:30:00",
          "2017-01-01T16:00:00",
          "2017-01-01T16:30:00",
          "2017-01-01T17:00:00",
          "2017-01-01T17:30:00",
          "2017-01-01T18:00:00",
          "2017-01-01T18:30:00",
          "2017-01-01T19:00:00",
          "2017-01-01T19:30:00",
          "2017-01-01T20:00:00",
          "2017-01-01T20:30:00",
          "2017-01-01T21:00:00",
          "2017-01-01T21:30:00",
          "2017-01-01T22:00:00",
          "2017-01-01T22:30:00",
          "2017-01-01T23:00:00",
          "2017-01-01T23:30:00",
          "2017-01-02T00:00:00",
          "2017-01-02T00:30:00",
          "2017-01-02T01:00:00",
          "2017-01-02T01:30:00",
          "2017-01-02T02:00:00",
          "2017-01-02T02:30:00",
          "2017-01-02T03:00:00",
          "2017-01-02T03:30:00",
          "2017-01-02T04:00:00",
          "2017-01-02T04:30:00",
          "2017-01-02T05:00:00",
          "2017-01-02T05:30:00"
         ],
         "xaxis": "x",
         "y": [
          0,
          1.149999976158142,
          0,
          0,
          0,
          0,
          0,
          0,
          0,
          0,
          0,
          42.400001525878906,
          1.149999976158142,
          8.020000457763672,
          1.149999976158142,
          2.2899999618530273,
          3.440000295639038,
          3.440000295639038,
          10.3100004196167,
          29.799999237060547,
          22.920001983642578,
          0,
          0,
          27.510000228881836,
          1.149999976158142,
          0,
          0,
          0,
          0,
          0,
          0,
          0,
          0,
          0,
          0,
          0,
          0,
          0,
          0,
          0,
          0,
          0,
          0,
          0,
          0,
          0,
          0,
          0,
          0,
          0,
          0,
          0,
          0,
          0,
          0,
          0,
          0,
          0,
          0,
          0
         ],
         "yaxis": "y"
        },
        {
         "hovertemplate": "elapsed_time=%{x}<br>infilt_media_mm/hs=%{y}<extra></extra>",
         "legendgroup": "",
         "line": {
          "color": "#125AEF",
          "dash": "solid",
          "width": 5
         },
         "marker": {
          "color": [
           "black"
          ]
         },
         "mode": "lines",
         "name": "",
         "orientation": "v",
         "showlegend": false,
         "type": "scatter",
         "x": [
          "2017-01-01T00:15:00",
          "2017-01-01T00:45:00",
          "2017-01-01T01:15:00",
          "2017-01-01T01:45:00",
          "2017-01-01T02:15:00",
          "2017-01-01T02:45:00",
          "2017-01-01T03:15:00",
          "2017-01-01T03:45:00",
          "2017-01-01T04:15:00",
          "2017-01-01T04:45:00",
          "2017-01-01T05:15:00",
          "2017-01-01T05:45:00",
          "2017-01-01T06:15:00",
          "2017-01-01T06:45:00",
          "2017-01-01T07:15:00",
          "2017-01-01T07:45:00",
          "2017-01-01T08:15:00",
          "2017-01-01T08:45:00",
          "2017-01-01T09:15:00",
          "2017-01-01T09:45:00",
          "2017-01-01T10:15:00",
          "2017-01-01T10:45:00",
          "2017-01-01T11:15:00",
          "2017-01-01T11:45:00",
          "2017-01-01T12:15:00",
          "2017-01-01T12:45:00",
          "2017-01-01T13:15:00",
          "2017-01-01T13:45:00",
          "2017-01-01T14:15:00",
          "2017-01-01T14:45:00",
          "2017-01-01T15:15:00",
          "2017-01-01T15:45:00",
          "2017-01-01T16:15:00",
          "2017-01-01T16:45:00",
          "2017-01-01T17:15:00",
          "2017-01-01T17:45:00",
          "2017-01-01T18:15:00",
          "2017-01-01T18:45:00",
          "2017-01-01T19:15:00",
          "2017-01-01T19:45:00",
          "2017-01-01T20:15:00",
          "2017-01-01T20:45:00",
          "2017-01-01T21:15:00",
          "2017-01-01T21:45:00",
          "2017-01-01T22:15:00",
          "2017-01-01T22:45:00",
          "2017-01-01T23:15:00",
          "2017-01-01T23:45:00",
          "2017-01-02T00:15:00",
          "2017-01-02T00:45:00",
          "2017-01-02T01:15:00",
          "2017-01-02T01:45:00",
          "2017-01-02T02:15:00",
          "2017-01-02T02:45:00",
          "2017-01-02T03:15:00",
          "2017-01-02T03:45:00",
          "2017-01-02T04:15:00",
          "2017-01-02T04:45:00",
          "2017-01-02T05:15:00",
          "2017-01-02T05:45:00"
         ],
         "xaxis": "x",
         "y": [
          0,
          1.14,
          0,
          0,
          0,
          0,
          0,
          0,
          0,
          0,
          0,
          16.38,
          8.15,
          6.69,
          1.65,
          2.27,
          5.63,
          5.2,
          5.04,
          4.98,
          4.96,
          4.95,
          4.33,
          4.96,
          4.95,
          3.79,
          0.58,
          0,
          0,
          0,
          0,
          0,
          0,
          0,
          0,
          0,
          0,
          0,
          0,
          0,
          0,
          0,
          0,
          0,
          0,
          0,
          0,
          0,
          0,
          0,
          0,
          0,
          0,
          0,
          0,
          0,
          0,
          0,
          0,
          0
         ],
         "yaxis": "y2"
        }
       ],
       "layout": {
        "font": {
         "size": 25
        },
        "height": 600,
        "plot_bgcolor": "white",
        "showlegend": false,
        "template": {
         "data": {
          "bar": [
           {
            "error_x": {
             "color": "#2a3f5f"
            },
            "error_y": {
             "color": "#2a3f5f"
            },
            "marker": {
             "line": {
              "color": "#E5ECF6",
              "width": 0.5
             }
            },
            "type": "bar"
           }
          ],
          "barpolar": [
           {
            "marker": {
             "line": {
              "color": "#E5ECF6",
              "width": 0.5
             }
            },
            "type": "barpolar"
           }
          ],
          "carpet": [
           {
            "aaxis": {
             "endlinecolor": "#2a3f5f",
             "gridcolor": "white",
             "linecolor": "white",
             "minorgridcolor": "white",
             "startlinecolor": "#2a3f5f"
            },
            "baxis": {
             "endlinecolor": "#2a3f5f",
             "gridcolor": "white",
             "linecolor": "white",
             "minorgridcolor": "white",
             "startlinecolor": "#2a3f5f"
            },
            "type": "carpet"
           }
          ],
          "choropleth": [
           {
            "colorbar": {
             "outlinewidth": 0,
             "ticks": ""
            },
            "type": "choropleth"
           }
          ],
          "contour": [
           {
            "colorbar": {
             "outlinewidth": 0,
             "ticks": ""
            },
            "colorscale": [
             [
              0,
              "#0d0887"
             ],
             [
              0.1111111111111111,
              "#46039f"
             ],
             [
              0.2222222222222222,
              "#7201a8"
             ],
             [
              0.3333333333333333,
              "#9c179e"
             ],
             [
              0.4444444444444444,
              "#bd3786"
             ],
             [
              0.5555555555555556,
              "#d8576b"
             ],
             [
              0.6666666666666666,
              "#ed7953"
             ],
             [
              0.7777777777777778,
              "#fb9f3a"
             ],
             [
              0.8888888888888888,
              "#fdca26"
             ],
             [
              1,
              "#f0f921"
             ]
            ],
            "type": "contour"
           }
          ],
          "contourcarpet": [
           {
            "colorbar": {
             "outlinewidth": 0,
             "ticks": ""
            },
            "type": "contourcarpet"
           }
          ],
          "heatmap": [
           {
            "colorbar": {
             "outlinewidth": 0,
             "ticks": ""
            },
            "colorscale": [
             [
              0,
              "#0d0887"
             ],
             [
              0.1111111111111111,
              "#46039f"
             ],
             [
              0.2222222222222222,
              "#7201a8"
             ],
             [
              0.3333333333333333,
              "#9c179e"
             ],
             [
              0.4444444444444444,
              "#bd3786"
             ],
             [
              0.5555555555555556,
              "#d8576b"
             ],
             [
              0.6666666666666666,
              "#ed7953"
             ],
             [
              0.7777777777777778,
              "#fb9f3a"
             ],
             [
              0.8888888888888888,
              "#fdca26"
             ],
             [
              1,
              "#f0f921"
             ]
            ],
            "type": "heatmap"
           }
          ],
          "heatmapgl": [
           {
            "colorbar": {
             "outlinewidth": 0,
             "ticks": ""
            },
            "colorscale": [
             [
              0,
              "#0d0887"
             ],
             [
              0.1111111111111111,
              "#46039f"
             ],
             [
              0.2222222222222222,
              "#7201a8"
             ],
             [
              0.3333333333333333,
              "#9c179e"
             ],
             [
              0.4444444444444444,
              "#bd3786"
             ],
             [
              0.5555555555555556,
              "#d8576b"
             ],
             [
              0.6666666666666666,
              "#ed7953"
             ],
             [
              0.7777777777777778,
              "#fb9f3a"
             ],
             [
              0.8888888888888888,
              "#fdca26"
             ],
             [
              1,
              "#f0f921"
             ]
            ],
            "type": "heatmapgl"
           }
          ],
          "histogram": [
           {
            "marker": {
             "colorbar": {
              "outlinewidth": 0,
              "ticks": ""
             }
            },
            "type": "histogram"
           }
          ],
          "histogram2d": [
           {
            "colorbar": {
             "outlinewidth": 0,
             "ticks": ""
            },
            "colorscale": [
             [
              0,
              "#0d0887"
             ],
             [
              0.1111111111111111,
              "#46039f"
             ],
             [
              0.2222222222222222,
              "#7201a8"
             ],
             [
              0.3333333333333333,
              "#9c179e"
             ],
             [
              0.4444444444444444,
              "#bd3786"
             ],
             [
              0.5555555555555556,
              "#d8576b"
             ],
             [
              0.6666666666666666,
              "#ed7953"
             ],
             [
              0.7777777777777778,
              "#fb9f3a"
             ],
             [
              0.8888888888888888,
              "#fdca26"
             ],
             [
              1,
              "#f0f921"
             ]
            ],
            "type": "histogram2d"
           }
          ],
          "histogram2dcontour": [
           {
            "colorbar": {
             "outlinewidth": 0,
             "ticks": ""
            },
            "colorscale": [
             [
              0,
              "#0d0887"
             ],
             [
              0.1111111111111111,
              "#46039f"
             ],
             [
              0.2222222222222222,
              "#7201a8"
             ],
             [
              0.3333333333333333,
              "#9c179e"
             ],
             [
              0.4444444444444444,
              "#bd3786"
             ],
             [
              0.5555555555555556,
              "#d8576b"
             ],
             [
              0.6666666666666666,
              "#ed7953"
             ],
             [
              0.7777777777777778,
              "#fb9f3a"
             ],
             [
              0.8888888888888888,
              "#fdca26"
             ],
             [
              1,
              "#f0f921"
             ]
            ],
            "type": "histogram2dcontour"
           }
          ],
          "mesh3d": [
           {
            "colorbar": {
             "outlinewidth": 0,
             "ticks": ""
            },
            "type": "mesh3d"
           }
          ],
          "parcoords": [
           {
            "line": {
             "colorbar": {
              "outlinewidth": 0,
              "ticks": ""
             }
            },
            "type": "parcoords"
           }
          ],
          "pie": [
           {
            "automargin": true,
            "type": "pie"
           }
          ],
          "scatter": [
           {
            "marker": {
             "colorbar": {
              "outlinewidth": 0,
              "ticks": ""
             }
            },
            "type": "scatter"
           }
          ],
          "scatter3d": [
           {
            "line": {
             "colorbar": {
              "outlinewidth": 0,
              "ticks": ""
             }
            },
            "marker": {
             "colorbar": {
              "outlinewidth": 0,
              "ticks": ""
             }
            },
            "type": "scatter3d"
           }
          ],
          "scattercarpet": [
           {
            "marker": {
             "colorbar": {
              "outlinewidth": 0,
              "ticks": ""
             }
            },
            "type": "scattercarpet"
           }
          ],
          "scattergeo": [
           {
            "marker": {
             "colorbar": {
              "outlinewidth": 0,
              "ticks": ""
             }
            },
            "type": "scattergeo"
           }
          ],
          "scattergl": [
           {
            "marker": {
             "colorbar": {
              "outlinewidth": 0,
              "ticks": ""
             }
            },
            "type": "scattergl"
           }
          ],
          "scattermapbox": [
           {
            "marker": {
             "colorbar": {
              "outlinewidth": 0,
              "ticks": ""
             }
            },
            "type": "scattermapbox"
           }
          ],
          "scatterpolar": [
           {
            "marker": {
             "colorbar": {
              "outlinewidth": 0,
              "ticks": ""
             }
            },
            "type": "scatterpolar"
           }
          ],
          "scatterpolargl": [
           {
            "marker": {
             "colorbar": {
              "outlinewidth": 0,
              "ticks": ""
             }
            },
            "type": "scatterpolargl"
           }
          ],
          "scatterternary": [
           {
            "marker": {
             "colorbar": {
              "outlinewidth": 0,
              "ticks": ""
             }
            },
            "type": "scatterternary"
           }
          ],
          "surface": [
           {
            "colorbar": {
             "outlinewidth": 0,
             "ticks": ""
            },
            "colorscale": [
             [
              0,
              "#0d0887"
             ],
             [
              0.1111111111111111,
              "#46039f"
             ],
             [
              0.2222222222222222,
              "#7201a8"
             ],
             [
              0.3333333333333333,
              "#9c179e"
             ],
             [
              0.4444444444444444,
              "#bd3786"
             ],
             [
              0.5555555555555556,
              "#d8576b"
             ],
             [
              0.6666666666666666,
              "#ed7953"
             ],
             [
              0.7777777777777778,
              "#fb9f3a"
             ],
             [
              0.8888888888888888,
              "#fdca26"
             ],
             [
              1,
              "#f0f921"
             ]
            ],
            "type": "surface"
           }
          ],
          "table": [
           {
            "cells": {
             "fill": {
              "color": "#EBF0F8"
             },
             "line": {
              "color": "white"
             }
            },
            "header": {
             "fill": {
              "color": "#C8D4E3"
             },
             "line": {
              "color": "white"
             }
            },
            "type": "table"
           }
          ]
         },
         "layout": {
          "annotationdefaults": {
           "arrowcolor": "#2a3f5f",
           "arrowhead": 0,
           "arrowwidth": 1
          },
          "coloraxis": {
           "colorbar": {
            "outlinewidth": 0,
            "ticks": ""
           }
          },
          "colorscale": {
           "diverging": [
            [
             0,
             "#8e0152"
            ],
            [
             0.1,
             "#c51b7d"
            ],
            [
             0.2,
             "#de77ae"
            ],
            [
             0.3,
             "#f1b6da"
            ],
            [
             0.4,
             "#fde0ef"
            ],
            [
             0.5,
             "#f7f7f7"
            ],
            [
             0.6,
             "#e6f5d0"
            ],
            [
             0.7,
             "#b8e186"
            ],
            [
             0.8,
             "#7fbc41"
            ],
            [
             0.9,
             "#4d9221"
            ],
            [
             1,
             "#276419"
            ]
           ],
           "sequential": [
            [
             0,
             "#0d0887"
            ],
            [
             0.1111111111111111,
             "#46039f"
            ],
            [
             0.2222222222222222,
             "#7201a8"
            ],
            [
             0.3333333333333333,
             "#9c179e"
            ],
            [
             0.4444444444444444,
             "#bd3786"
            ],
            [
             0.5555555555555556,
             "#d8576b"
            ],
            [
             0.6666666666666666,
             "#ed7953"
            ],
            [
             0.7777777777777778,
             "#fb9f3a"
            ],
            [
             0.8888888888888888,
             "#fdca26"
            ],
            [
             1,
             "#f0f921"
            ]
           ],
           "sequentialminus": [
            [
             0,
             "#0d0887"
            ],
            [
             0.1111111111111111,
             "#46039f"
            ],
            [
             0.2222222222222222,
             "#7201a8"
            ],
            [
             0.3333333333333333,
             "#9c179e"
            ],
            [
             0.4444444444444444,
             "#bd3786"
            ],
            [
             0.5555555555555556,
             "#d8576b"
            ],
            [
             0.6666666666666666,
             "#ed7953"
            ],
            [
             0.7777777777777778,
             "#fb9f3a"
            ],
            [
             0.8888888888888888,
             "#fdca26"
            ],
            [
             1,
             "#f0f921"
            ]
           ]
          },
          "colorway": [
           "#636efa",
           "#EF553B",
           "#00cc96",
           "#ab63fa",
           "#FFA15A",
           "#19d3f3",
           "#FF6692",
           "#B6E880",
           "#FF97FF",
           "#FECB52"
          ],
          "font": {
           "color": "#2a3f5f"
          },
          "geo": {
           "bgcolor": "white",
           "lakecolor": "white",
           "landcolor": "#E5ECF6",
           "showlakes": true,
           "showland": true,
           "subunitcolor": "white"
          },
          "hoverlabel": {
           "align": "left"
          },
          "hovermode": "closest",
          "mapbox": {
           "style": "light"
          },
          "paper_bgcolor": "white",
          "plot_bgcolor": "#E5ECF6",
          "polar": {
           "angularaxis": {
            "gridcolor": "white",
            "linecolor": "white",
            "ticks": ""
           },
           "bgcolor": "#E5ECF6",
           "radialaxis": {
            "gridcolor": "white",
            "linecolor": "white",
            "ticks": ""
           }
          },
          "scene": {
           "xaxis": {
            "backgroundcolor": "#E5ECF6",
            "gridcolor": "white",
            "gridwidth": 2,
            "linecolor": "white",
            "showbackground": true,
            "ticks": "",
            "zerolinecolor": "white"
           },
           "yaxis": {
            "backgroundcolor": "#E5ECF6",
            "gridcolor": "white",
            "gridwidth": 2,
            "linecolor": "white",
            "showbackground": true,
            "ticks": "",
            "zerolinecolor": "white"
           },
           "zaxis": {
            "backgroundcolor": "#E5ECF6",
            "gridcolor": "white",
            "gridwidth": 2,
            "linecolor": "white",
            "showbackground": true,
            "ticks": "",
            "zerolinecolor": "white"
           }
          },
          "shapedefaults": {
           "line": {
            "color": "#2a3f5f"
           }
          },
          "ternary": {
           "aaxis": {
            "gridcolor": "white",
            "linecolor": "white",
            "ticks": ""
           },
           "baxis": {
            "gridcolor": "white",
            "linecolor": "white",
            "ticks": ""
           },
           "bgcolor": "#E5ECF6",
           "caxis": {
            "gridcolor": "white",
            "linecolor": "white",
            "ticks": ""
           }
          },
          "title": {
           "x": 0.05
          },
          "xaxis": {
           "automargin": true,
           "gridcolor": "white",
           "linecolor": "white",
           "ticks": "",
           "title": {
            "standoff": 15
           },
           "zerolinecolor": "white",
           "zerolinewidth": 2
          },
          "yaxis": {
           "automargin": true,
           "gridcolor": "white",
           "linecolor": "white",
           "ticks": "",
           "title": {
            "standoff": 15
           },
           "zerolinecolor": "white",
           "zerolinewidth": 2
          }
         }
        },
        "width": 1200,
        "xaxis": {
         "anchor": "y",
         "domain": [
          0,
          0.94
         ],
         "linecolor": "black",
         "linewidth": 3,
         "mirror": true,
         "showline": true,
         "tickcolor": "black",
         "tickformat": "%d-%b %Hh",
         "ticklen": 10,
         "ticks": "inside",
         "tickwidth": 2,
         "title": {
          "text": ""
         }
        },
        "yaxis": {
         "anchor": "x",
         "autorange": "reversed",
         "domain": [
          0,
          1
         ],
         "linecolor": "black",
         "linewidth": 3,
         "mirror": true,
         "range": [
          0,
          63.60000228881836
         ],
         "showline": true,
         "tickcolor": "black",
         "ticklen": 10,
         "ticks": "inside",
         "tickwidth": 2,
         "title": {
          "text": "Precipitation intensity (mm/h)"
         }
        },
        "yaxis2": {
         "anchor": "x",
         "autorange": false,
         "linecolor": "black",
         "linewidth": 3,
         "mirror": true,
         "overlaying": "y",
         "range": [
          0,
          24.57
         ],
         "showline": true,
         "side": "right",
         "tickcolor": "black",
         "ticklen": 10,
         "ticks": "inside",
         "tickwidth": 2,
         "title": {
          "text": "Infilt Media [mm/hs]"
         }
        }
       }
      },
      "text/html": "<div>\n        \n        \n            <div id=\"cdd72993-1997-4fa5-9587-fb46695c8a15\" class=\"plotly-graph-div\" style=\"height:600px; width:1200px;\"></div>\n            <script type=\"text/javascript\">\n                require([\"plotly\"], function(Plotly) {\n                    window.PLOTLYENV=window.PLOTLYENV || {};\n                    \n                if (document.getElementById(\"cdd72993-1997-4fa5-9587-fb46695c8a15\")) {\n                    Plotly.newPlot(\n                        'cdd72993-1997-4fa5-9587-fb46695c8a15',\n                        [{\"alignmentgroup\": \"True\", \"hovertemplate\": \"elapsed_time=%{x}<br>rainfall=%{y}<extra></extra>\", \"legendgroup\": \"\", \"marker\": {\"color\": [\"black\"]}, \"name\": \"\", \"offsetgroup\": \"\", \"orientation\": \"v\", \"showlegend\": false, \"textposition\": \"auto\", \"type\": \"bar\", \"x\": [\"2017-01-01T00:00:00\", \"2017-01-01T00:30:00\", \"2017-01-01T01:00:00\", \"2017-01-01T01:30:00\", \"2017-01-01T02:00:00\", \"2017-01-01T02:30:00\", \"2017-01-01T03:00:00\", \"2017-01-01T03:30:00\", \"2017-01-01T04:00:00\", \"2017-01-01T04:30:00\", \"2017-01-01T05:00:00\", \"2017-01-01T05:30:00\", \"2017-01-01T06:00:00\", \"2017-01-01T06:30:00\", \"2017-01-01T07:00:00\", \"2017-01-01T07:30:00\", \"2017-01-01T08:00:00\", \"2017-01-01T08:30:00\", \"2017-01-01T09:00:00\", \"2017-01-01T09:30:00\", \"2017-01-01T10:00:00\", \"2017-01-01T10:30:00\", \"2017-01-01T11:00:00\", \"2017-01-01T11:30:00\", \"2017-01-01T12:00:00\", \"2017-01-01T12:30:00\", \"2017-01-01T13:00:00\", \"2017-01-01T13:30:00\", \"2017-01-01T14:00:00\", \"2017-01-01T14:30:00\", \"2017-01-01T15:00:00\", \"2017-01-01T15:30:00\", \"2017-01-01T16:00:00\", \"2017-01-01T16:30:00\", \"2017-01-01T17:00:00\", \"2017-01-01T17:30:00\", \"2017-01-01T18:00:00\", \"2017-01-01T18:30:00\", \"2017-01-01T19:00:00\", \"2017-01-01T19:30:00\", \"2017-01-01T20:00:00\", \"2017-01-01T20:30:00\", \"2017-01-01T21:00:00\", \"2017-01-01T21:30:00\", \"2017-01-01T22:00:00\", \"2017-01-01T22:30:00\", \"2017-01-01T23:00:00\", \"2017-01-01T23:30:00\", \"2017-01-02T00:00:00\", \"2017-01-02T00:30:00\", \"2017-01-02T01:00:00\", \"2017-01-02T01:30:00\", \"2017-01-02T02:00:00\", \"2017-01-02T02:30:00\", \"2017-01-02T03:00:00\", \"2017-01-02T03:30:00\", \"2017-01-02T04:00:00\", \"2017-01-02T04:30:00\", \"2017-01-02T05:00:00\", \"2017-01-02T05:30:00\"], \"xaxis\": \"x\", \"y\": [0.0, 1.149999976158142, 0.0, 0.0, 0.0, 0.0, 0.0, 0.0, 0.0, 0.0, 0.0, 42.400001525878906, 1.149999976158142, 8.020000457763672, 1.149999976158142, 2.2899999618530273, 3.440000295639038, 3.440000295639038, 10.3100004196167, 29.799999237060547, 22.920001983642578, 0.0, 0.0, 27.510000228881836, 1.149999976158142, 0.0, 0.0, 0.0, 0.0, 0.0, 0.0, 0.0, 0.0, 0.0, 0.0, 0.0, 0.0, 0.0, 0.0, 0.0, 0.0, 0.0, 0.0, 0.0, 0.0, 0.0, 0.0, 0.0, 0.0, 0.0, 0.0, 0.0, 0.0, 0.0, 0.0, 0.0, 0.0, 0.0, 0.0, 0.0], \"yaxis\": \"y\"}, {\"hovertemplate\": \"elapsed_time=%{x}<br>infilt_media_mm/hs=%{y}<extra></extra>\", \"legendgroup\": \"\", \"line\": {\"color\": \"#125AEF\", \"dash\": \"solid\", \"width\": 5}, \"marker\": {\"color\": [\"black\"]}, \"mode\": \"lines\", \"name\": \"\", \"orientation\": \"v\", \"showlegend\": false, \"type\": \"scatter\", \"x\": [\"2017-01-01T00:15:00\", \"2017-01-01T00:45:00\", \"2017-01-01T01:15:00\", \"2017-01-01T01:45:00\", \"2017-01-01T02:15:00\", \"2017-01-01T02:45:00\", \"2017-01-01T03:15:00\", \"2017-01-01T03:45:00\", \"2017-01-01T04:15:00\", \"2017-01-01T04:45:00\", \"2017-01-01T05:15:00\", \"2017-01-01T05:45:00\", \"2017-01-01T06:15:00\", \"2017-01-01T06:45:00\", \"2017-01-01T07:15:00\", \"2017-01-01T07:45:00\", \"2017-01-01T08:15:00\", \"2017-01-01T08:45:00\", \"2017-01-01T09:15:00\", \"2017-01-01T09:45:00\", \"2017-01-01T10:15:00\", \"2017-01-01T10:45:00\", \"2017-01-01T11:15:00\", \"2017-01-01T11:45:00\", \"2017-01-01T12:15:00\", \"2017-01-01T12:45:00\", \"2017-01-01T13:15:00\", \"2017-01-01T13:45:00\", \"2017-01-01T14:15:00\", \"2017-01-01T14:45:00\", \"2017-01-01T15:15:00\", \"2017-01-01T15:45:00\", \"2017-01-01T16:15:00\", \"2017-01-01T16:45:00\", \"2017-01-01T17:15:00\", \"2017-01-01T17:45:00\", \"2017-01-01T18:15:00\", \"2017-01-01T18:45:00\", \"2017-01-01T19:15:00\", \"2017-01-01T19:45:00\", \"2017-01-01T20:15:00\", \"2017-01-01T20:45:00\", \"2017-01-01T21:15:00\", \"2017-01-01T21:45:00\", \"2017-01-01T22:15:00\", \"2017-01-01T22:45:00\", \"2017-01-01T23:15:00\", \"2017-01-01T23:45:00\", \"2017-01-02T00:15:00\", \"2017-01-02T00:45:00\", \"2017-01-02T01:15:00\", \"2017-01-02T01:45:00\", \"2017-01-02T02:15:00\", \"2017-01-02T02:45:00\", \"2017-01-02T03:15:00\", \"2017-01-02T03:45:00\", \"2017-01-02T04:15:00\", \"2017-01-02T04:45:00\", \"2017-01-02T05:15:00\", \"2017-01-02T05:45:00\"], \"xaxis\": \"x\", \"y\": [0.0, 1.14, 0.0, 0.0, 0.0, 0.0, 0.0, 0.0, 0.0, 0.0, 0.0, 16.38, 8.15, 6.69, 1.65, 2.27, 5.63, 5.2, 5.04, 4.98, 4.96, 4.95, 4.33, 4.96, 4.95, 3.79, 0.58, 0.0, 0.0, 0.0, 0.0, 0.0, 0.0, 0.0, 0.0, 0.0, 0.0, 0.0, 0.0, 0.0, 0.0, 0.0, 0.0, 0.0, 0.0, 0.0, 0.0, 0.0, 0.0, 0.0, 0.0, 0.0, 0.0, 0.0, 0.0, 0.0, 0.0, 0.0, 0.0, 0.0], \"yaxis\": \"y2\"}],\n                        {\"font\": {\"size\": 25}, \"height\": 600, \"plot_bgcolor\": \"white\", \"showlegend\": false, \"template\": {\"data\": {\"bar\": [{\"error_x\": {\"color\": \"#2a3f5f\"}, \"error_y\": {\"color\": \"#2a3f5f\"}, \"marker\": {\"line\": {\"color\": \"#E5ECF6\", \"width\": 0.5}}, \"type\": \"bar\"}], \"barpolar\": [{\"marker\": {\"line\": {\"color\": \"#E5ECF6\", \"width\": 0.5}}, \"type\": \"barpolar\"}], \"carpet\": [{\"aaxis\": {\"endlinecolor\": \"#2a3f5f\", \"gridcolor\": \"white\", \"linecolor\": \"white\", \"minorgridcolor\": \"white\", \"startlinecolor\": \"#2a3f5f\"}, \"baxis\": {\"endlinecolor\": \"#2a3f5f\", \"gridcolor\": \"white\", \"linecolor\": \"white\", \"minorgridcolor\": \"white\", \"startlinecolor\": \"#2a3f5f\"}, \"type\": \"carpet\"}], \"choropleth\": [{\"colorbar\": {\"outlinewidth\": 0, \"ticks\": \"\"}, \"type\": \"choropleth\"}], \"contour\": [{\"colorbar\": {\"outlinewidth\": 0, \"ticks\": \"\"}, \"colorscale\": [[0.0, \"#0d0887\"], [0.1111111111111111, \"#46039f\"], [0.2222222222222222, \"#7201a8\"], [0.3333333333333333, \"#9c179e\"], [0.4444444444444444, \"#bd3786\"], [0.5555555555555556, \"#d8576b\"], [0.6666666666666666, \"#ed7953\"], [0.7777777777777778, \"#fb9f3a\"], [0.8888888888888888, \"#fdca26\"], [1.0, \"#f0f921\"]], \"type\": \"contour\"}], \"contourcarpet\": [{\"colorbar\": {\"outlinewidth\": 0, \"ticks\": \"\"}, \"type\": \"contourcarpet\"}], \"heatmap\": [{\"colorbar\": {\"outlinewidth\": 0, \"ticks\": \"\"}, \"colorscale\": [[0.0, \"#0d0887\"], [0.1111111111111111, \"#46039f\"], [0.2222222222222222, \"#7201a8\"], [0.3333333333333333, \"#9c179e\"], [0.4444444444444444, \"#bd3786\"], [0.5555555555555556, \"#d8576b\"], [0.6666666666666666, \"#ed7953\"], [0.7777777777777778, \"#fb9f3a\"], [0.8888888888888888, \"#fdca26\"], [1.0, \"#f0f921\"]], \"type\": \"heatmap\"}], \"heatmapgl\": [{\"colorbar\": {\"outlinewidth\": 0, \"ticks\": \"\"}, \"colorscale\": [[0.0, \"#0d0887\"], [0.1111111111111111, \"#46039f\"], [0.2222222222222222, \"#7201a8\"], [0.3333333333333333, \"#9c179e\"], [0.4444444444444444, \"#bd3786\"], [0.5555555555555556, \"#d8576b\"], [0.6666666666666666, \"#ed7953\"], [0.7777777777777778, \"#fb9f3a\"], [0.8888888888888888, \"#fdca26\"], [1.0, \"#f0f921\"]], \"type\": \"heatmapgl\"}], \"histogram\": [{\"marker\": {\"colorbar\": {\"outlinewidth\": 0, \"ticks\": \"\"}}, \"type\": \"histogram\"}], \"histogram2d\": [{\"colorbar\": {\"outlinewidth\": 0, \"ticks\": \"\"}, \"colorscale\": [[0.0, \"#0d0887\"], [0.1111111111111111, \"#46039f\"], [0.2222222222222222, \"#7201a8\"], [0.3333333333333333, \"#9c179e\"], [0.4444444444444444, \"#bd3786\"], [0.5555555555555556, \"#d8576b\"], [0.6666666666666666, \"#ed7953\"], [0.7777777777777778, \"#fb9f3a\"], [0.8888888888888888, \"#fdca26\"], [1.0, \"#f0f921\"]], \"type\": \"histogram2d\"}], \"histogram2dcontour\": [{\"colorbar\": {\"outlinewidth\": 0, \"ticks\": \"\"}, \"colorscale\": [[0.0, \"#0d0887\"], [0.1111111111111111, \"#46039f\"], [0.2222222222222222, \"#7201a8\"], [0.3333333333333333, \"#9c179e\"], [0.4444444444444444, \"#bd3786\"], [0.5555555555555556, \"#d8576b\"], [0.6666666666666666, \"#ed7953\"], [0.7777777777777778, \"#fb9f3a\"], [0.8888888888888888, \"#fdca26\"], [1.0, \"#f0f921\"]], \"type\": \"histogram2dcontour\"}], \"mesh3d\": [{\"colorbar\": {\"outlinewidth\": 0, \"ticks\": \"\"}, \"type\": \"mesh3d\"}], \"parcoords\": [{\"line\": {\"colorbar\": {\"outlinewidth\": 0, \"ticks\": \"\"}}, \"type\": \"parcoords\"}], \"pie\": [{\"automargin\": true, \"type\": \"pie\"}], \"scatter\": [{\"marker\": {\"colorbar\": {\"outlinewidth\": 0, \"ticks\": \"\"}}, \"type\": \"scatter\"}], \"scatter3d\": [{\"line\": {\"colorbar\": {\"outlinewidth\": 0, \"ticks\": \"\"}}, \"marker\": {\"colorbar\": {\"outlinewidth\": 0, \"ticks\": \"\"}}, \"type\": \"scatter3d\"}], \"scattercarpet\": [{\"marker\": {\"colorbar\": {\"outlinewidth\": 0, \"ticks\": \"\"}}, \"type\": \"scattercarpet\"}], \"scattergeo\": [{\"marker\": {\"colorbar\": {\"outlinewidth\": 0, \"ticks\": \"\"}}, \"type\": \"scattergeo\"}], \"scattergl\": [{\"marker\": {\"colorbar\": {\"outlinewidth\": 0, \"ticks\": \"\"}}, \"type\": \"scattergl\"}], \"scattermapbox\": [{\"marker\": {\"colorbar\": {\"outlinewidth\": 0, \"ticks\": \"\"}}, \"type\": \"scattermapbox\"}], \"scatterpolar\": [{\"marker\": {\"colorbar\": {\"outlinewidth\": 0, \"ticks\": \"\"}}, \"type\": \"scatterpolar\"}], \"scatterpolargl\": [{\"marker\": {\"colorbar\": {\"outlinewidth\": 0, \"ticks\": \"\"}}, \"type\": \"scatterpolargl\"}], \"scatterternary\": [{\"marker\": {\"colorbar\": {\"outlinewidth\": 0, \"ticks\": \"\"}}, \"type\": \"scatterternary\"}], \"surface\": [{\"colorbar\": {\"outlinewidth\": 0, \"ticks\": \"\"}, \"colorscale\": [[0.0, \"#0d0887\"], [0.1111111111111111, \"#46039f\"], [0.2222222222222222, \"#7201a8\"], [0.3333333333333333, \"#9c179e\"], [0.4444444444444444, \"#bd3786\"], [0.5555555555555556, \"#d8576b\"], [0.6666666666666666, \"#ed7953\"], [0.7777777777777778, \"#fb9f3a\"], [0.8888888888888888, \"#fdca26\"], [1.0, \"#f0f921\"]], \"type\": \"surface\"}], \"table\": [{\"cells\": {\"fill\": {\"color\": \"#EBF0F8\"}, \"line\": {\"color\": \"white\"}}, \"header\": {\"fill\": {\"color\": \"#C8D4E3\"}, \"line\": {\"color\": \"white\"}}, \"type\": \"table\"}]}, \"layout\": {\"annotationdefaults\": {\"arrowcolor\": \"#2a3f5f\", \"arrowhead\": 0, \"arrowwidth\": 1}, \"coloraxis\": {\"colorbar\": {\"outlinewidth\": 0, \"ticks\": \"\"}}, \"colorscale\": {\"diverging\": [[0, \"#8e0152\"], [0.1, \"#c51b7d\"], [0.2, \"#de77ae\"], [0.3, \"#f1b6da\"], [0.4, \"#fde0ef\"], [0.5, \"#f7f7f7\"], [0.6, \"#e6f5d0\"], [0.7, \"#b8e186\"], [0.8, \"#7fbc41\"], [0.9, \"#4d9221\"], [1, \"#276419\"]], \"sequential\": [[0.0, \"#0d0887\"], [0.1111111111111111, \"#46039f\"], [0.2222222222222222, \"#7201a8\"], [0.3333333333333333, \"#9c179e\"], [0.4444444444444444, \"#bd3786\"], [0.5555555555555556, \"#d8576b\"], [0.6666666666666666, \"#ed7953\"], [0.7777777777777778, \"#fb9f3a\"], [0.8888888888888888, \"#fdca26\"], [1.0, \"#f0f921\"]], \"sequentialminus\": [[0.0, \"#0d0887\"], [0.1111111111111111, \"#46039f\"], [0.2222222222222222, \"#7201a8\"], [0.3333333333333333, \"#9c179e\"], [0.4444444444444444, \"#bd3786\"], [0.5555555555555556, \"#d8576b\"], [0.6666666666666666, \"#ed7953\"], [0.7777777777777778, \"#fb9f3a\"], [0.8888888888888888, \"#fdca26\"], [1.0, \"#f0f921\"]]}, \"colorway\": [\"#636efa\", \"#EF553B\", \"#00cc96\", \"#ab63fa\", \"#FFA15A\", \"#19d3f3\", \"#FF6692\", \"#B6E880\", \"#FF97FF\", \"#FECB52\"], \"font\": {\"color\": \"#2a3f5f\"}, \"geo\": {\"bgcolor\": \"white\", \"lakecolor\": \"white\", \"landcolor\": \"#E5ECF6\", \"showlakes\": true, \"showland\": true, \"subunitcolor\": \"white\"}, \"hoverlabel\": {\"align\": \"left\"}, \"hovermode\": \"closest\", \"mapbox\": {\"style\": \"light\"}, \"paper_bgcolor\": \"white\", \"plot_bgcolor\": \"#E5ECF6\", \"polar\": {\"angularaxis\": {\"gridcolor\": \"white\", \"linecolor\": \"white\", \"ticks\": \"\"}, \"bgcolor\": \"#E5ECF6\", \"radialaxis\": {\"gridcolor\": \"white\", \"linecolor\": \"white\", \"ticks\": \"\"}}, \"scene\": {\"xaxis\": {\"backgroundcolor\": \"#E5ECF6\", \"gridcolor\": \"white\", \"gridwidth\": 2, \"linecolor\": \"white\", \"showbackground\": true, \"ticks\": \"\", \"zerolinecolor\": \"white\"}, \"yaxis\": {\"backgroundcolor\": \"#E5ECF6\", \"gridcolor\": \"white\", \"gridwidth\": 2, \"linecolor\": \"white\", \"showbackground\": true, \"ticks\": \"\", \"zerolinecolor\": \"white\"}, \"zaxis\": {\"backgroundcolor\": \"#E5ECF6\", \"gridcolor\": \"white\", \"gridwidth\": 2, \"linecolor\": \"white\", \"showbackground\": true, \"ticks\": \"\", \"zerolinecolor\": \"white\"}}, \"shapedefaults\": {\"line\": {\"color\": \"#2a3f5f\"}}, \"ternary\": {\"aaxis\": {\"gridcolor\": \"white\", \"linecolor\": \"white\", \"ticks\": \"\"}, \"baxis\": {\"gridcolor\": \"white\", \"linecolor\": \"white\", \"ticks\": \"\"}, \"bgcolor\": \"#E5ECF6\", \"caxis\": {\"gridcolor\": \"white\", \"linecolor\": \"white\", \"ticks\": \"\"}}, \"title\": {\"x\": 0.05}, \"xaxis\": {\"automargin\": true, \"gridcolor\": \"white\", \"linecolor\": \"white\", \"ticks\": \"\", \"title\": {\"standoff\": 15}, \"zerolinecolor\": \"white\", \"zerolinewidth\": 2}, \"yaxis\": {\"automargin\": true, \"gridcolor\": \"white\", \"linecolor\": \"white\", \"ticks\": \"\", \"title\": {\"standoff\": 15}, \"zerolinecolor\": \"white\", \"zerolinewidth\": 2}}}, \"width\": 1200, \"xaxis\": {\"anchor\": \"y\", \"domain\": [0.0, 0.94], \"linecolor\": \"black\", \"linewidth\": 3, \"mirror\": true, \"showline\": true, \"tickcolor\": \"black\", \"tickformat\": \"%d-%b %Hh\", \"ticklen\": 10, \"ticks\": \"inside\", \"tickwidth\": 2, \"title\": {\"text\": \"\"}}, \"yaxis\": {\"anchor\": \"x\", \"autorange\": \"reversed\", \"domain\": [0.0, 1.0], \"linecolor\": \"black\", \"linewidth\": 3, \"mirror\": true, \"range\": [0, 63.60000228881836], \"showline\": true, \"tickcolor\": \"black\", \"ticklen\": 10, \"ticks\": \"inside\", \"tickwidth\": 2, \"title\": {\"text\": \"Precipitation intensity (mm/h)\"}}, \"yaxis2\": {\"anchor\": \"x\", \"autorange\": false, \"linecolor\": \"black\", \"linewidth\": 3, \"mirror\": true, \"overlaying\": \"y\", \"range\": [0, 24.57], \"showline\": true, \"side\": \"right\", \"tickcolor\": \"black\", \"ticklen\": 10, \"ticks\": \"inside\", \"tickwidth\": 2, \"title\": {\"text\": \"Infilt Media [mm/hs]\"}}},\n                        {\"responsive\": true}\n                    ).then(function(){\n                            \nvar gd = document.getElementById('cdd72993-1997-4fa5-9587-fb46695c8a15');\nvar x = new MutationObserver(function (mutations, observer) {{\n        var display = window.getComputedStyle(gd).display;\n        if (!display || display === 'none') {{\n            console.log([gd, 'removed!']);\n            Plotly.purge(gd);\n            observer.disconnect();\n        }}\n}});\n\n// Listen for the removal of the full notebook cells\nvar notebookContainer = gd.closest('#notebook-container');\nif (notebookContainer) {{\n    x.observe(notebookContainer, {childList: true});\n}}\n\n// Listen for the clearing of the current output cell\nvar outputEl = gd.closest('.output');\nif (outputEl) {{\n    x.observe(outputEl, {childList: true});\n}}\n\n                        })\n                };\n                });\n            </script>\n        </div>"
     },
     "metadata": {}
    }
   ]
  },
  {
   "cell_type": "code",
   "execution_count": 8,
   "metadata": {},
   "outputs": [
    {
     "output_type": "display_data",
     "data": {
      "application/vnd.plotly.v1+json": {
       "config": {
        "plotlyServerURL": "https://plot.ly"
       },
       "data": [
        {
         "alignmentgroup": "True",
         "hovertemplate": "elapsed_time=%{x}<br>rainfall=%{y}<extra></extra>",
         "legendgroup": "",
         "marker": {
          "color": [
           "black"
          ]
         },
         "name": "",
         "offsetgroup": "",
         "orientation": "v",
         "showlegend": false,
         "textposition": "auto",
         "type": "bar",
         "x": [
          "2017-01-01T00:15:00",
          "2017-01-01T00:30:00",
          "2017-01-01T00:45:00",
          "2017-01-01T01:00:00",
          "2017-01-01T01:15:00",
          "2017-01-01T01:30:00",
          "2017-01-01T01:45:00",
          "2017-01-01T02:00:00",
          "2017-01-01T02:15:00",
          "2017-01-01T02:30:00",
          "2017-01-01T02:45:00",
          "2017-01-01T03:00:00",
          "2017-01-01T03:15:00",
          "2017-01-01T03:30:00",
          "2017-01-01T03:45:00",
          "2017-01-01T04:00:00",
          "2017-01-01T04:15:00",
          "2017-01-01T04:30:00",
          "2017-01-01T04:45:00",
          "2017-01-01T05:00:00",
          "2017-01-01T05:15:00",
          "2017-01-01T05:30:00",
          "2017-01-01T05:45:00",
          "2017-01-01T06:00:00",
          "2017-01-01T06:15:00",
          "2017-01-01T06:30:00",
          "2017-01-01T06:45:00",
          "2017-01-01T07:00:00",
          "2017-01-01T07:15:00",
          "2017-01-01T07:30:00",
          "2017-01-01T07:45:00",
          "2017-01-01T08:00:00",
          "2017-01-01T08:15:00",
          "2017-01-01T08:30:00",
          "2017-01-01T08:45:00",
          "2017-01-01T09:00:00",
          "2017-01-01T09:15:00",
          "2017-01-01T09:30:00",
          "2017-01-01T09:45:00",
          "2017-01-01T10:00:00",
          "2017-01-01T10:15:00",
          "2017-01-01T10:30:00",
          "2017-01-01T10:45:00",
          "2017-01-01T11:00:00",
          "2017-01-01T11:15:00",
          "2017-01-01T11:30:00",
          "2017-01-01T11:45:00",
          "2017-01-01T12:00:00",
          "2017-01-01T12:15:00",
          "2017-01-01T12:30:00",
          "2017-01-01T12:45:00",
          "2017-01-01T13:00:00",
          "2017-01-01T13:15:00",
          "2017-01-01T13:30:00",
          "2017-01-01T13:45:00",
          "2017-01-01T14:00:00",
          "2017-01-01T14:15:00",
          "2017-01-01T14:30:00",
          "2017-01-01T14:45:00",
          "2017-01-01T15:00:00",
          "2017-01-01T15:15:00",
          "2017-01-01T15:30:00",
          "2017-01-01T15:45:00",
          "2017-01-01T16:00:00",
          "2017-01-01T16:15:00",
          "2017-01-01T16:30:00",
          "2017-01-01T16:45:00",
          "2017-01-01T17:00:00",
          "2017-01-01T17:15:00",
          "2017-01-01T17:30:00",
          "2017-01-01T17:45:00",
          "2017-01-01T18:00:00",
          "2017-01-01T18:15:00",
          "2017-01-01T18:30:00",
          "2017-01-01T18:45:00",
          "2017-01-01T19:00:00",
          "2017-01-01T19:15:00",
          "2017-01-01T19:30:00",
          "2017-01-01T19:45:00",
          "2017-01-01T20:00:00",
          "2017-01-01T20:15:00",
          "2017-01-01T20:30:00",
          "2017-01-01T20:45:00",
          "2017-01-01T21:00:00",
          "2017-01-01T21:15:00",
          "2017-01-01T21:30:00",
          "2017-01-01T21:45:00",
          "2017-01-01T22:00:00",
          "2017-01-01T22:15:00",
          "2017-01-01T22:30:00",
          "2017-01-01T22:45:00",
          "2017-01-01T23:00:00",
          "2017-01-01T23:15:00",
          "2017-01-01T23:30:00",
          "2017-01-01T23:45:00",
          "2017-01-02T00:00:00",
          "2017-01-02T00:15:00",
          "2017-01-02T00:30:00",
          "2017-01-02T00:45:00",
          "2017-01-02T01:00:00",
          "2017-01-02T01:15:00",
          "2017-01-02T01:30:00",
          "2017-01-02T01:45:00",
          "2017-01-02T02:00:00",
          "2017-01-02T02:15:00",
          "2017-01-02T02:30:00",
          "2017-01-02T02:45:00",
          "2017-01-02T03:00:00",
          "2017-01-02T03:15:00",
          "2017-01-02T03:30:00",
          "2017-01-02T03:45:00",
          "2017-01-02T04:00:00",
          "2017-01-02T04:15:00",
          "2017-01-02T04:30:00",
          "2017-01-02T04:45:00",
          "2017-01-02T05:00:00",
          "2017-01-02T05:15:00",
          "2017-01-02T05:30:00",
          "2017-01-02T05:45:00",
          "2017-01-02T06:00:00"
         ],
         "xaxis": "x",
         "y": [
          0,
          1.149999976158142,
          1.149999976158142,
          0,
          0,
          0,
          0,
          0,
          0,
          0,
          0,
          26.360000610351562,
          0,
          0,
          0,
          0,
          0,
          0,
          0,
          6.880000591278076,
          0,
          58.45000076293945,
          42.400001525878906,
          5.7300004959106445,
          1.149999976158142,
          4.579999923706055,
          8.020000457763672,
          3.440000295639038,
          1.149999976158142,
          0,
          2.2899999618530273,
          13.75,
          3.440000295639038,
          2.2899999618530273,
          3.440000295639038,
          8.020000457763672,
          10.3100004196167,
          58.45000076293945,
          29.799999237060547,
          11.460000991821289,
          22.920001983642578,
          12.609999656677246,
          0,
          0,
          0,
          2.2899999618530273,
          27.510000228881836,
          5.7300004959106445,
          1.149999976158142,
          0,
          0,
          0,
          0,
          0,
          0,
          0,
          0,
          0,
          0,
          0,
          0,
          0,
          0,
          0,
          0,
          0,
          0,
          0,
          0,
          0,
          0,
          0,
          0,
          0,
          0,
          0,
          0,
          0,
          0,
          0,
          0,
          0,
          0,
          0,
          0,
          0,
          0,
          0,
          0,
          0,
          0,
          0,
          0,
          0,
          0,
          0,
          0,
          0,
          0,
          0,
          0,
          0,
          0,
          0,
          0,
          0,
          0,
          0,
          0,
          0,
          0,
          0,
          0,
          0,
          0,
          0,
          0,
          0,
          0,
          0
         ],
         "yaxis": "y"
        },
        {
         "hovertemplate": "elapsed_time=%{x}<br>depth_above_invert=%{y}<extra></extra>",
         "legendgroup": "",
         "line": {
          "color": "#125AEF",
          "dash": "solid",
          "width": 5
         },
         "marker": {
          "color": [
           "black"
          ]
         },
         "mode": "lines",
         "name": "",
         "orientation": "v",
         "showlegend": false,
         "type": "scatter",
         "x": [
          "2017-01-01T00:15:00",
          "2017-01-01T00:30:00",
          "2017-01-01T00:45:00",
          "2017-01-01T01:00:00",
          "2017-01-01T01:15:00",
          "2017-01-01T01:30:00",
          "2017-01-01T01:45:00",
          "2017-01-01T02:00:00",
          "2017-01-01T02:15:00",
          "2017-01-01T02:30:00",
          "2017-01-01T02:45:00",
          "2017-01-01T03:00:00",
          "2017-01-01T03:15:00",
          "2017-01-01T03:30:00",
          "2017-01-01T03:45:00",
          "2017-01-01T04:00:00",
          "2017-01-01T04:15:00",
          "2017-01-01T04:30:00",
          "2017-01-01T04:45:00",
          "2017-01-01T05:00:00",
          "2017-01-01T05:15:00",
          "2017-01-01T05:30:00",
          "2017-01-01T05:45:00",
          "2017-01-01T06:00:00",
          "2017-01-01T06:15:00",
          "2017-01-01T06:30:00",
          "2017-01-01T06:45:00",
          "2017-01-01T07:00:00",
          "2017-01-01T07:15:00",
          "2017-01-01T07:30:00",
          "2017-01-01T07:45:00",
          "2017-01-01T08:00:00",
          "2017-01-01T08:15:00",
          "2017-01-01T08:30:00",
          "2017-01-01T08:45:00",
          "2017-01-01T09:00:00",
          "2017-01-01T09:15:00",
          "2017-01-01T09:30:00",
          "2017-01-01T09:45:00",
          "2017-01-01T10:00:00",
          "2017-01-01T10:15:00",
          "2017-01-01T10:30:00",
          "2017-01-01T10:45:00",
          "2017-01-01T11:00:00",
          "2017-01-01T11:15:00",
          "2017-01-01T11:30:00",
          "2017-01-01T11:45:00",
          "2017-01-01T12:00:00",
          "2017-01-01T12:15:00",
          "2017-01-01T12:30:00",
          "2017-01-01T12:45:00",
          "2017-01-01T13:00:00",
          "2017-01-01T13:15:00",
          "2017-01-01T13:30:00",
          "2017-01-01T13:45:00",
          "2017-01-01T14:00:00",
          "2017-01-01T14:15:00",
          "2017-01-01T14:30:00",
          "2017-01-01T14:45:00",
          "2017-01-01T15:00:00",
          "2017-01-01T15:15:00",
          "2017-01-01T15:30:00",
          "2017-01-01T15:45:00",
          "2017-01-01T16:00:00",
          "2017-01-01T16:15:00",
          "2017-01-01T16:30:00",
          "2017-01-01T16:45:00",
          "2017-01-01T17:00:00",
          "2017-01-01T17:15:00",
          "2017-01-01T17:30:00",
          "2017-01-01T17:45:00",
          "2017-01-01T18:00:00",
          "2017-01-01T18:15:00",
          "2017-01-01T18:30:00",
          "2017-01-01T18:45:00",
          "2017-01-01T19:00:00",
          "2017-01-01T19:15:00",
          "2017-01-01T19:30:00",
          "2017-01-01T19:45:00",
          "2017-01-01T20:00:00",
          "2017-01-01T20:15:00",
          "2017-01-01T20:30:00",
          "2017-01-01T20:45:00",
          "2017-01-01T21:00:00",
          "2017-01-01T21:15:00",
          "2017-01-01T21:30:00",
          "2017-01-01T21:45:00",
          "2017-01-01T22:00:00",
          "2017-01-01T22:15:00",
          "2017-01-01T22:30:00",
          "2017-01-01T22:45:00",
          "2017-01-01T23:00:00",
          "2017-01-01T23:15:00",
          "2017-01-01T23:30:00",
          "2017-01-01T23:45:00",
          "2017-01-02T00:00:00",
          "2017-01-02T00:15:00",
          "2017-01-02T00:30:00",
          "2017-01-02T00:45:00",
          "2017-01-02T01:00:00",
          "2017-01-02T01:15:00",
          "2017-01-02T01:30:00",
          "2017-01-02T01:45:00",
          "2017-01-02T02:00:00",
          "2017-01-02T02:15:00",
          "2017-01-02T02:30:00",
          "2017-01-02T02:45:00",
          "2017-01-02T03:00:00",
          "2017-01-02T03:15:00",
          "2017-01-02T03:30:00",
          "2017-01-02T03:45:00",
          "2017-01-02T04:00:00",
          "2017-01-02T04:15:00",
          "2017-01-02T04:30:00",
          "2017-01-02T04:45:00",
          "2017-01-02T05:00:00",
          "2017-01-02T05:15:00",
          "2017-01-02T05:30:00",
          "2017-01-02T05:45:00",
          "2017-01-02T06:00:00"
         ],
         "xaxis": "x",
         "y": [
          0,
          0,
          0.00004161416654824279,
          0.00006172498251544312,
          0.00006172972643980756,
          0.00006171718996483833,
          0.00006170463166199625,
          0.0000616920369793661,
          0.00006167940591694787,
          0.00006166674575069919,
          0.00006165404920466244,
          0.0005161293665878475,
          0.001290118438191712,
          0.0013085294049233198,
          0.0013094289461150765,
          0.0013035916490480304,
          0.0012976244324818254,
          0.001291538355872035,
          0.0012853438965976238,
          0.0014794161543250084,
          0.0016898821340873837,
          0.004175161477178335,
          0.042637888342142105,
          0.1482732743024826,
          0.15735436975955963,
          0.14365637302398682,
          0.17766042053699493,
          0.15422910451889038,
          0.09473118185997009,
          0.07163180410861969,
          0.06516735255718231,
          0.0594090111553669,
          0.05637779459357262,
          0.05728628858923912,
          0.06262762099504471,
          0.06700868904590607,
          0.07081907987594604,
          0.08322224766016006,
          0.1707758903503418,
          0.46971675753593445,
          0.8635124564170837,
          1.1099218130111694,
          1.277635097503662,
          1.3542590141296387,
          1.355722188949585,
          1.3325276374816895,
          1.3001422882080078,
          1.2731359004974365,
          1.2329200506210327,
          1.2297446727752686,
          1.2110909223556519,
          1.171148419380188,
          1.1104825735092163,
          1.0552932024002075,
          1.0141575336456299,
          0.9276750087738037,
          0.8166730999946594,
          0.7079941034317017,
          0.597334623336792,
          0.4859367609024048,
          0.3864459693431854,
          0.2946813106536865,
          0.18916581571102142,
          0.09240186959505081,
          0.05749238654971123,
          0.0475531704723835,
          0.04274910315871239,
          0.03982815518975258,
          0.03778497874736786,
          0.03621552512049675,
          0.034929949790239334,
          0.03382905200123787,
          0.03285669535398483,
          0.031978972256183624,
          0.031174229457974434,
          0.0304279662668705,
          0.02973005175590515,
          0.029073132202029228,
          0.028451699763536453,
          0.027861500158905983,
          0.02729916386306286,
          0.026761963963508606,
          0.026247642934322357,
          0.025754304602742195,
          0.02528032660484314,
          0.02482430264353752,
          0.0243850015103817,
          0.023961327970027924,
          0.02355230785906315,
          0.023157060146331787,
          0.02277478761970997,
          0.022404763847589493,
          0.022046318277716637,
          0.021698838099837303,
          0.021361755207180977,
          0.021034540608525276,
          0.020716700702905655,
          0.0204077810049057,
          0.02010735124349594,
          0.019815009087324142,
          0.01953038014471531,
          0.019253110513091087,
          0.018982870504260063,
          0.018719345331192017,
          0.018462244421243668,
          0.01821129210293293,
          0.01796622760593891,
          0.017726806923747063,
          0.01749279908835888,
          0.01726398803293705,
          0.01704016514122486,
          0.016821136698126793,
          0.01660672016441822,
          0.016396738588809967,
          0.0161910280585289,
          0.015989432111382484,
          0.015791799873113632,
          0.0155979935079813,
          0.01540787611156702,
          0.01522132009267807
         ],
         "yaxis": "y2"
        }
       ],
       "layout": {
        "font": {
         "size": 25
        },
        "height": 600,
        "plot_bgcolor": "white",
        "showlegend": false,
        "template": {
         "data": {
          "bar": [
           {
            "error_x": {
             "color": "#2a3f5f"
            },
            "error_y": {
             "color": "#2a3f5f"
            },
            "marker": {
             "line": {
              "color": "#E5ECF6",
              "width": 0.5
             }
            },
            "type": "bar"
           }
          ],
          "barpolar": [
           {
            "marker": {
             "line": {
              "color": "#E5ECF6",
              "width": 0.5
             }
            },
            "type": "barpolar"
           }
          ],
          "carpet": [
           {
            "aaxis": {
             "endlinecolor": "#2a3f5f",
             "gridcolor": "white",
             "linecolor": "white",
             "minorgridcolor": "white",
             "startlinecolor": "#2a3f5f"
            },
            "baxis": {
             "endlinecolor": "#2a3f5f",
             "gridcolor": "white",
             "linecolor": "white",
             "minorgridcolor": "white",
             "startlinecolor": "#2a3f5f"
            },
            "type": "carpet"
           }
          ],
          "choropleth": [
           {
            "colorbar": {
             "outlinewidth": 0,
             "ticks": ""
            },
            "type": "choropleth"
           }
          ],
          "contour": [
           {
            "colorbar": {
             "outlinewidth": 0,
             "ticks": ""
            },
            "colorscale": [
             [
              0,
              "#0d0887"
             ],
             [
              0.1111111111111111,
              "#46039f"
             ],
             [
              0.2222222222222222,
              "#7201a8"
             ],
             [
              0.3333333333333333,
              "#9c179e"
             ],
             [
              0.4444444444444444,
              "#bd3786"
             ],
             [
              0.5555555555555556,
              "#d8576b"
             ],
             [
              0.6666666666666666,
              "#ed7953"
             ],
             [
              0.7777777777777778,
              "#fb9f3a"
             ],
             [
              0.8888888888888888,
              "#fdca26"
             ],
             [
              1,
              "#f0f921"
             ]
            ],
            "type": "contour"
           }
          ],
          "contourcarpet": [
           {
            "colorbar": {
             "outlinewidth": 0,
             "ticks": ""
            },
            "type": "contourcarpet"
           }
          ],
          "heatmap": [
           {
            "colorbar": {
             "outlinewidth": 0,
             "ticks": ""
            },
            "colorscale": [
             [
              0,
              "#0d0887"
             ],
             [
              0.1111111111111111,
              "#46039f"
             ],
             [
              0.2222222222222222,
              "#7201a8"
             ],
             [
              0.3333333333333333,
              "#9c179e"
             ],
             [
              0.4444444444444444,
              "#bd3786"
             ],
             [
              0.5555555555555556,
              "#d8576b"
             ],
             [
              0.6666666666666666,
              "#ed7953"
             ],
             [
              0.7777777777777778,
              "#fb9f3a"
             ],
             [
              0.8888888888888888,
              "#fdca26"
             ],
             [
              1,
              "#f0f921"
             ]
            ],
            "type": "heatmap"
           }
          ],
          "heatmapgl": [
           {
            "colorbar": {
             "outlinewidth": 0,
             "ticks": ""
            },
            "colorscale": [
             [
              0,
              "#0d0887"
             ],
             [
              0.1111111111111111,
              "#46039f"
             ],
             [
              0.2222222222222222,
              "#7201a8"
             ],
             [
              0.3333333333333333,
              "#9c179e"
             ],
             [
              0.4444444444444444,
              "#bd3786"
             ],
             [
              0.5555555555555556,
              "#d8576b"
             ],
             [
              0.6666666666666666,
              "#ed7953"
             ],
             [
              0.7777777777777778,
              "#fb9f3a"
             ],
             [
              0.8888888888888888,
              "#fdca26"
             ],
             [
              1,
              "#f0f921"
             ]
            ],
            "type": "heatmapgl"
           }
          ],
          "histogram": [
           {
            "marker": {
             "colorbar": {
              "outlinewidth": 0,
              "ticks": ""
             }
            },
            "type": "histogram"
           }
          ],
          "histogram2d": [
           {
            "colorbar": {
             "outlinewidth": 0,
             "ticks": ""
            },
            "colorscale": [
             [
              0,
              "#0d0887"
             ],
             [
              0.1111111111111111,
              "#46039f"
             ],
             [
              0.2222222222222222,
              "#7201a8"
             ],
             [
              0.3333333333333333,
              "#9c179e"
             ],
             [
              0.4444444444444444,
              "#bd3786"
             ],
             [
              0.5555555555555556,
              "#d8576b"
             ],
             [
              0.6666666666666666,
              "#ed7953"
             ],
             [
              0.7777777777777778,
              "#fb9f3a"
             ],
             [
              0.8888888888888888,
              "#fdca26"
             ],
             [
              1,
              "#f0f921"
             ]
            ],
            "type": "histogram2d"
           }
          ],
          "histogram2dcontour": [
           {
            "colorbar": {
             "outlinewidth": 0,
             "ticks": ""
            },
            "colorscale": [
             [
              0,
              "#0d0887"
             ],
             [
              0.1111111111111111,
              "#46039f"
             ],
             [
              0.2222222222222222,
              "#7201a8"
             ],
             [
              0.3333333333333333,
              "#9c179e"
             ],
             [
              0.4444444444444444,
              "#bd3786"
             ],
             [
              0.5555555555555556,
              "#d8576b"
             ],
             [
              0.6666666666666666,
              "#ed7953"
             ],
             [
              0.7777777777777778,
              "#fb9f3a"
             ],
             [
              0.8888888888888888,
              "#fdca26"
             ],
             [
              1,
              "#f0f921"
             ]
            ],
            "type": "histogram2dcontour"
           }
          ],
          "mesh3d": [
           {
            "colorbar": {
             "outlinewidth": 0,
             "ticks": ""
            },
            "type": "mesh3d"
           }
          ],
          "parcoords": [
           {
            "line": {
             "colorbar": {
              "outlinewidth": 0,
              "ticks": ""
             }
            },
            "type": "parcoords"
           }
          ],
          "pie": [
           {
            "automargin": true,
            "type": "pie"
           }
          ],
          "scatter": [
           {
            "marker": {
             "colorbar": {
              "outlinewidth": 0,
              "ticks": ""
             }
            },
            "type": "scatter"
           }
          ],
          "scatter3d": [
           {
            "line": {
             "colorbar": {
              "outlinewidth": 0,
              "ticks": ""
             }
            },
            "marker": {
             "colorbar": {
              "outlinewidth": 0,
              "ticks": ""
             }
            },
            "type": "scatter3d"
           }
          ],
          "scattercarpet": [
           {
            "marker": {
             "colorbar": {
              "outlinewidth": 0,
              "ticks": ""
             }
            },
            "type": "scattercarpet"
           }
          ],
          "scattergeo": [
           {
            "marker": {
             "colorbar": {
              "outlinewidth": 0,
              "ticks": ""
             }
            },
            "type": "scattergeo"
           }
          ],
          "scattergl": [
           {
            "marker": {
             "colorbar": {
              "outlinewidth": 0,
              "ticks": ""
             }
            },
            "type": "scattergl"
           }
          ],
          "scattermapbox": [
           {
            "marker": {
             "colorbar": {
              "outlinewidth": 0,
              "ticks": ""
             }
            },
            "type": "scattermapbox"
           }
          ],
          "scatterpolar": [
           {
            "marker": {
             "colorbar": {
              "outlinewidth": 0,
              "ticks": ""
             }
            },
            "type": "scatterpolar"
           }
          ],
          "scatterpolargl": [
           {
            "marker": {
             "colorbar": {
              "outlinewidth": 0,
              "ticks": ""
             }
            },
            "type": "scatterpolargl"
           }
          ],
          "scatterternary": [
           {
            "marker": {
             "colorbar": {
              "outlinewidth": 0,
              "ticks": ""
             }
            },
            "type": "scatterternary"
           }
          ],
          "surface": [
           {
            "colorbar": {
             "outlinewidth": 0,
             "ticks": ""
            },
            "colorscale": [
             [
              0,
              "#0d0887"
             ],
             [
              0.1111111111111111,
              "#46039f"
             ],
             [
              0.2222222222222222,
              "#7201a8"
             ],
             [
              0.3333333333333333,
              "#9c179e"
             ],
             [
              0.4444444444444444,
              "#bd3786"
             ],
             [
              0.5555555555555556,
              "#d8576b"
             ],
             [
              0.6666666666666666,
              "#ed7953"
             ],
             [
              0.7777777777777778,
              "#fb9f3a"
             ],
             [
              0.8888888888888888,
              "#fdca26"
             ],
             [
              1,
              "#f0f921"
             ]
            ],
            "type": "surface"
           }
          ],
          "table": [
           {
            "cells": {
             "fill": {
              "color": "#EBF0F8"
             },
             "line": {
              "color": "white"
             }
            },
            "header": {
             "fill": {
              "color": "#C8D4E3"
             },
             "line": {
              "color": "white"
             }
            },
            "type": "table"
           }
          ]
         },
         "layout": {
          "annotationdefaults": {
           "arrowcolor": "#2a3f5f",
           "arrowhead": 0,
           "arrowwidth": 1
          },
          "coloraxis": {
           "colorbar": {
            "outlinewidth": 0,
            "ticks": ""
           }
          },
          "colorscale": {
           "diverging": [
            [
             0,
             "#8e0152"
            ],
            [
             0.1,
             "#c51b7d"
            ],
            [
             0.2,
             "#de77ae"
            ],
            [
             0.3,
             "#f1b6da"
            ],
            [
             0.4,
             "#fde0ef"
            ],
            [
             0.5,
             "#f7f7f7"
            ],
            [
             0.6,
             "#e6f5d0"
            ],
            [
             0.7,
             "#b8e186"
            ],
            [
             0.8,
             "#7fbc41"
            ],
            [
             0.9,
             "#4d9221"
            ],
            [
             1,
             "#276419"
            ]
           ],
           "sequential": [
            [
             0,
             "#0d0887"
            ],
            [
             0.1111111111111111,
             "#46039f"
            ],
            [
             0.2222222222222222,
             "#7201a8"
            ],
            [
             0.3333333333333333,
             "#9c179e"
            ],
            [
             0.4444444444444444,
             "#bd3786"
            ],
            [
             0.5555555555555556,
             "#d8576b"
            ],
            [
             0.6666666666666666,
             "#ed7953"
            ],
            [
             0.7777777777777778,
             "#fb9f3a"
            ],
            [
             0.8888888888888888,
             "#fdca26"
            ],
            [
             1,
             "#f0f921"
            ]
           ],
           "sequentialminus": [
            [
             0,
             "#0d0887"
            ],
            [
             0.1111111111111111,
             "#46039f"
            ],
            [
             0.2222222222222222,
             "#7201a8"
            ],
            [
             0.3333333333333333,
             "#9c179e"
            ],
            [
             0.4444444444444444,
             "#bd3786"
            ],
            [
             0.5555555555555556,
             "#d8576b"
            ],
            [
             0.6666666666666666,
             "#ed7953"
            ],
            [
             0.7777777777777778,
             "#fb9f3a"
            ],
            [
             0.8888888888888888,
             "#fdca26"
            ],
            [
             1,
             "#f0f921"
            ]
           ]
          },
          "colorway": [
           "#636efa",
           "#EF553B",
           "#00cc96",
           "#ab63fa",
           "#FFA15A",
           "#19d3f3",
           "#FF6692",
           "#B6E880",
           "#FF97FF",
           "#FECB52"
          ],
          "font": {
           "color": "#2a3f5f"
          },
          "geo": {
           "bgcolor": "white",
           "lakecolor": "white",
           "landcolor": "#E5ECF6",
           "showlakes": true,
           "showland": true,
           "subunitcolor": "white"
          },
          "hoverlabel": {
           "align": "left"
          },
          "hovermode": "closest",
          "mapbox": {
           "style": "light"
          },
          "paper_bgcolor": "white",
          "plot_bgcolor": "#E5ECF6",
          "polar": {
           "angularaxis": {
            "gridcolor": "white",
            "linecolor": "white",
            "ticks": ""
           },
           "bgcolor": "#E5ECF6",
           "radialaxis": {
            "gridcolor": "white",
            "linecolor": "white",
            "ticks": ""
           }
          },
          "scene": {
           "xaxis": {
            "backgroundcolor": "#E5ECF6",
            "gridcolor": "white",
            "gridwidth": 2,
            "linecolor": "white",
            "showbackground": true,
            "ticks": "",
            "zerolinecolor": "white"
           },
           "yaxis": {
            "backgroundcolor": "#E5ECF6",
            "gridcolor": "white",
            "gridwidth": 2,
            "linecolor": "white",
            "showbackground": true,
            "ticks": "",
            "zerolinecolor": "white"
           },
           "zaxis": {
            "backgroundcolor": "#E5ECF6",
            "gridcolor": "white",
            "gridwidth": 2,
            "linecolor": "white",
            "showbackground": true,
            "ticks": "",
            "zerolinecolor": "white"
           }
          },
          "shapedefaults": {
           "line": {
            "color": "#2a3f5f"
           }
          },
          "ternary": {
           "aaxis": {
            "gridcolor": "white",
            "linecolor": "white",
            "ticks": ""
           },
           "baxis": {
            "gridcolor": "white",
            "linecolor": "white",
            "ticks": ""
           },
           "bgcolor": "#E5ECF6",
           "caxis": {
            "gridcolor": "white",
            "linecolor": "white",
            "ticks": ""
           }
          },
          "title": {
           "x": 0.05
          },
          "xaxis": {
           "automargin": true,
           "gridcolor": "white",
           "linecolor": "white",
           "ticks": "",
           "title": {
            "standoff": 15
           },
           "zerolinecolor": "white",
           "zerolinewidth": 2
          },
          "yaxis": {
           "automargin": true,
           "gridcolor": "white",
           "linecolor": "white",
           "ticks": "",
           "title": {
            "standoff": 15
           },
           "zerolinecolor": "white",
           "zerolinewidth": 2
          }
         }
        },
        "width": 1200,
        "xaxis": {
         "anchor": "y",
         "domain": [
          0,
          0.94
         ],
         "linecolor": "black",
         "linewidth": 3,
         "mirror": true,
         "showline": true,
         "tickcolor": "black",
         "tickformat": "%d-%b %Hh",
         "ticklen": 10,
         "ticks": "inside",
         "tickwidth": 2,
         "title": {
          "text": ""
         }
        },
        "yaxis": {
         "anchor": "x",
         "autorange": "reversed",
         "domain": [
          0,
          1
         ],
         "linecolor": "black",
         "linewidth": 3,
         "mirror": true,
         "range": [
          0,
          87.67500114440918
         ],
         "showline": true,
         "tickcolor": "black",
         "ticklen": 10,
         "ticks": "inside",
         "tickwidth": 2,
         "title": {
          "text": "Precipitation intensity (mm/h)"
         }
        },
        "yaxis2": {
         "anchor": "x",
         "autorange": false,
         "linecolor": "black",
         "linewidth": 3,
         "mirror": true,
         "overlaying": "y",
         "range": [
          0,
          2.0335832834243774
         ],
         "showline": true,
         "side": "right",
         "tickcolor": "black",
         "ticklen": 10,
         "ticks": "inside",
         "tickwidth": 2,
         "title": {
          "text": "Depth Above [invert]"
         }
        }
       }
      },
      "text/html": "<div>\n        \n        \n            <div id=\"1dbf83c5-e80a-4b34-acb5-df5d09ec70d0\" class=\"plotly-graph-div\" style=\"height:600px; width:1200px;\"></div>\n            <script type=\"text/javascript\">\n                require([\"plotly\"], function(Plotly) {\n                    window.PLOTLYENV=window.PLOTLYENV || {};\n                    \n                if (document.getElementById(\"1dbf83c5-e80a-4b34-acb5-df5d09ec70d0\")) {\n                    Plotly.newPlot(\n                        '1dbf83c5-e80a-4b34-acb5-df5d09ec70d0',\n                        [{\"alignmentgroup\": \"True\", \"hovertemplate\": \"elapsed_time=%{x}<br>rainfall=%{y}<extra></extra>\", \"legendgroup\": \"\", \"marker\": {\"color\": [\"black\"]}, \"name\": \"\", \"offsetgroup\": \"\", \"orientation\": \"v\", \"showlegend\": false, \"textposition\": \"auto\", \"type\": \"bar\", \"x\": [\"2017-01-01T00:15:00\", \"2017-01-01T00:30:00\", \"2017-01-01T00:45:00\", \"2017-01-01T01:00:00\", \"2017-01-01T01:15:00\", \"2017-01-01T01:30:00\", \"2017-01-01T01:45:00\", \"2017-01-01T02:00:00\", \"2017-01-01T02:15:00\", \"2017-01-01T02:30:00\", \"2017-01-01T02:45:00\", \"2017-01-01T03:00:00\", \"2017-01-01T03:15:00\", \"2017-01-01T03:30:00\", \"2017-01-01T03:45:00\", \"2017-01-01T04:00:00\", \"2017-01-01T04:15:00\", \"2017-01-01T04:30:00\", \"2017-01-01T04:45:00\", \"2017-01-01T05:00:00\", \"2017-01-01T05:15:00\", \"2017-01-01T05:30:00\", \"2017-01-01T05:45:00\", \"2017-01-01T06:00:00\", \"2017-01-01T06:15:00\", \"2017-01-01T06:30:00\", \"2017-01-01T06:45:00\", \"2017-01-01T07:00:00\", \"2017-01-01T07:15:00\", \"2017-01-01T07:30:00\", \"2017-01-01T07:45:00\", \"2017-01-01T08:00:00\", \"2017-01-01T08:15:00\", \"2017-01-01T08:30:00\", \"2017-01-01T08:45:00\", \"2017-01-01T09:00:00\", \"2017-01-01T09:15:00\", \"2017-01-01T09:30:00\", \"2017-01-01T09:45:00\", \"2017-01-01T10:00:00\", \"2017-01-01T10:15:00\", \"2017-01-01T10:30:00\", \"2017-01-01T10:45:00\", \"2017-01-01T11:00:00\", \"2017-01-01T11:15:00\", \"2017-01-01T11:30:00\", \"2017-01-01T11:45:00\", \"2017-01-01T12:00:00\", \"2017-01-01T12:15:00\", \"2017-01-01T12:30:00\", \"2017-01-01T12:45:00\", \"2017-01-01T13:00:00\", \"2017-01-01T13:15:00\", \"2017-01-01T13:30:00\", \"2017-01-01T13:45:00\", \"2017-01-01T14:00:00\", \"2017-01-01T14:15:00\", \"2017-01-01T14:30:00\", \"2017-01-01T14:45:00\", \"2017-01-01T15:00:00\", \"2017-01-01T15:15:00\", \"2017-01-01T15:30:00\", \"2017-01-01T15:45:00\", \"2017-01-01T16:00:00\", \"2017-01-01T16:15:00\", \"2017-01-01T16:30:00\", \"2017-01-01T16:45:00\", \"2017-01-01T17:00:00\", \"2017-01-01T17:15:00\", \"2017-01-01T17:30:00\", \"2017-01-01T17:45:00\", \"2017-01-01T18:00:00\", \"2017-01-01T18:15:00\", \"2017-01-01T18:30:00\", \"2017-01-01T18:45:00\", \"2017-01-01T19:00:00\", \"2017-01-01T19:15:00\", \"2017-01-01T19:30:00\", \"2017-01-01T19:45:00\", \"2017-01-01T20:00:00\", \"2017-01-01T20:15:00\", \"2017-01-01T20:30:00\", \"2017-01-01T20:45:00\", \"2017-01-01T21:00:00\", \"2017-01-01T21:15:00\", \"2017-01-01T21:30:00\", \"2017-01-01T21:45:00\", \"2017-01-01T22:00:00\", \"2017-01-01T22:15:00\", \"2017-01-01T22:30:00\", \"2017-01-01T22:45:00\", \"2017-01-01T23:00:00\", \"2017-01-01T23:15:00\", \"2017-01-01T23:30:00\", \"2017-01-01T23:45:00\", \"2017-01-02T00:00:00\", \"2017-01-02T00:15:00\", \"2017-01-02T00:30:00\", \"2017-01-02T00:45:00\", \"2017-01-02T01:00:00\", \"2017-01-02T01:15:00\", \"2017-01-02T01:30:00\", \"2017-01-02T01:45:00\", \"2017-01-02T02:00:00\", \"2017-01-02T02:15:00\", \"2017-01-02T02:30:00\", \"2017-01-02T02:45:00\", \"2017-01-02T03:00:00\", \"2017-01-02T03:15:00\", \"2017-01-02T03:30:00\", \"2017-01-02T03:45:00\", \"2017-01-02T04:00:00\", \"2017-01-02T04:15:00\", \"2017-01-02T04:30:00\", \"2017-01-02T04:45:00\", \"2017-01-02T05:00:00\", \"2017-01-02T05:15:00\", \"2017-01-02T05:30:00\", \"2017-01-02T05:45:00\", \"2017-01-02T06:00:00\"], \"xaxis\": \"x\", \"y\": [0.0, 1.149999976158142, 1.149999976158142, 0.0, 0.0, 0.0, 0.0, 0.0, 0.0, 0.0, 0.0, 26.360000610351562, 0.0, 0.0, 0.0, 0.0, 0.0, 0.0, 0.0, 6.880000591278076, 0.0, 58.45000076293945, 42.400001525878906, 5.7300004959106445, 1.149999976158142, 4.579999923706055, 8.020000457763672, 3.440000295639038, 1.149999976158142, 0.0, 2.2899999618530273, 13.75, 3.440000295639038, 2.2899999618530273, 3.440000295639038, 8.020000457763672, 10.3100004196167, 58.45000076293945, 29.799999237060547, 11.460000991821289, 22.920001983642578, 12.609999656677246, 0.0, 0.0, 0.0, 2.2899999618530273, 27.510000228881836, 5.7300004959106445, 1.149999976158142, 0.0, 0.0, 0.0, 0.0, 0.0, 0.0, 0.0, 0.0, 0.0, 0.0, 0.0, 0.0, 0.0, 0.0, 0.0, 0.0, 0.0, 0.0, 0.0, 0.0, 0.0, 0.0, 0.0, 0.0, 0.0, 0.0, 0.0, 0.0, 0.0, 0.0, 0.0, 0.0, 0.0, 0.0, 0.0, 0.0, 0.0, 0.0, 0.0, 0.0, 0.0, 0.0, 0.0, 0.0, 0.0, 0.0, 0.0, 0.0, 0.0, 0.0, 0.0, 0.0, 0.0, 0.0, 0.0, 0.0, 0.0, 0.0, 0.0, 0.0, 0.0, 0.0, 0.0, 0.0, 0.0, 0.0, 0.0, 0.0, 0.0, 0.0, 0.0], \"yaxis\": \"y\"}, {\"hovertemplate\": \"elapsed_time=%{x}<br>depth_above_invert=%{y}<extra></extra>\", \"legendgroup\": \"\", \"line\": {\"color\": \"#125AEF\", \"dash\": \"solid\", \"width\": 5}, \"marker\": {\"color\": [\"black\"]}, \"mode\": \"lines\", \"name\": \"\", \"orientation\": \"v\", \"showlegend\": false, \"type\": \"scatter\", \"x\": [\"2017-01-01T00:15:00\", \"2017-01-01T00:30:00\", \"2017-01-01T00:45:00\", \"2017-01-01T01:00:00\", \"2017-01-01T01:15:00\", \"2017-01-01T01:30:00\", \"2017-01-01T01:45:00\", \"2017-01-01T02:00:00\", \"2017-01-01T02:15:00\", \"2017-01-01T02:30:00\", \"2017-01-01T02:45:00\", \"2017-01-01T03:00:00\", \"2017-01-01T03:15:00\", \"2017-01-01T03:30:00\", \"2017-01-01T03:45:00\", \"2017-01-01T04:00:00\", \"2017-01-01T04:15:00\", \"2017-01-01T04:30:00\", \"2017-01-01T04:45:00\", \"2017-01-01T05:00:00\", \"2017-01-01T05:15:00\", \"2017-01-01T05:30:00\", \"2017-01-01T05:45:00\", \"2017-01-01T06:00:00\", \"2017-01-01T06:15:00\", \"2017-01-01T06:30:00\", \"2017-01-01T06:45:00\", \"2017-01-01T07:00:00\", \"2017-01-01T07:15:00\", \"2017-01-01T07:30:00\", \"2017-01-01T07:45:00\", \"2017-01-01T08:00:00\", \"2017-01-01T08:15:00\", \"2017-01-01T08:30:00\", \"2017-01-01T08:45:00\", \"2017-01-01T09:00:00\", \"2017-01-01T09:15:00\", \"2017-01-01T09:30:00\", \"2017-01-01T09:45:00\", \"2017-01-01T10:00:00\", \"2017-01-01T10:15:00\", \"2017-01-01T10:30:00\", \"2017-01-01T10:45:00\", \"2017-01-01T11:00:00\", \"2017-01-01T11:15:00\", \"2017-01-01T11:30:00\", \"2017-01-01T11:45:00\", \"2017-01-01T12:00:00\", \"2017-01-01T12:15:00\", \"2017-01-01T12:30:00\", \"2017-01-01T12:45:00\", \"2017-01-01T13:00:00\", \"2017-01-01T13:15:00\", \"2017-01-01T13:30:00\", \"2017-01-01T13:45:00\", \"2017-01-01T14:00:00\", \"2017-01-01T14:15:00\", \"2017-01-01T14:30:00\", \"2017-01-01T14:45:00\", \"2017-01-01T15:00:00\", \"2017-01-01T15:15:00\", \"2017-01-01T15:30:00\", \"2017-01-01T15:45:00\", \"2017-01-01T16:00:00\", \"2017-01-01T16:15:00\", \"2017-01-01T16:30:00\", \"2017-01-01T16:45:00\", \"2017-01-01T17:00:00\", \"2017-01-01T17:15:00\", \"2017-01-01T17:30:00\", \"2017-01-01T17:45:00\", \"2017-01-01T18:00:00\", \"2017-01-01T18:15:00\", \"2017-01-01T18:30:00\", \"2017-01-01T18:45:00\", \"2017-01-01T19:00:00\", \"2017-01-01T19:15:00\", \"2017-01-01T19:30:00\", \"2017-01-01T19:45:00\", \"2017-01-01T20:00:00\", \"2017-01-01T20:15:00\", \"2017-01-01T20:30:00\", \"2017-01-01T20:45:00\", \"2017-01-01T21:00:00\", \"2017-01-01T21:15:00\", \"2017-01-01T21:30:00\", \"2017-01-01T21:45:00\", \"2017-01-01T22:00:00\", \"2017-01-01T22:15:00\", \"2017-01-01T22:30:00\", \"2017-01-01T22:45:00\", \"2017-01-01T23:00:00\", \"2017-01-01T23:15:00\", \"2017-01-01T23:30:00\", \"2017-01-01T23:45:00\", \"2017-01-02T00:00:00\", \"2017-01-02T00:15:00\", \"2017-01-02T00:30:00\", \"2017-01-02T00:45:00\", \"2017-01-02T01:00:00\", \"2017-01-02T01:15:00\", \"2017-01-02T01:30:00\", \"2017-01-02T01:45:00\", \"2017-01-02T02:00:00\", \"2017-01-02T02:15:00\", \"2017-01-02T02:30:00\", \"2017-01-02T02:45:00\", \"2017-01-02T03:00:00\", \"2017-01-02T03:15:00\", \"2017-01-02T03:30:00\", \"2017-01-02T03:45:00\", \"2017-01-02T04:00:00\", \"2017-01-02T04:15:00\", \"2017-01-02T04:30:00\", \"2017-01-02T04:45:00\", \"2017-01-02T05:00:00\", \"2017-01-02T05:15:00\", \"2017-01-02T05:30:00\", \"2017-01-02T05:45:00\", \"2017-01-02T06:00:00\"], \"xaxis\": \"x\", \"y\": [0.0, 0.0, 4.161416654824279e-05, 6.172498251544312e-05, 6.172972643980756e-05, 6.171718996483833e-05, 6.170463166199625e-05, 6.16920369793661e-05, 6.167940591694787e-05, 6.166674575069919e-05, 6.165404920466244e-05, 0.0005161293665878475, 0.001290118438191712, 0.0013085294049233198, 0.0013094289461150765, 0.0013035916490480304, 0.0012976244324818254, 0.001291538355872035, 0.0012853438965976238, 0.0014794161543250084, 0.0016898821340873837, 0.004175161477178335, 0.042637888342142105, 0.1482732743024826, 0.15735436975955963, 0.14365637302398682, 0.17766042053699493, 0.15422910451889038, 0.09473118185997009, 0.07163180410861969, 0.06516735255718231, 0.0594090111553669, 0.05637779459357262, 0.05728628858923912, 0.06262762099504471, 0.06700868904590607, 0.07081907987594604, 0.08322224766016006, 0.1707758903503418, 0.46971675753593445, 0.8635124564170837, 1.1099218130111694, 1.277635097503662, 1.3542590141296387, 1.355722188949585, 1.3325276374816895, 1.3001422882080078, 1.2731359004974365, 1.2329200506210327, 1.2297446727752686, 1.2110909223556519, 1.171148419380188, 1.1104825735092163, 1.0552932024002075, 1.0141575336456299, 0.9276750087738037, 0.8166730999946594, 0.7079941034317017, 0.597334623336792, 0.4859367609024048, 0.3864459693431854, 0.2946813106536865, 0.18916581571102142, 0.09240186959505081, 0.05749238654971123, 0.0475531704723835, 0.04274910315871239, 0.03982815518975258, 0.03778497874736786, 0.03621552512049675, 0.034929949790239334, 0.03382905200123787, 0.03285669535398483, 0.031978972256183624, 0.031174229457974434, 0.0304279662668705, 0.02973005175590515, 0.029073132202029228, 0.028451699763536453, 0.027861500158905983, 0.02729916386306286, 0.026761963963508606, 0.026247642934322357, 0.025754304602742195, 0.02528032660484314, 0.02482430264353752, 0.0243850015103817, 0.023961327970027924, 0.02355230785906315, 0.023157060146331787, 0.02277478761970997, 0.022404763847589493, 0.022046318277716637, 0.021698838099837303, 0.021361755207180977, 0.021034540608525276, 0.020716700702905655, 0.0204077810049057, 0.02010735124349594, 0.019815009087324142, 0.01953038014471531, 0.019253110513091087, 0.018982870504260063, 0.018719345331192017, 0.018462244421243668, 0.01821129210293293, 0.01796622760593891, 0.017726806923747063, 0.01749279908835888, 0.01726398803293705, 0.01704016514122486, 0.016821136698126793, 0.01660672016441822, 0.016396738588809967, 0.0161910280585289, 0.015989432111382484, 0.015791799873113632, 0.0155979935079813, 0.01540787611156702, 0.01522132009267807], \"yaxis\": \"y2\"}],\n                        {\"font\": {\"size\": 25}, \"height\": 600, \"plot_bgcolor\": \"white\", \"showlegend\": false, \"template\": {\"data\": {\"bar\": [{\"error_x\": {\"color\": \"#2a3f5f\"}, \"error_y\": {\"color\": \"#2a3f5f\"}, \"marker\": {\"line\": {\"color\": \"#E5ECF6\", \"width\": 0.5}}, \"type\": \"bar\"}], \"barpolar\": [{\"marker\": {\"line\": {\"color\": \"#E5ECF6\", \"width\": 0.5}}, \"type\": \"barpolar\"}], \"carpet\": [{\"aaxis\": {\"endlinecolor\": \"#2a3f5f\", \"gridcolor\": \"white\", \"linecolor\": \"white\", \"minorgridcolor\": \"white\", \"startlinecolor\": \"#2a3f5f\"}, \"baxis\": {\"endlinecolor\": \"#2a3f5f\", \"gridcolor\": \"white\", \"linecolor\": \"white\", \"minorgridcolor\": \"white\", \"startlinecolor\": \"#2a3f5f\"}, \"type\": \"carpet\"}], \"choropleth\": [{\"colorbar\": {\"outlinewidth\": 0, \"ticks\": \"\"}, \"type\": \"choropleth\"}], \"contour\": [{\"colorbar\": {\"outlinewidth\": 0, \"ticks\": \"\"}, \"colorscale\": [[0.0, \"#0d0887\"], [0.1111111111111111, \"#46039f\"], [0.2222222222222222, \"#7201a8\"], [0.3333333333333333, \"#9c179e\"], [0.4444444444444444, \"#bd3786\"], [0.5555555555555556, \"#d8576b\"], [0.6666666666666666, \"#ed7953\"], [0.7777777777777778, \"#fb9f3a\"], [0.8888888888888888, \"#fdca26\"], [1.0, \"#f0f921\"]], \"type\": \"contour\"}], \"contourcarpet\": [{\"colorbar\": {\"outlinewidth\": 0, \"ticks\": \"\"}, \"type\": \"contourcarpet\"}], \"heatmap\": [{\"colorbar\": {\"outlinewidth\": 0, \"ticks\": \"\"}, \"colorscale\": [[0.0, \"#0d0887\"], [0.1111111111111111, \"#46039f\"], [0.2222222222222222, \"#7201a8\"], [0.3333333333333333, \"#9c179e\"], [0.4444444444444444, \"#bd3786\"], [0.5555555555555556, \"#d8576b\"], [0.6666666666666666, \"#ed7953\"], [0.7777777777777778, \"#fb9f3a\"], [0.8888888888888888, \"#fdca26\"], [1.0, \"#f0f921\"]], \"type\": \"heatmap\"}], \"heatmapgl\": [{\"colorbar\": {\"outlinewidth\": 0, \"ticks\": \"\"}, \"colorscale\": [[0.0, \"#0d0887\"], [0.1111111111111111, \"#46039f\"], [0.2222222222222222, \"#7201a8\"], [0.3333333333333333, \"#9c179e\"], [0.4444444444444444, \"#bd3786\"], [0.5555555555555556, \"#d8576b\"], [0.6666666666666666, \"#ed7953\"], [0.7777777777777778, \"#fb9f3a\"], [0.8888888888888888, \"#fdca26\"], [1.0, \"#f0f921\"]], \"type\": \"heatmapgl\"}], \"histogram\": [{\"marker\": {\"colorbar\": {\"outlinewidth\": 0, \"ticks\": \"\"}}, \"type\": \"histogram\"}], \"histogram2d\": [{\"colorbar\": {\"outlinewidth\": 0, \"ticks\": \"\"}, \"colorscale\": [[0.0, \"#0d0887\"], [0.1111111111111111, \"#46039f\"], [0.2222222222222222, \"#7201a8\"], [0.3333333333333333, \"#9c179e\"], [0.4444444444444444, \"#bd3786\"], [0.5555555555555556, \"#d8576b\"], [0.6666666666666666, \"#ed7953\"], [0.7777777777777778, \"#fb9f3a\"], [0.8888888888888888, \"#fdca26\"], [1.0, \"#f0f921\"]], \"type\": \"histogram2d\"}], \"histogram2dcontour\": [{\"colorbar\": {\"outlinewidth\": 0, \"ticks\": \"\"}, \"colorscale\": [[0.0, \"#0d0887\"], [0.1111111111111111, \"#46039f\"], [0.2222222222222222, \"#7201a8\"], [0.3333333333333333, \"#9c179e\"], [0.4444444444444444, \"#bd3786\"], [0.5555555555555556, \"#d8576b\"], [0.6666666666666666, \"#ed7953\"], [0.7777777777777778, \"#fb9f3a\"], [0.8888888888888888, \"#fdca26\"], [1.0, \"#f0f921\"]], \"type\": \"histogram2dcontour\"}], \"mesh3d\": [{\"colorbar\": {\"outlinewidth\": 0, \"ticks\": \"\"}, \"type\": \"mesh3d\"}], \"parcoords\": [{\"line\": {\"colorbar\": {\"outlinewidth\": 0, \"ticks\": \"\"}}, \"type\": \"parcoords\"}], \"pie\": [{\"automargin\": true, \"type\": \"pie\"}], \"scatter\": [{\"marker\": {\"colorbar\": {\"outlinewidth\": 0, \"ticks\": \"\"}}, \"type\": \"scatter\"}], \"scatter3d\": [{\"line\": {\"colorbar\": {\"outlinewidth\": 0, \"ticks\": \"\"}}, \"marker\": {\"colorbar\": {\"outlinewidth\": 0, \"ticks\": \"\"}}, \"type\": \"scatter3d\"}], \"scattercarpet\": [{\"marker\": {\"colorbar\": {\"outlinewidth\": 0, \"ticks\": \"\"}}, \"type\": \"scattercarpet\"}], \"scattergeo\": [{\"marker\": {\"colorbar\": {\"outlinewidth\": 0, \"ticks\": \"\"}}, \"type\": \"scattergeo\"}], \"scattergl\": [{\"marker\": {\"colorbar\": {\"outlinewidth\": 0, \"ticks\": \"\"}}, \"type\": \"scattergl\"}], \"scattermapbox\": [{\"marker\": {\"colorbar\": {\"outlinewidth\": 0, \"ticks\": \"\"}}, \"type\": \"scattermapbox\"}], \"scatterpolar\": [{\"marker\": {\"colorbar\": {\"outlinewidth\": 0, \"ticks\": \"\"}}, \"type\": \"scatterpolar\"}], \"scatterpolargl\": [{\"marker\": {\"colorbar\": {\"outlinewidth\": 0, \"ticks\": \"\"}}, \"type\": \"scatterpolargl\"}], \"scatterternary\": [{\"marker\": {\"colorbar\": {\"outlinewidth\": 0, \"ticks\": \"\"}}, \"type\": \"scatterternary\"}], \"surface\": [{\"colorbar\": {\"outlinewidth\": 0, \"ticks\": \"\"}, \"colorscale\": [[0.0, \"#0d0887\"], [0.1111111111111111, \"#46039f\"], [0.2222222222222222, \"#7201a8\"], [0.3333333333333333, \"#9c179e\"], [0.4444444444444444, \"#bd3786\"], [0.5555555555555556, \"#d8576b\"], [0.6666666666666666, \"#ed7953\"], [0.7777777777777778, \"#fb9f3a\"], [0.8888888888888888, \"#fdca26\"], [1.0, \"#f0f921\"]], \"type\": \"surface\"}], \"table\": [{\"cells\": {\"fill\": {\"color\": \"#EBF0F8\"}, \"line\": {\"color\": \"white\"}}, \"header\": {\"fill\": {\"color\": \"#C8D4E3\"}, \"line\": {\"color\": \"white\"}}, \"type\": \"table\"}]}, \"layout\": {\"annotationdefaults\": {\"arrowcolor\": \"#2a3f5f\", \"arrowhead\": 0, \"arrowwidth\": 1}, \"coloraxis\": {\"colorbar\": {\"outlinewidth\": 0, \"ticks\": \"\"}}, \"colorscale\": {\"diverging\": [[0, \"#8e0152\"], [0.1, \"#c51b7d\"], [0.2, \"#de77ae\"], [0.3, \"#f1b6da\"], [0.4, \"#fde0ef\"], [0.5, \"#f7f7f7\"], [0.6, \"#e6f5d0\"], [0.7, \"#b8e186\"], [0.8, \"#7fbc41\"], [0.9, \"#4d9221\"], [1, \"#276419\"]], \"sequential\": [[0.0, \"#0d0887\"], [0.1111111111111111, \"#46039f\"], [0.2222222222222222, \"#7201a8\"], [0.3333333333333333, \"#9c179e\"], [0.4444444444444444, \"#bd3786\"], [0.5555555555555556, \"#d8576b\"], [0.6666666666666666, \"#ed7953\"], [0.7777777777777778, \"#fb9f3a\"], [0.8888888888888888, \"#fdca26\"], [1.0, \"#f0f921\"]], \"sequentialminus\": [[0.0, \"#0d0887\"], [0.1111111111111111, \"#46039f\"], [0.2222222222222222, \"#7201a8\"], [0.3333333333333333, \"#9c179e\"], [0.4444444444444444, \"#bd3786\"], [0.5555555555555556, \"#d8576b\"], [0.6666666666666666, \"#ed7953\"], [0.7777777777777778, \"#fb9f3a\"], [0.8888888888888888, \"#fdca26\"], [1.0, \"#f0f921\"]]}, \"colorway\": [\"#636efa\", \"#EF553B\", \"#00cc96\", \"#ab63fa\", \"#FFA15A\", \"#19d3f3\", \"#FF6692\", \"#B6E880\", \"#FF97FF\", \"#FECB52\"], \"font\": {\"color\": \"#2a3f5f\"}, \"geo\": {\"bgcolor\": \"white\", \"lakecolor\": \"white\", \"landcolor\": \"#E5ECF6\", \"showlakes\": true, \"showland\": true, \"subunitcolor\": \"white\"}, \"hoverlabel\": {\"align\": \"left\"}, \"hovermode\": \"closest\", \"mapbox\": {\"style\": \"light\"}, \"paper_bgcolor\": \"white\", \"plot_bgcolor\": \"#E5ECF6\", \"polar\": {\"angularaxis\": {\"gridcolor\": \"white\", \"linecolor\": \"white\", \"ticks\": \"\"}, \"bgcolor\": \"#E5ECF6\", \"radialaxis\": {\"gridcolor\": \"white\", \"linecolor\": \"white\", \"ticks\": \"\"}}, \"scene\": {\"xaxis\": {\"backgroundcolor\": \"#E5ECF6\", \"gridcolor\": \"white\", \"gridwidth\": 2, \"linecolor\": \"white\", \"showbackground\": true, \"ticks\": \"\", \"zerolinecolor\": \"white\"}, \"yaxis\": {\"backgroundcolor\": \"#E5ECF6\", \"gridcolor\": \"white\", \"gridwidth\": 2, \"linecolor\": \"white\", \"showbackground\": true, \"ticks\": \"\", \"zerolinecolor\": \"white\"}, \"zaxis\": {\"backgroundcolor\": \"#E5ECF6\", \"gridcolor\": \"white\", \"gridwidth\": 2, \"linecolor\": \"white\", \"showbackground\": true, \"ticks\": \"\", \"zerolinecolor\": \"white\"}}, \"shapedefaults\": {\"line\": {\"color\": \"#2a3f5f\"}}, \"ternary\": {\"aaxis\": {\"gridcolor\": \"white\", \"linecolor\": \"white\", \"ticks\": \"\"}, \"baxis\": {\"gridcolor\": \"white\", \"linecolor\": \"white\", \"ticks\": \"\"}, \"bgcolor\": \"#E5ECF6\", \"caxis\": {\"gridcolor\": \"white\", \"linecolor\": \"white\", \"ticks\": \"\"}}, \"title\": {\"x\": 0.05}, \"xaxis\": {\"automargin\": true, \"gridcolor\": \"white\", \"linecolor\": \"white\", \"ticks\": \"\", \"title\": {\"standoff\": 15}, \"zerolinecolor\": \"white\", \"zerolinewidth\": 2}, \"yaxis\": {\"automargin\": true, \"gridcolor\": \"white\", \"linecolor\": \"white\", \"ticks\": \"\", \"title\": {\"standoff\": 15}, \"zerolinecolor\": \"white\", \"zerolinewidth\": 2}}}, \"width\": 1200, \"xaxis\": {\"anchor\": \"y\", \"domain\": [0.0, 0.94], \"linecolor\": \"black\", \"linewidth\": 3, \"mirror\": true, \"showline\": true, \"tickcolor\": \"black\", \"tickformat\": \"%d-%b %Hh\", \"ticklen\": 10, \"ticks\": \"inside\", \"tickwidth\": 2, \"title\": {\"text\": \"\"}}, \"yaxis\": {\"anchor\": \"x\", \"autorange\": \"reversed\", \"domain\": [0.0, 1.0], \"linecolor\": \"black\", \"linewidth\": 3, \"mirror\": true, \"range\": [0, 87.67500114440918], \"showline\": true, \"tickcolor\": \"black\", \"ticklen\": 10, \"ticks\": \"inside\", \"tickwidth\": 2, \"title\": {\"text\": \"Precipitation intensity (mm/h)\"}}, \"yaxis2\": {\"anchor\": \"x\", \"autorange\": false, \"linecolor\": \"black\", \"linewidth\": 3, \"mirror\": true, \"overlaying\": \"y\", \"range\": [0, 2.0335832834243774], \"showline\": true, \"side\": \"right\", \"tickcolor\": \"black\", \"ticklen\": 10, \"ticks\": \"inside\", \"tickwidth\": 2, \"title\": {\"text\": \"Depth Above [invert]\"}}},\n                        {\"responsive\": true}\n                    ).then(function(){\n                            \nvar gd = document.getElementById('1dbf83c5-e80a-4b34-acb5-df5d09ec70d0');\nvar x = new MutationObserver(function (mutations, observer) {{\n        var display = window.getComputedStyle(gd).display;\n        if (!display || display === 'none') {{\n            console.log([gd, 'removed!']);\n            Plotly.purge(gd);\n            observer.disconnect();\n        }}\n}});\n\n// Listen for the removal of the full notebook cells\nvar notebookContainer = gd.closest('#notebook-container');\nif (notebookContainer) {{\n    x.observe(notebookContainer, {childList: true});\n}}\n\n// Listen for the clearing of the current output cell\nvar outputEl = gd.closest('.output');\nif (outputEl) {{\n    x.observe(outputEl, {childList: true});\n}}\n\n                        })\n                };\n                });\n            </script>\n        </div>"
     },
     "metadata": {}
    }
   ],
   "source": [
    "conu_basin.timeseries_viz('NODO1601', ['depth_above_invert'])"
   ]
  },
  {
   "cell_type": "code",
   "execution_count": 14,
   "metadata": {},
   "outputs": [
    {
     "output_type": "execute_result",
     "data": {
      "text/plain": "<matplotlib.axes._subplots.AxesSubplot at 0x7faf80632460>"
     },
     "metadata": {},
     "execution_count": 14
    },
    {
     "output_type": "display_data",
     "data": {
      "text/plain": "<Figure size 432x288 with 1 Axes>",
      "image/svg+xml": "<?xml version=\"1.0\" encoding=\"utf-8\" standalone=\"no\"?>\n<!DOCTYPE svg PUBLIC \"-//W3C//DTD SVG 1.1//EN\"\n  \"http://www.w3.org/Graphics/SVG/1.1/DTD/svg11.dtd\">\n<!-- Created with matplotlib (https://matplotlib.org/) -->\n<svg height=\"273.672188pt\" version=\"1.1\" viewBox=\"0 0 401.254687 273.672188\" width=\"401.254687pt\" xmlns=\"http://www.w3.org/2000/svg\" xmlns:xlink=\"http://www.w3.org/1999/xlink\">\n <defs>\n  <style type=\"text/css\">\n*{stroke-linecap:butt;stroke-linejoin:round;}\n  </style>\n </defs>\n <g id=\"figure_1\">\n  <g id=\"patch_1\">\n   <path d=\"M 0 273.672188 \nL 401.254687 273.672188 \nL 401.254687 0 \nL 0 0 \nz\n\" style=\"fill:none;\"/>\n  </g>\n  <g id=\"axes_1\">\n   <g id=\"patch_2\">\n    <path d=\"M 44.845313 224.64 \nL 379.645313 224.64 \nL 379.645313 7.2 \nL 44.845313 7.2 \nz\n\" style=\"fill:#ffffff;\"/>\n   </g>\n   <g id=\"matplotlib.axis_1\">\n    <g id=\"xtick_1\">\n     <g id=\"line2d_1\">\n      <defs>\n       <path d=\"M 0 0 \nL 0 3.5 \n\" id=\"md1ca54ecc4\" style=\"stroke:#000000;stroke-width:0.8;\"/>\n      </defs>\n      <g>\n       <use style=\"stroke:#000000;stroke-width:0.8;\" x=\"44.845313\" xlink:href=\"#md1ca54ecc4\" y=\"224.64\"/>\n      </g>\n     </g>\n    </g>\n    <g id=\"xtick_2\">\n     <g id=\"line2d_2\">\n      <g>\n       <use style=\"stroke:#000000;stroke-width:0.8;\" x=\"312.122623\" xlink:href=\"#md1ca54ecc4\" y=\"224.64\"/>\n      </g>\n     </g>\n     <g id=\"text_1\">\n      <!-- 00:00 -->\n      <defs>\n       <path d=\"M 31.78125 66.40625 \nQ 24.171875 66.40625 20.328125 58.90625 \nQ 16.5 51.421875 16.5 36.375 \nQ 16.5 21.390625 20.328125 13.890625 \nQ 24.171875 6.390625 31.78125 6.390625 \nQ 39.453125 6.390625 43.28125 13.890625 \nQ 47.125 21.390625 47.125 36.375 \nQ 47.125 51.421875 43.28125 58.90625 \nQ 39.453125 66.40625 31.78125 66.40625 \nz\nM 31.78125 74.21875 \nQ 44.046875 74.21875 50.515625 64.515625 \nQ 56.984375 54.828125 56.984375 36.375 \nQ 56.984375 17.96875 50.515625 8.265625 \nQ 44.046875 -1.421875 31.78125 -1.421875 \nQ 19.53125 -1.421875 13.0625 8.265625 \nQ 6.59375 17.96875 6.59375 36.375 \nQ 6.59375 54.828125 13.0625 64.515625 \nQ 19.53125 74.21875 31.78125 74.21875 \nz\n\" id=\"DejaVuSans-48\"/>\n       <path d=\"M 11.71875 12.40625 \nL 22.015625 12.40625 \nL 22.015625 0 \nL 11.71875 0 \nz\nM 11.71875 51.703125 \nL 22.015625 51.703125 \nL 22.015625 39.3125 \nL 11.71875 39.3125 \nz\n\" id=\"DejaVuSans-58\"/>\n      </defs>\n      <g transform=\"translate(297.713248 239.238438)scale(0.1 -0.1)\">\n       <use xlink:href=\"#DejaVuSans-48\"/>\n       <use x=\"63.623047\" xlink:href=\"#DejaVuSans-48\"/>\n       <use x=\"127.246094\" xlink:href=\"#DejaVuSans-58\"/>\n       <use x=\"160.9375\" xlink:href=\"#DejaVuSans-48\"/>\n       <use x=\"224.560547\" xlink:href=\"#DejaVuSans-48\"/>\n      </g>\n      <!-- 02-Jan -->\n      <defs>\n       <path d=\"M 19.1875 8.296875 \nL 53.609375 8.296875 \nL 53.609375 0 \nL 7.328125 0 \nL 7.328125 8.296875 \nQ 12.9375 14.109375 22.625 23.890625 \nQ 32.328125 33.6875 34.8125 36.53125 \nQ 39.546875 41.84375 41.421875 45.53125 \nQ 43.3125 49.21875 43.3125 52.78125 \nQ 43.3125 58.59375 39.234375 62.25 \nQ 35.15625 65.921875 28.609375 65.921875 \nQ 23.96875 65.921875 18.8125 64.3125 \nQ 13.671875 62.703125 7.8125 59.421875 \nL 7.8125 69.390625 \nQ 13.765625 71.78125 18.9375 73 \nQ 24.125 74.21875 28.421875 74.21875 \nQ 39.75 74.21875 46.484375 68.546875 \nQ 53.21875 62.890625 53.21875 53.421875 \nQ 53.21875 48.921875 51.53125 44.890625 \nQ 49.859375 40.875 45.40625 35.40625 \nQ 44.1875 33.984375 37.640625 27.21875 \nQ 31.109375 20.453125 19.1875 8.296875 \nz\n\" id=\"DejaVuSans-50\"/>\n       <path d=\"M 4.890625 31.390625 \nL 31.203125 31.390625 \nL 31.203125 23.390625 \nL 4.890625 23.390625 \nz\n\" id=\"DejaVuSans-45\"/>\n       <path d=\"M 9.8125 72.90625 \nL 19.671875 72.90625 \nL 19.671875 5.078125 \nQ 19.671875 -8.109375 14.671875 -14.0625 \nQ 9.671875 -20.015625 -1.421875 -20.015625 \nL -5.171875 -20.015625 \nL -5.171875 -11.71875 \nL -2.09375 -11.71875 \nQ 4.4375 -11.71875 7.125 -8.046875 \nQ 9.8125 -4.390625 9.8125 5.078125 \nz\n\" id=\"DejaVuSans-74\"/>\n       <path d=\"M 34.28125 27.484375 \nQ 23.390625 27.484375 19.1875 25 \nQ 14.984375 22.515625 14.984375 16.5 \nQ 14.984375 11.71875 18.140625 8.90625 \nQ 21.296875 6.109375 26.703125 6.109375 \nQ 34.1875 6.109375 38.703125 11.40625 \nQ 43.21875 16.703125 43.21875 25.484375 \nL 43.21875 27.484375 \nz\nM 52.203125 31.203125 \nL 52.203125 0 \nL 43.21875 0 \nL 43.21875 8.296875 \nQ 40.140625 3.328125 35.546875 0.953125 \nQ 30.953125 -1.421875 24.3125 -1.421875 \nQ 15.921875 -1.421875 10.953125 3.296875 \nQ 6 8.015625 6 15.921875 \nQ 6 25.140625 12.171875 29.828125 \nQ 18.359375 34.515625 30.609375 34.515625 \nL 43.21875 34.515625 \nL 43.21875 35.40625 \nQ 43.21875 41.609375 39.140625 45 \nQ 35.0625 48.390625 27.6875 48.390625 \nQ 23 48.390625 18.546875 47.265625 \nQ 14.109375 46.140625 10.015625 43.890625 \nL 10.015625 52.203125 \nQ 14.9375 54.109375 19.578125 55.046875 \nQ 24.21875 56 28.609375 56 \nQ 40.484375 56 46.34375 49.84375 \nQ 52.203125 43.703125 52.203125 31.203125 \nz\n\" id=\"DejaVuSans-97\"/>\n       <path d=\"M 54.890625 33.015625 \nL 54.890625 0 \nL 45.90625 0 \nL 45.90625 32.71875 \nQ 45.90625 40.484375 42.875 44.328125 \nQ 39.84375 48.1875 33.796875 48.1875 \nQ 26.515625 48.1875 22.3125 43.546875 \nQ 18.109375 38.921875 18.109375 30.90625 \nL 18.109375 0 \nL 9.078125 0 \nL 9.078125 54.6875 \nL 18.109375 54.6875 \nL 18.109375 46.1875 \nQ 21.34375 51.125 25.703125 53.5625 \nQ 30.078125 56 35.796875 56 \nQ 45.21875 56 50.046875 50.171875 \nQ 54.890625 44.34375 54.890625 33.015625 \nz\n\" id=\"DejaVuSans-110\"/>\n      </defs>\n      <g transform=\"translate(295.967155 250.43625)scale(0.1 -0.1)\">\n       <use xlink:href=\"#DejaVuSans-48\"/>\n       <use x=\"63.623047\" xlink:href=\"#DejaVuSans-50\"/>\n       <use x=\"127.246094\" xlink:href=\"#DejaVuSans-45\"/>\n       <use x=\"168.955078\" xlink:href=\"#DejaVuSans-74\"/>\n       <use x=\"198.447266\" xlink:href=\"#DejaVuSans-97\"/>\n       <use x=\"259.726562\" xlink:href=\"#DejaVuSans-110\"/>\n      </g>\n     </g>\n    </g>\n    <g id=\"xtick_3\">\n     <g id=\"line2d_3\">\n      <g>\n       <use style=\"stroke:#000000;stroke-width:0.8;\" x=\"379.645313\" xlink:href=\"#md1ca54ecc4\" y=\"224.64\"/>\n      </g>\n     </g>\n     <g id=\"text_2\">\n      <!-- 06:00 -->\n      <defs>\n       <path d=\"M 33.015625 40.375 \nQ 26.375 40.375 22.484375 35.828125 \nQ 18.609375 31.296875 18.609375 23.390625 \nQ 18.609375 15.53125 22.484375 10.953125 \nQ 26.375 6.390625 33.015625 6.390625 \nQ 39.65625 6.390625 43.53125 10.953125 \nQ 47.40625 15.53125 47.40625 23.390625 \nQ 47.40625 31.296875 43.53125 35.828125 \nQ 39.65625 40.375 33.015625 40.375 \nz\nM 52.59375 71.296875 \nL 52.59375 62.3125 \nQ 48.875 64.0625 45.09375 64.984375 \nQ 41.3125 65.921875 37.59375 65.921875 \nQ 27.828125 65.921875 22.671875 59.328125 \nQ 17.53125 52.734375 16.796875 39.40625 \nQ 19.671875 43.65625 24.015625 45.921875 \nQ 28.375 48.1875 33.59375 48.1875 \nQ 44.578125 48.1875 50.953125 41.515625 \nQ 57.328125 34.859375 57.328125 23.390625 \nQ 57.328125 12.15625 50.6875 5.359375 \nQ 44.046875 -1.421875 33.015625 -1.421875 \nQ 20.359375 -1.421875 13.671875 8.265625 \nQ 6.984375 17.96875 6.984375 36.375 \nQ 6.984375 53.65625 15.1875 63.9375 \nQ 23.390625 74.21875 37.203125 74.21875 \nQ 40.921875 74.21875 44.703125 73.484375 \nQ 48.484375 72.75 52.59375 71.296875 \nz\n\" id=\"DejaVuSans-54\"/>\n      </defs>\n      <g transform=\"translate(365.235938 239.238438)scale(0.1 -0.1)\">\n       <use xlink:href=\"#DejaVuSans-48\"/>\n       <use x=\"63.623047\" xlink:href=\"#DejaVuSans-54\"/>\n       <use x=\"127.246094\" xlink:href=\"#DejaVuSans-58\"/>\n       <use x=\"160.9375\" xlink:href=\"#DejaVuSans-48\"/>\n       <use x=\"224.560547\" xlink:href=\"#DejaVuSans-48\"/>\n      </g>\n     </g>\n    </g>\n    <g id=\"xtick_4\">\n     <g id=\"line2d_4\">\n      <defs>\n       <path d=\"M 0 0 \nL 0 2 \n\" id=\"m721668e783\" style=\"stroke:#000000;stroke-width:0.6;\"/>\n      </defs>\n      <g>\n       <use style=\"stroke:#000000;stroke-width:0.6;\" x=\"75.793212\" xlink:href=\"#m721668e783\" y=\"224.64\"/>\n      </g>\n     </g>\n     <g id=\"text_3\">\n      <!-- 03:00 -->\n      <defs>\n       <path d=\"M 40.578125 39.3125 \nQ 47.65625 37.796875 51.625 33 \nQ 55.609375 28.21875 55.609375 21.1875 \nQ 55.609375 10.40625 48.1875 4.484375 \nQ 40.765625 -1.421875 27.09375 -1.421875 \nQ 22.515625 -1.421875 17.65625 -0.515625 \nQ 12.796875 0.390625 7.625 2.203125 \nL 7.625 11.71875 \nQ 11.71875 9.328125 16.59375 8.109375 \nQ 21.484375 6.890625 26.8125 6.890625 \nQ 36.078125 6.890625 40.9375 10.546875 \nQ 45.796875 14.203125 45.796875 21.1875 \nQ 45.796875 27.640625 41.28125 31.265625 \nQ 36.765625 34.90625 28.71875 34.90625 \nL 20.21875 34.90625 \nL 20.21875 43.015625 \nL 29.109375 43.015625 \nQ 36.375 43.015625 40.234375 45.921875 \nQ 44.09375 48.828125 44.09375 54.296875 \nQ 44.09375 59.90625 40.109375 62.90625 \nQ 36.140625 65.921875 28.71875 65.921875 \nQ 24.65625 65.921875 20.015625 65.03125 \nQ 15.375 64.15625 9.8125 62.3125 \nL 9.8125 71.09375 \nQ 15.4375 72.65625 20.34375 73.4375 \nQ 25.25 74.21875 29.59375 74.21875 \nQ 40.828125 74.21875 47.359375 69.109375 \nQ 53.90625 64.015625 53.90625 55.328125 \nQ 53.90625 49.265625 50.4375 45.09375 \nQ 46.96875 40.921875 40.578125 39.3125 \nz\n\" id=\"DejaVuSans-51\"/>\n      </defs>\n      <g transform=\"translate(61.383837 237.638438)scale(0.1 -0.1)\">\n       <use xlink:href=\"#DejaVuSans-48\"/>\n       <use x=\"63.623047\" xlink:href=\"#DejaVuSans-51\"/>\n       <use x=\"127.246094\" xlink:href=\"#DejaVuSans-58\"/>\n       <use x=\"160.9375\" xlink:href=\"#DejaVuSans-48\"/>\n       <use x=\"224.560547\" xlink:href=\"#DejaVuSans-48\"/>\n      </g>\n     </g>\n    </g>\n    <g id=\"xtick_5\">\n     <g id=\"line2d_5\">\n      <g>\n       <use style=\"stroke:#000000;stroke-width:0.6;\" x=\"109.554556\" xlink:href=\"#m721668e783\" y=\"224.64\"/>\n      </g>\n     </g>\n     <g id=\"text_4\">\n      <!-- 06:00 -->\n      <g transform=\"translate(95.145181 237.638438)scale(0.1 -0.1)\">\n       <use xlink:href=\"#DejaVuSans-48\"/>\n       <use x=\"63.623047\" xlink:href=\"#DejaVuSans-54\"/>\n       <use x=\"127.246094\" xlink:href=\"#DejaVuSans-58\"/>\n       <use x=\"160.9375\" xlink:href=\"#DejaVuSans-48\"/>\n       <use x=\"224.560547\" xlink:href=\"#DejaVuSans-48\"/>\n      </g>\n     </g>\n    </g>\n    <g id=\"xtick_6\">\n     <g id=\"line2d_6\">\n      <g>\n       <use style=\"stroke:#000000;stroke-width:0.6;\" x=\"143.315901\" xlink:href=\"#m721668e783\" y=\"224.64\"/>\n      </g>\n     </g>\n     <g id=\"text_5\">\n      <!-- 09:00 -->\n      <defs>\n       <path d=\"M 10.984375 1.515625 \nL 10.984375 10.5 \nQ 14.703125 8.734375 18.5 7.8125 \nQ 22.3125 6.890625 25.984375 6.890625 \nQ 35.75 6.890625 40.890625 13.453125 \nQ 46.046875 20.015625 46.78125 33.40625 \nQ 43.953125 29.203125 39.59375 26.953125 \nQ 35.25 24.703125 29.984375 24.703125 \nQ 19.046875 24.703125 12.671875 31.3125 \nQ 6.296875 37.9375 6.296875 49.421875 \nQ 6.296875 60.640625 12.9375 67.421875 \nQ 19.578125 74.21875 30.609375 74.21875 \nQ 43.265625 74.21875 49.921875 64.515625 \nQ 56.59375 54.828125 56.59375 36.375 \nQ 56.59375 19.140625 48.40625 8.859375 \nQ 40.234375 -1.421875 26.421875 -1.421875 \nQ 22.703125 -1.421875 18.890625 -0.6875 \nQ 15.09375 0.046875 10.984375 1.515625 \nz\nM 30.609375 32.421875 \nQ 37.25 32.421875 41.125 36.953125 \nQ 45.015625 41.5 45.015625 49.421875 \nQ 45.015625 57.28125 41.125 61.84375 \nQ 37.25 66.40625 30.609375 66.40625 \nQ 23.96875 66.40625 20.09375 61.84375 \nQ 16.21875 57.28125 16.21875 49.421875 \nQ 16.21875 41.5 20.09375 36.953125 \nQ 23.96875 32.421875 30.609375 32.421875 \nz\n\" id=\"DejaVuSans-57\"/>\n      </defs>\n      <g transform=\"translate(128.906526 237.638438)scale(0.1 -0.1)\">\n       <use xlink:href=\"#DejaVuSans-48\"/>\n       <use x=\"63.623047\" xlink:href=\"#DejaVuSans-57\"/>\n       <use x=\"127.246094\" xlink:href=\"#DejaVuSans-58\"/>\n       <use x=\"160.9375\" xlink:href=\"#DejaVuSans-48\"/>\n       <use x=\"224.560547\" xlink:href=\"#DejaVuSans-48\"/>\n      </g>\n     </g>\n    </g>\n    <g id=\"xtick_7\">\n     <g id=\"line2d_7\">\n      <g>\n       <use style=\"stroke:#000000;stroke-width:0.6;\" x=\"177.077245\" xlink:href=\"#m721668e783\" y=\"224.64\"/>\n      </g>\n     </g>\n     <g id=\"text_6\">\n      <!-- 12:00 -->\n      <defs>\n       <path d=\"M 12.40625 8.296875 \nL 28.515625 8.296875 \nL 28.515625 63.921875 \nL 10.984375 60.40625 \nL 10.984375 69.390625 \nL 28.421875 72.90625 \nL 38.28125 72.90625 \nL 38.28125 8.296875 \nL 54.390625 8.296875 \nL 54.390625 0 \nL 12.40625 0 \nz\n\" id=\"DejaVuSans-49\"/>\n      </defs>\n      <g transform=\"translate(162.66787 237.638438)scale(0.1 -0.1)\">\n       <use xlink:href=\"#DejaVuSans-49\"/>\n       <use x=\"63.623047\" xlink:href=\"#DejaVuSans-50\"/>\n       <use x=\"127.246094\" xlink:href=\"#DejaVuSans-58\"/>\n       <use x=\"160.9375\" xlink:href=\"#DejaVuSans-48\"/>\n       <use x=\"224.560547\" xlink:href=\"#DejaVuSans-48\"/>\n      </g>\n     </g>\n    </g>\n    <g id=\"xtick_8\">\n     <g id=\"line2d_8\">\n      <g>\n       <use style=\"stroke:#000000;stroke-width:0.6;\" x=\"210.83859\" xlink:href=\"#m721668e783\" y=\"224.64\"/>\n      </g>\n     </g>\n     <g id=\"text_7\">\n      <!-- 15:00 -->\n      <defs>\n       <path d=\"M 10.796875 72.90625 \nL 49.515625 72.90625 \nL 49.515625 64.59375 \nL 19.828125 64.59375 \nL 19.828125 46.734375 \nQ 21.96875 47.46875 24.109375 47.828125 \nQ 26.265625 48.1875 28.421875 48.1875 \nQ 40.625 48.1875 47.75 41.5 \nQ 54.890625 34.8125 54.890625 23.390625 \nQ 54.890625 11.625 47.5625 5.09375 \nQ 40.234375 -1.421875 26.90625 -1.421875 \nQ 22.3125 -1.421875 17.546875 -0.640625 \nQ 12.796875 0.140625 7.71875 1.703125 \nL 7.71875 11.625 \nQ 12.109375 9.234375 16.796875 8.0625 \nQ 21.484375 6.890625 26.703125 6.890625 \nQ 35.15625 6.890625 40.078125 11.328125 \nQ 45.015625 15.765625 45.015625 23.390625 \nQ 45.015625 31 40.078125 35.4375 \nQ 35.15625 39.890625 26.703125 39.890625 \nQ 22.75 39.890625 18.8125 39.015625 \nQ 14.890625 38.140625 10.796875 36.28125 \nz\n\" id=\"DejaVuSans-53\"/>\n      </defs>\n      <g transform=\"translate(196.429215 237.638438)scale(0.1 -0.1)\">\n       <use xlink:href=\"#DejaVuSans-49\"/>\n       <use x=\"63.623047\" xlink:href=\"#DejaVuSans-53\"/>\n       <use x=\"127.246094\" xlink:href=\"#DejaVuSans-58\"/>\n       <use x=\"160.9375\" xlink:href=\"#DejaVuSans-48\"/>\n       <use x=\"224.560547\" xlink:href=\"#DejaVuSans-48\"/>\n      </g>\n     </g>\n    </g>\n    <g id=\"xtick_9\">\n     <g id=\"line2d_9\">\n      <g>\n       <use style=\"stroke:#000000;stroke-width:0.6;\" x=\"244.599934\" xlink:href=\"#m721668e783\" y=\"224.64\"/>\n      </g>\n     </g>\n     <g id=\"text_8\">\n      <!-- 18:00 -->\n      <defs>\n       <path d=\"M 31.78125 34.625 \nQ 24.75 34.625 20.71875 30.859375 \nQ 16.703125 27.09375 16.703125 20.515625 \nQ 16.703125 13.921875 20.71875 10.15625 \nQ 24.75 6.390625 31.78125 6.390625 \nQ 38.8125 6.390625 42.859375 10.171875 \nQ 46.921875 13.96875 46.921875 20.515625 \nQ 46.921875 27.09375 42.890625 30.859375 \nQ 38.875 34.625 31.78125 34.625 \nz\nM 21.921875 38.8125 \nQ 15.578125 40.375 12.03125 44.71875 \nQ 8.5 49.078125 8.5 55.328125 \nQ 8.5 64.0625 14.71875 69.140625 \nQ 20.953125 74.21875 31.78125 74.21875 \nQ 42.671875 74.21875 48.875 69.140625 \nQ 55.078125 64.0625 55.078125 55.328125 \nQ 55.078125 49.078125 51.53125 44.71875 \nQ 48 40.375 41.703125 38.8125 \nQ 48.828125 37.15625 52.796875 32.3125 \nQ 56.78125 27.484375 56.78125 20.515625 \nQ 56.78125 9.90625 50.3125 4.234375 \nQ 43.84375 -1.421875 31.78125 -1.421875 \nQ 19.734375 -1.421875 13.25 4.234375 \nQ 6.78125 9.90625 6.78125 20.515625 \nQ 6.78125 27.484375 10.78125 32.3125 \nQ 14.796875 37.15625 21.921875 38.8125 \nz\nM 18.3125 54.390625 \nQ 18.3125 48.734375 21.84375 45.5625 \nQ 25.390625 42.390625 31.78125 42.390625 \nQ 38.140625 42.390625 41.71875 45.5625 \nQ 45.3125 48.734375 45.3125 54.390625 \nQ 45.3125 60.0625 41.71875 63.234375 \nQ 38.140625 66.40625 31.78125 66.40625 \nQ 25.390625 66.40625 21.84375 63.234375 \nQ 18.3125 60.0625 18.3125 54.390625 \nz\n\" id=\"DejaVuSans-56\"/>\n      </defs>\n      <g transform=\"translate(230.190559 237.638438)scale(0.1 -0.1)\">\n       <use xlink:href=\"#DejaVuSans-49\"/>\n       <use x=\"63.623047\" xlink:href=\"#DejaVuSans-56\"/>\n       <use x=\"127.246094\" xlink:href=\"#DejaVuSans-58\"/>\n       <use x=\"160.9375\" xlink:href=\"#DejaVuSans-48\"/>\n       <use x=\"224.560547\" xlink:href=\"#DejaVuSans-48\"/>\n      </g>\n     </g>\n    </g>\n    <g id=\"xtick_10\">\n     <g id=\"line2d_10\">\n      <g>\n       <use style=\"stroke:#000000;stroke-width:0.6;\" x=\"278.361279\" xlink:href=\"#m721668e783\" y=\"224.64\"/>\n      </g>\n     </g>\n     <g id=\"text_9\">\n      <!-- 21:00 -->\n      <g transform=\"translate(263.951904 237.638438)scale(0.1 -0.1)\">\n       <use xlink:href=\"#DejaVuSans-50\"/>\n       <use x=\"63.623047\" xlink:href=\"#DejaVuSans-49\"/>\n       <use x=\"127.246094\" xlink:href=\"#DejaVuSans-58\"/>\n       <use x=\"160.9375\" xlink:href=\"#DejaVuSans-48\"/>\n       <use x=\"224.560547\" xlink:href=\"#DejaVuSans-48\"/>\n      </g>\n     </g>\n    </g>\n    <g id=\"xtick_11\">\n     <g id=\"line2d_11\">\n      <g>\n       <use style=\"stroke:#000000;stroke-width:0.6;\" x=\"345.883968\" xlink:href=\"#m721668e783\" y=\"224.64\"/>\n      </g>\n     </g>\n     <g id=\"text_10\">\n      <!-- 03:00 -->\n      <g transform=\"translate(331.474593 237.638438)scale(0.1 -0.1)\">\n       <use xlink:href=\"#DejaVuSans-48\"/>\n       <use x=\"63.623047\" xlink:href=\"#DejaVuSans-51\"/>\n       <use x=\"127.246094\" xlink:href=\"#DejaVuSans-58\"/>\n       <use x=\"160.9375\" xlink:href=\"#DejaVuSans-48\"/>\n       <use x=\"224.560547\" xlink:href=\"#DejaVuSans-48\"/>\n      </g>\n     </g>\n    </g>\n    <g id=\"text_11\">\n     <!-- elapsed_time -->\n     <defs>\n      <path d=\"M 56.203125 29.59375 \nL 56.203125 25.203125 \nL 14.890625 25.203125 \nQ 15.484375 15.921875 20.484375 11.0625 \nQ 25.484375 6.203125 34.421875 6.203125 \nQ 39.59375 6.203125 44.453125 7.46875 \nQ 49.3125 8.734375 54.109375 11.28125 \nL 54.109375 2.78125 \nQ 49.265625 0.734375 44.1875 -0.34375 \nQ 39.109375 -1.421875 33.890625 -1.421875 \nQ 20.796875 -1.421875 13.15625 6.1875 \nQ 5.515625 13.8125 5.515625 26.8125 \nQ 5.515625 40.234375 12.765625 48.109375 \nQ 20.015625 56 32.328125 56 \nQ 43.359375 56 49.78125 48.890625 \nQ 56.203125 41.796875 56.203125 29.59375 \nz\nM 47.21875 32.234375 \nQ 47.125 39.59375 43.09375 43.984375 \nQ 39.0625 48.390625 32.421875 48.390625 \nQ 24.90625 48.390625 20.390625 44.140625 \nQ 15.875 39.890625 15.1875 32.171875 \nz\n\" id=\"DejaVuSans-101\"/>\n      <path d=\"M 9.421875 75.984375 \nL 18.40625 75.984375 \nL 18.40625 0 \nL 9.421875 0 \nz\n\" id=\"DejaVuSans-108\"/>\n      <path d=\"M 18.109375 8.203125 \nL 18.109375 -20.796875 \nL 9.078125 -20.796875 \nL 9.078125 54.6875 \nL 18.109375 54.6875 \nL 18.109375 46.390625 \nQ 20.953125 51.265625 25.265625 53.625 \nQ 29.59375 56 35.59375 56 \nQ 45.5625 56 51.78125 48.09375 \nQ 58.015625 40.1875 58.015625 27.296875 \nQ 58.015625 14.40625 51.78125 6.484375 \nQ 45.5625 -1.421875 35.59375 -1.421875 \nQ 29.59375 -1.421875 25.265625 0.953125 \nQ 20.953125 3.328125 18.109375 8.203125 \nz\nM 48.6875 27.296875 \nQ 48.6875 37.203125 44.609375 42.84375 \nQ 40.53125 48.484375 33.40625 48.484375 \nQ 26.265625 48.484375 22.1875 42.84375 \nQ 18.109375 37.203125 18.109375 27.296875 \nQ 18.109375 17.390625 22.1875 11.75 \nQ 26.265625 6.109375 33.40625 6.109375 \nQ 40.53125 6.109375 44.609375 11.75 \nQ 48.6875 17.390625 48.6875 27.296875 \nz\n\" id=\"DejaVuSans-112\"/>\n      <path d=\"M 44.28125 53.078125 \nL 44.28125 44.578125 \nQ 40.484375 46.53125 36.375 47.5 \nQ 32.28125 48.484375 27.875 48.484375 \nQ 21.1875 48.484375 17.84375 46.4375 \nQ 14.5 44.390625 14.5 40.28125 \nQ 14.5 37.15625 16.890625 35.375 \nQ 19.28125 33.59375 26.515625 31.984375 \nL 29.59375 31.296875 \nQ 39.15625 29.25 43.1875 25.515625 \nQ 47.21875 21.78125 47.21875 15.09375 \nQ 47.21875 7.46875 41.1875 3.015625 \nQ 35.15625 -1.421875 24.609375 -1.421875 \nQ 20.21875 -1.421875 15.453125 -0.5625 \nQ 10.6875 0.296875 5.421875 2 \nL 5.421875 11.28125 \nQ 10.40625 8.6875 15.234375 7.390625 \nQ 20.0625 6.109375 24.8125 6.109375 \nQ 31.15625 6.109375 34.5625 8.28125 \nQ 37.984375 10.453125 37.984375 14.40625 \nQ 37.984375 18.0625 35.515625 20.015625 \nQ 33.0625 21.96875 24.703125 23.78125 \nL 21.578125 24.515625 \nQ 13.234375 26.265625 9.515625 29.90625 \nQ 5.8125 33.546875 5.8125 39.890625 \nQ 5.8125 47.609375 11.28125 51.796875 \nQ 16.75 56 26.8125 56 \nQ 31.78125 56 36.171875 55.265625 \nQ 40.578125 54.546875 44.28125 53.078125 \nz\n\" id=\"DejaVuSans-115\"/>\n      <path d=\"M 45.40625 46.390625 \nL 45.40625 75.984375 \nL 54.390625 75.984375 \nL 54.390625 0 \nL 45.40625 0 \nL 45.40625 8.203125 \nQ 42.578125 3.328125 38.25 0.953125 \nQ 33.9375 -1.421875 27.875 -1.421875 \nQ 17.96875 -1.421875 11.734375 6.484375 \nQ 5.515625 14.40625 5.515625 27.296875 \nQ 5.515625 40.1875 11.734375 48.09375 \nQ 17.96875 56 27.875 56 \nQ 33.9375 56 38.25 53.625 \nQ 42.578125 51.265625 45.40625 46.390625 \nz\nM 14.796875 27.296875 \nQ 14.796875 17.390625 18.875 11.75 \nQ 22.953125 6.109375 30.078125 6.109375 \nQ 37.203125 6.109375 41.296875 11.75 \nQ 45.40625 17.390625 45.40625 27.296875 \nQ 45.40625 37.203125 41.296875 42.84375 \nQ 37.203125 48.484375 30.078125 48.484375 \nQ 22.953125 48.484375 18.875 42.84375 \nQ 14.796875 37.203125 14.796875 27.296875 \nz\n\" id=\"DejaVuSans-100\"/>\n      <path d=\"M 50.984375 -16.609375 \nL 50.984375 -23.578125 \nL -0.984375 -23.578125 \nL -0.984375 -16.609375 \nz\n\" id=\"DejaVuSans-95\"/>\n      <path d=\"M 18.3125 70.21875 \nL 18.3125 54.6875 \nL 36.8125 54.6875 \nL 36.8125 47.703125 \nL 18.3125 47.703125 \nL 18.3125 18.015625 \nQ 18.3125 11.328125 20.140625 9.421875 \nQ 21.96875 7.515625 27.59375 7.515625 \nL 36.8125 7.515625 \nL 36.8125 0 \nL 27.59375 0 \nQ 17.1875 0 13.234375 3.875 \nQ 9.28125 7.765625 9.28125 18.015625 \nL 9.28125 47.703125 \nL 2.6875 47.703125 \nL 2.6875 54.6875 \nL 9.28125 54.6875 \nL 9.28125 70.21875 \nz\n\" id=\"DejaVuSans-116\"/>\n      <path d=\"M 9.421875 54.6875 \nL 18.40625 54.6875 \nL 18.40625 0 \nL 9.421875 0 \nz\nM 9.421875 75.984375 \nL 18.40625 75.984375 \nL 18.40625 64.59375 \nL 9.421875 64.59375 \nz\n\" id=\"DejaVuSans-105\"/>\n      <path d=\"M 52 44.1875 \nQ 55.375 50.25 60.0625 53.125 \nQ 64.75 56 71.09375 56 \nQ 79.640625 56 84.28125 50.015625 \nQ 88.921875 44.046875 88.921875 33.015625 \nL 88.921875 0 \nL 79.890625 0 \nL 79.890625 32.71875 \nQ 79.890625 40.578125 77.09375 44.375 \nQ 74.3125 48.1875 68.609375 48.1875 \nQ 61.625 48.1875 57.5625 43.546875 \nQ 53.515625 38.921875 53.515625 30.90625 \nL 53.515625 0 \nL 44.484375 0 \nL 44.484375 32.71875 \nQ 44.484375 40.625 41.703125 44.40625 \nQ 38.921875 48.1875 33.109375 48.1875 \nQ 26.21875 48.1875 22.15625 43.53125 \nQ 18.109375 38.875 18.109375 30.90625 \nL 18.109375 0 \nL 9.078125 0 \nL 9.078125 54.6875 \nL 18.109375 54.6875 \nL 18.109375 46.1875 \nQ 21.1875 51.21875 25.484375 53.609375 \nQ 29.78125 56 35.6875 56 \nQ 41.65625 56 45.828125 52.96875 \nQ 50 49.953125 52 44.1875 \nz\n\" id=\"DejaVuSans-109\"/>\n     </defs>\n     <g transform=\"translate(178.889844 264.114375)scale(0.1 -0.1)\">\n      <use xlink:href=\"#DejaVuSans-101\"/>\n      <use x=\"61.523438\" xlink:href=\"#DejaVuSans-108\"/>\n      <use x=\"89.306641\" xlink:href=\"#DejaVuSans-97\"/>\n      <use x=\"150.585938\" xlink:href=\"#DejaVuSans-112\"/>\n      <use x=\"214.0625\" xlink:href=\"#DejaVuSans-115\"/>\n      <use x=\"266.162109\" xlink:href=\"#DejaVuSans-101\"/>\n      <use x=\"327.685547\" xlink:href=\"#DejaVuSans-100\"/>\n      <use x=\"391.162109\" xlink:href=\"#DejaVuSans-95\"/>\n      <use x=\"441.162109\" xlink:href=\"#DejaVuSans-116\"/>\n      <use x=\"480.371094\" xlink:href=\"#DejaVuSans-105\"/>\n      <use x=\"508.154297\" xlink:href=\"#DejaVuSans-109\"/>\n      <use x=\"605.566406\" xlink:href=\"#DejaVuSans-101\"/>\n     </g>\n    </g>\n   </g>\n   <g id=\"matplotlib.axis_2\">\n    <g id=\"ytick_1\">\n     <g id=\"line2d_12\">\n      <defs>\n       <path d=\"M 0 0 \nL -3.5 0 \n\" id=\"m1082075174\" style=\"stroke:#000000;stroke-width:0.8;\"/>\n      </defs>\n      <g>\n       <use style=\"stroke:#000000;stroke-width:0.8;\" x=\"44.845313\" xlink:href=\"#m1082075174\" y=\"194.989091\"/>\n      </g>\n     </g>\n     <g id=\"text_12\">\n      <!-- −0.04 -->\n      <defs>\n       <path d=\"M 10.59375 35.5 \nL 73.1875 35.5 \nL 73.1875 27.203125 \nL 10.59375 27.203125 \nz\n\" id=\"DejaVuSans-8722\"/>\n       <path d=\"M 10.6875 12.40625 \nL 21 12.40625 \nL 21 0 \nL 10.6875 0 \nz\n\" id=\"DejaVuSans-46\"/>\n       <path d=\"M 37.796875 64.3125 \nL 12.890625 25.390625 \nL 37.796875 25.390625 \nz\nM 35.203125 72.90625 \nL 47.609375 72.90625 \nL 47.609375 25.390625 \nL 58.015625 25.390625 \nL 58.015625 17.1875 \nL 47.609375 17.1875 \nL 47.609375 0 \nL 37.796875 0 \nL 37.796875 17.1875 \nL 4.890625 17.1875 \nL 4.890625 26.703125 \nz\n\" id=\"DejaVuSans-52\"/>\n      </defs>\n      <g transform=\"translate(7.2 198.78831)scale(0.1 -0.1)\">\n       <use xlink:href=\"#DejaVuSans-8722\"/>\n       <use x=\"83.789062\" xlink:href=\"#DejaVuSans-48\"/>\n       <use x=\"147.412109\" xlink:href=\"#DejaVuSans-46\"/>\n       <use x=\"179.199219\" xlink:href=\"#DejaVuSans-48\"/>\n       <use x=\"242.822266\" xlink:href=\"#DejaVuSans-52\"/>\n      </g>\n     </g>\n    </g>\n    <g id=\"ytick_2\">\n     <g id=\"line2d_13\">\n      <g>\n       <use style=\"stroke:#000000;stroke-width:0.8;\" x=\"44.845313\" xlink:href=\"#m1082075174\" y=\"155.454545\"/>\n      </g>\n     </g>\n     <g id=\"text_13\">\n      <!-- −0.02 -->\n      <g transform=\"translate(7.2 159.253764)scale(0.1 -0.1)\">\n       <use xlink:href=\"#DejaVuSans-8722\"/>\n       <use x=\"83.789062\" xlink:href=\"#DejaVuSans-48\"/>\n       <use x=\"147.412109\" xlink:href=\"#DejaVuSans-46\"/>\n       <use x=\"179.199219\" xlink:href=\"#DejaVuSans-48\"/>\n       <use x=\"242.822266\" xlink:href=\"#DejaVuSans-50\"/>\n      </g>\n     </g>\n    </g>\n    <g id=\"ytick_3\">\n     <g id=\"line2d_14\">\n      <g>\n       <use style=\"stroke:#000000;stroke-width:0.8;\" x=\"44.845313\" xlink:href=\"#m1082075174\" y=\"115.92\"/>\n      </g>\n     </g>\n     <g id=\"text_14\">\n      <!-- 0.00 -->\n      <g transform=\"translate(15.579688 119.719219)scale(0.1 -0.1)\">\n       <use xlink:href=\"#DejaVuSans-48\"/>\n       <use x=\"63.623047\" xlink:href=\"#DejaVuSans-46\"/>\n       <use x=\"95.410156\" xlink:href=\"#DejaVuSans-48\"/>\n       <use x=\"159.033203\" xlink:href=\"#DejaVuSans-48\"/>\n      </g>\n     </g>\n    </g>\n    <g id=\"ytick_4\">\n     <g id=\"line2d_15\">\n      <g>\n       <use style=\"stroke:#000000;stroke-width:0.8;\" x=\"44.845313\" xlink:href=\"#m1082075174\" y=\"76.385455\"/>\n      </g>\n     </g>\n     <g id=\"text_15\">\n      <!-- 0.02 -->\n      <g transform=\"translate(15.579688 80.184673)scale(0.1 -0.1)\">\n       <use xlink:href=\"#DejaVuSans-48\"/>\n       <use x=\"63.623047\" xlink:href=\"#DejaVuSans-46\"/>\n       <use x=\"95.410156\" xlink:href=\"#DejaVuSans-48\"/>\n       <use x=\"159.033203\" xlink:href=\"#DejaVuSans-50\"/>\n      </g>\n     </g>\n    </g>\n    <g id=\"ytick_5\">\n     <g id=\"line2d_16\">\n      <g>\n       <use style=\"stroke:#000000;stroke-width:0.8;\" x=\"44.845313\" xlink:href=\"#m1082075174\" y=\"36.850909\"/>\n      </g>\n     </g>\n     <g id=\"text_16\">\n      <!-- 0.04 -->\n      <g transform=\"translate(15.579688 40.650128)scale(0.1 -0.1)\">\n       <use xlink:href=\"#DejaVuSans-48\"/>\n       <use x=\"63.623047\" xlink:href=\"#DejaVuSans-46\"/>\n       <use x=\"95.410156\" xlink:href=\"#DejaVuSans-48\"/>\n       <use x=\"159.033203\" xlink:href=\"#DejaVuSans-52\"/>\n      </g>\n     </g>\n    </g>\n   </g>\n   <g id=\"line2d_17\">\n    <path clip-path=\"url(#p9f4e826ec8)\" d=\"M 44.845313 115.92 \nL 47.658758 115.92 \nL 50.472203 115.92 \nL 53.285649 115.92 \nL 56.099094 115.92 \nL 58.912539 115.92 \nL 61.725985 115.92 \nL 64.53943 115.92 \nL 67.352876 115.92 \nL 70.166321 115.92 \nL 72.979766 115.92 \nL 75.793212 115.92 \nL 78.606657 115.92 \nL 81.420102 115.92 \nL 84.233548 115.92 \nL 87.046993 115.92 \nL 89.860439 115.92 \nL 92.673884 115.92 \nL 95.487329 115.92 \nL 98.300775 115.92 \nL 101.11422 115.92 \nL 103.927665 115.92 \nL 106.741111 115.92 \nL 109.554556 115.92 \nL 112.368002 115.92 \nL 115.181447 115.92 \nL 117.994892 115.92 \nL 120.808338 115.92 \nL 123.621783 115.92 \nL 126.435228 115.92 \nL 129.248674 115.92 \nL 132.062119 115.92 \nL 134.875565 115.92 \nL 137.68901 115.92 \nL 140.502455 115.92 \nL 143.315901 115.92 \nL 146.129346 115.92 \nL 148.942791 115.92 \nL 151.756237 115.92 \nL 154.569682 115.92 \nL 157.383128 115.92 \nL 160.196573 115.92 \nL 163.010018 115.92 \nL 165.823464 115.92 \nL 168.636909 115.92 \nL 171.450355 115.92 \nL 174.2638 115.92 \nL 177.077245 115.92 \nL 179.890691 115.92 \nL 182.704136 115.92 \nL 185.517581 115.92 \nL 188.331027 115.92 \nL 191.144472 115.92 \nL 193.957918 115.92 \nL 196.771363 115.92 \nL 199.584808 115.92 \nL 202.398254 115.92 \nL 205.211699 115.92 \nL 208.025144 115.92 \nL 210.83859 115.92 \nL 213.652035 115.92 \nL 216.465481 115.92 \nL 219.278926 115.92 \nL 222.092371 115.92 \nL 224.905817 115.92 \nL 227.719262 115.92 \nL 230.532707 115.92 \nL 233.346153 115.92 \nL 236.159598 115.92 \nL 238.973044 115.92 \nL 241.786489 115.92 \nL 244.599934 115.92 \nL 247.41338 115.92 \nL 250.226825 115.92 \nL 253.04027 115.92 \nL 255.853716 115.92 \nL 258.667161 115.92 \nL 261.480607 115.92 \nL 264.294052 115.92 \nL 267.107497 115.92 \nL 269.920943 115.92 \nL 272.734388 115.92 \nL 275.547834 115.92 \nL 278.361279 115.92 \nL 281.174724 115.92 \nL 283.98817 115.92 \nL 286.801615 115.92 \nL 289.61506 115.92 \nL 292.428506 115.92 \nL 295.241951 115.92 \nL 298.055397 115.92 \nL 300.868842 115.92 \nL 303.682287 115.92 \nL 306.495733 115.92 \nL 309.309178 115.92 \nL 312.122623 115.92 \nL 314.936069 115.92 \nL 317.749514 115.92 \nL 320.56296 115.92 \nL 323.376405 115.92 \nL 326.18985 115.92 \nL 329.003296 115.92 \nL 331.816741 115.92 \nL 334.630186 115.92 \nL 337.443632 115.92 \nL 340.257077 115.92 \nL 343.070523 115.92 \nL 345.883968 115.92 \nL 348.697413 115.92 \nL 351.510859 115.92 \nL 354.324304 115.92 \nL 357.137749 115.92 \nL 359.951195 115.92 \nL 362.76464 115.92 \nL 365.578086 115.92 \nL 368.391531 115.92 \nL 371.204976 115.92 \nL 374.018422 115.92 \nL 376.831867 115.92 \nL 379.645313 115.92 \n\" style=\"fill:none;stroke:#1f77b4;stroke-linecap:square;stroke-width:1.5;\"/>\n   </g>\n   <g id=\"patch_3\">\n    <path d=\"M 44.845313 224.64 \nL 44.845313 7.2 \n\" style=\"fill:none;stroke:#000000;stroke-linecap:square;stroke-linejoin:miter;stroke-width:0.8;\"/>\n   </g>\n   <g id=\"patch_4\">\n    <path d=\"M 379.645313 224.64 \nL 379.645313 7.2 \n\" style=\"fill:none;stroke:#000000;stroke-linecap:square;stroke-linejoin:miter;stroke-width:0.8;\"/>\n   </g>\n   <g id=\"patch_5\">\n    <path d=\"M 44.845313 224.64 \nL 379.645313 224.64 \n\" style=\"fill:none;stroke:#000000;stroke-linecap:square;stroke-linejoin:miter;stroke-width:0.8;\"/>\n   </g>\n   <g id=\"patch_6\">\n    <path d=\"M 44.845313 7.2 \nL 379.645313 7.2 \n\" style=\"fill:none;stroke:#000000;stroke-linecap:square;stroke-linejoin:miter;stroke-width:0.8;\"/>\n   </g>\n   <g id=\"legend_1\">\n    <g id=\"patch_7\">\n     <path d=\"M 306.085938 29.878125 \nL 372.645313 29.878125 \nQ 374.645313 29.878125 374.645313 27.878125 \nL 374.645313 14.2 \nQ 374.645313 12.2 372.645313 12.2 \nL 306.085938 12.2 \nQ 304.085938 12.2 304.085938 14.2 \nL 304.085938 27.878125 \nQ 304.085938 29.878125 306.085938 29.878125 \nz\n\" style=\"fill:#ffffff;opacity:0.8;stroke:#cccccc;stroke-linejoin:miter;\"/>\n    </g>\n    <g id=\"line2d_18\">\n     <path d=\"M 308.085938 20.298437 \nL 328.085938 20.298437 \n\" style=\"fill:none;stroke:#1f77b4;stroke-linecap:square;stroke-width:1.5;\"/>\n    </g>\n    <g id=\"line2d_19\"/>\n    <g id=\"text_17\">\n     <!-- rainfall -->\n     <defs>\n      <path d=\"M 41.109375 46.296875 \nQ 39.59375 47.171875 37.8125 47.578125 \nQ 36.03125 48 33.890625 48 \nQ 26.265625 48 22.1875 43.046875 \nQ 18.109375 38.09375 18.109375 28.8125 \nL 18.109375 0 \nL 9.078125 0 \nL 9.078125 54.6875 \nL 18.109375 54.6875 \nL 18.109375 46.1875 \nQ 20.953125 51.171875 25.484375 53.578125 \nQ 30.03125 56 36.53125 56 \nQ 37.453125 56 38.578125 55.875 \nQ 39.703125 55.765625 41.0625 55.515625 \nz\n\" id=\"DejaVuSans-114\"/>\n      <path d=\"M 37.109375 75.984375 \nL 37.109375 68.5 \nL 28.515625 68.5 \nQ 23.6875 68.5 21.796875 66.546875 \nQ 19.921875 64.59375 19.921875 59.515625 \nL 19.921875 54.6875 \nL 34.71875 54.6875 \nL 34.71875 47.703125 \nL 19.921875 47.703125 \nL 19.921875 0 \nL 10.890625 0 \nL 10.890625 47.703125 \nL 2.296875 47.703125 \nL 2.296875 54.6875 \nL 10.890625 54.6875 \nL 10.890625 58.5 \nQ 10.890625 67.625 15.140625 71.796875 \nQ 19.390625 75.984375 28.609375 75.984375 \nz\n\" id=\"DejaVuSans-102\"/>\n     </defs>\n     <g transform=\"translate(336.085938 23.798437)scale(0.1 -0.1)\">\n      <use xlink:href=\"#DejaVuSans-114\"/>\n      <use x=\"41.113281\" xlink:href=\"#DejaVuSans-97\"/>\n      <use x=\"102.392578\" xlink:href=\"#DejaVuSans-105\"/>\n      <use x=\"130.175781\" xlink:href=\"#DejaVuSans-110\"/>\n      <use x=\"193.554688\" xlink:href=\"#DejaVuSans-102\"/>\n      <use x=\"228.759766\" xlink:href=\"#DejaVuSans-97\"/>\n      <use x=\"290.039062\" xlink:href=\"#DejaVuSans-108\"/>\n      <use x=\"317.822266\" xlink:href=\"#DejaVuSans-108\"/>\n     </g>\n    </g>\n   </g>\n  </g>\n </g>\n <defs>\n  <clipPath id=\"p9f4e826ec8\">\n   <rect height=\"217.44\" width=\"334.8\" x=\"44.845313\" y=\"7.2\"/>\n  </clipPath>\n </defs>\n</svg>\n",
      "image/png": "[encoded data removed]"
     },
     "metadata": {
      "needs_background": "light"
     }
    }
   ],
   "source": [
    "conu_basin.timeseries('street3790', ['rainfall']).plot()"
   ]
  },
  {
   "cell_type": "code",
   "execution_count": null,
   "metadata": {},
   "outputs": [],
   "source": []
  },
  {
   "cell_type": "code",
   "execution_count": null,
   "metadata": {},
   "outputs": [],
   "source": []
  },
  {
   "cell_type": "code",
   "execution_count": 9,
   "metadata": {},
   "outputs": [],
   "source": [
    "def visualize(node:str, var:str, time_step:int, acc_data:bool):\n",
    "    ###########################\n",
    "    from plotly.subplots import make_subplots\n",
    "    import pandas as pd\n",
    "    import plotly.express as px\n",
    "    import plotly.graph_objects as go\n",
    "    ###########################\n",
    "\n",
    "    rainfall_step = max(conu_basin.which_time_step()[0], int((self.which_time_step()[0]) * time_step))\n",
    "\n",
    "    df_plot_0 = conu_basin.subgraphs_timeseries(node, 'rainfall', time_step=time_step)\n",
    "    df_plot_0 = df_plot_0.resample(f'{rainfall_step}min')\n",
    "    plot_rainfall_max = 1.5 * df_plot_0['rainfall'].max()\n",
    "\n",
    "    df_plot_1 = conu_basin.subgraphs_timeseries(node, var,time_step=time_step, acc_data=acc_data )\n",
    "    plot_var_max = 1.5 * df_plot_1[var].max()\n",
    "    splitted_var = var.split('_')\n",
    "    plot_var_legend = ' '.join([word.capitalize() for word in splitted_var][:-1]) + f' [{splitted_var[-1]}]'\n",
    "        \n",
    "\n",
    "\n",
    "    subfig = make_subplots(specs=[[{\"secondary_y\": True}]])\n",
    "\n",
    "    # create two independent figures with px.line each containing data from multiple columns\n",
    "    fig = px.bar(df_plot_0, y=['rainfall'])#, render_mode=\"webgl\",)\n",
    "    fig2 = px.line(df_plot_1, y=var)\n",
    "    fig2.update_traces(line={'width':5, 'color':'#125AEF'})\n",
    "\n",
    "\n",
    "    fig2.update_traces(yaxis=\"y2\")\n",
    "\n",
    "\n",
    "    subfig.add_traces(fig.data + fig2.data)# + fig3.data)\n",
    "    subfig['layout']['yaxis1'].update(title='Precipitation intensity (mm/h)',range=[0, plot_rainfall_max], autorange='reversed')\n",
    "    subfig['layout']['yaxis2'].update(title= plot_var_legend, range=[0, plot_var_max], autorange=False)\n",
    "    subfig.for_each_trace(lambda t: t.update(marker=dict(color=['black'])))\n",
    "    subfig['layout']['xaxis'].update(title='', tickformat='%d-%b %Hh')\n",
    "    subfig['layout'].update(plot_bgcolor='white', font={'size':25})#, template='plotly_white')\n",
    "    subfig.update_xaxes(showline=True, linewidth=3, linecolor='black', mirror=True)\n",
    "    subfig.update_yaxes(showline=True, linewidth=3, linecolor='black', mirror=True)\n",
    "    subfig.update_xaxes(ticks=\"inside\", tickwidth=2, tickcolor='black', ticklen=10)\n",
    "    subfig.update_yaxes(ticks=\"inside\", tickwidth=2, tickcolor='black', ticklen=10)\n",
    "\n",
    "    subfig['layout'].update(height=600, width=1200)\n",
    "    subfig.update_layout(showlegend=False)\n",
    "\n",
    "    return subfig\n"
   ]
  },
  {
   "cell_type": "code",
   "execution_count": null,
   "metadata": {},
   "outputs": [],
   "source": []
  },
  {
   "cell_type": "code",
   "execution_count": null,
   "metadata": {},
   "outputs": [],
   "source": []
  },
  {
   "cell_type": "code",
   "execution_count": 23,
   "metadata": {},
   "outputs": [
    {
     "output_type": "error",
     "ename": "ModuleNotFoundError",
     "evalue": "No module named 'torch'",
     "traceback": [
      "\u001b[0;31m---------------------------------------------------------------------------\u001b[0m",
      "\u001b[0;31mModuleNotFoundError\u001b[0m                       Traceback (most recent call last)",
      "\u001b[0;32m<ipython-input-23-77b0e963a5a8>\u001b[0m in \u001b[0;36m<module>\u001b[0;34m\u001b[0m\n\u001b[0;32m----> 1\u001b[0;31m \u001b[0;32mimport\u001b[0m \u001b[0mtorch\u001b[0m\u001b[0;34m\u001b[0m\u001b[0;34m\u001b[0m\u001b[0m\n\u001b[0m\u001b[1;32m      2\u001b[0m \u001b[0;32mimport\u001b[0m \u001b[0mtorch_geometric\u001b[0m\u001b[0;34m\u001b[0m\u001b[0;34m\u001b[0m\u001b[0m\n\u001b[1;32m      3\u001b[0m \u001b[0;32mfrom\u001b[0m \u001b[0mtorch_geometric\u001b[0m \u001b[0;32mimport\u001b[0m \u001b[0mnn\u001b[0m\u001b[0;34m\u001b[0m\u001b[0;34m\u001b[0m\u001b[0m\n\u001b[1;32m      4\u001b[0m \u001b[0;32mfrom\u001b[0m \u001b[0mtorch_geometric\u001b[0m\u001b[0;34m.\u001b[0m\u001b[0mutils\u001b[0m\u001b[0;34m.\u001b[0m\u001b[0mconvert\u001b[0m \u001b[0;32mimport\u001b[0m \u001b[0mfrom_networkx\u001b[0m\u001b[0;34m\u001b[0m\u001b[0;34m\u001b[0m\u001b[0m\n\u001b[1;32m      5\u001b[0m \u001b[0;34m\u001b[0m\u001b[0m\n",
      "\u001b[0;31mModuleNotFoundError\u001b[0m: No module named 'torch'"
     ]
    }
   ],
   "source": [
    "import torch\n",
    "import torch_geometric\n",
    "from torch_geometric import nn\n",
    "from torch_geometric.utils.convert import from_networkx\n",
    "\n",
    "import pandas as pd\n",
    "import numpy as np"
   ]
  },
  {
   "cell_type": "code",
   "execution_count": null,
   "metadata": {},
   "outputs": [],
   "source": [
    "graph.select_attrs({'nodes': ['target', 'lateral_inflow'], 'edges': ['flow_rate']})\n",
    "data = from_networkx(graph.pruned_digraph)"
   ]
  },
  {
   "cell_type": "code",
   "execution_count": null,
   "metadata": {},
   "outputs": [],
   "source": [
    "data.target"
   ]
  },
  {
   "cell_type": "code",
   "execution_count": null,
   "metadata": {},
   "outputs": [],
   "source": [
    "data"
   ]
  },
  {
   "cell_type": "code",
   "execution_count": null,
   "metadata": {},
   "outputs": [],
   "source": [
    "torch.nn(np.matrix(pd.DataFrame(graph.nodal_data_dict).T[['lateral_inflow', 'rainfall']]))"
   ]
  },
  {
   "cell_type": "code",
   "execution_count": null,
   "metadata": {},
   "outputs": [],
   "source": [
    "nx.attr_matrix(a, node_attr='depth_above_invert')[0]"
   ]
  },
  {
   "cell_type": "code",
   "execution_count": null,
   "metadata": {},
   "outputs": [],
   "source": [
    "torch.tensor([i for i in graph.nodal_data_query_result])"
   ]
  },
  {
   "cell_type": "code",
   "execution_count": null,
   "metadata": {},
   "outputs": [],
   "source": []
  }
 ],
 "metadata": {
  "kernelspec": {
   "display_name": "Python 3",
   "language": "python",
   "name": "python3"
  },
  "language_info": {
   "codemirror_mode": {
    "name": "ipython",
    "version": 3
   },
   "file_extension": ".py",
   "mimetype": "text/x-python",
   "name": "python",
   "nbconvert_exporter": "python",
   "pygments_lexer": "ipython3",
   "version": "3.8.5-final"
  }
 },
 "nbformat": 4,
 "nbformat_minor": 4
}