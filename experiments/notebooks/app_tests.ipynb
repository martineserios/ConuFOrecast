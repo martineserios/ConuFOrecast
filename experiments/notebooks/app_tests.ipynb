{
 "metadata": {
  "language_info": {
   "codemirror_mode": {
    "name": "ipython",
    "version": 3
   },
   "file_extension": ".py",
   "mimetype": "text/x-python",
   "name": "python",
   "nbconvert_exporter": "python",
   "pygments_lexer": "ipython3",
   "version": "3.8.5-final"
  },
  "orig_nbformat": 2,
  "kernelspec": {
   "name": "Python 3.8.5 64-bit ('app-viz': conda)",
   "display_name": "Python 3.8.5 64-bit ('app-viz': conda)",
   "metadata": {
    "interpreter": {
     "hash": "1c5b2c5f07927ac8b5479a0d81d2349552c8b2e008340811797848aa1b29279d"
    }
   }
  }
 },
 "nbformat": 4,
 "nbformat_minor": 2,
 "cells": [
  {
   "cell_type": "code",
   "execution_count": 7,
   "metadata": {},
   "outputs": [],
   "source": [
    "# %%\n",
    "# -*- coding: utf-8 -*-\n",
    "# from _plotly_utils.colors import color_parser\n",
    "import dash\n",
    "import dash_core_components as dcc\n",
    "import dash_html_components as html\n",
    "from dash.dependencies import Input, Output\n",
    "\n",
    "import pandas as pd\n",
    "import plotly.graph_objs as go\n",
    "import numpy as np\n",
    "import networkx as nx\n",
    "import pandas as pd\n",
    "import networkx as nx\n",
    "from collections import namedtuple\n",
    "import datatable as dt\n",
    "import psycopg2\n",
    "\n",
    "# local imports\n",
    "sys.path.append(os.path.join(os.getcwd(), '..'))\n",
    "from ConuForecast.src.graph_utils_v2 import GraphManager, DBconnector\n",
    "\n",
    "conn = DBconnector('172.17.0.1', 5555, 'base-ina', 'postgres', 'postgres')\n",
    "\n",
    "MODEL = 'model_007'\n",
    "EVENT = '007'\n",
    "PRECIP = 'precipitation_007'\n",
    "ET = '2017-01-01 14:15:00'\n",
    "ATTRS = {\n",
    "    'nodes': ['elevation', 'area', 'imperv', 'slope'],\n",
    "    'edges': ['flow_rate', 'flow_velocity']\n",
    "    }\n",
    "\n",
    "\n",
    "\n",
    "conu_basin = GraphManager(model=MODEL, event=EVENT, precip=PRECIP, conn=conn)\n"
   ]
  },
  {
   "cell_type": "code",
   "execution_count": 13,
   "metadata": {},
   "outputs": [
    {
     "output_type": "execute_result",
     "data": {
      "text/plain": [
       "{'node_id': 'NODO4597',\n",
       " 'subcatchment_id': 'CUENCA4480',\n",
       " 'elapsed_time': datetime.datetime(2017, 1, 1, 14, 15),\n",
       " 'depth_above_invert': 13.386,\n",
       " 'elevation': 0.174,\n",
       " 'area': 1.0,\n",
       " 'imperv': 1.978,\n",
       " 'target': 2}"
      ]
     },
     "metadata": {},
     "execution_count": 13
    }
   ],
   "source": [
    "set(conu_basin.pos_dict.keys())\n",
    "\n",
    "conu_basin.build_subgraph('NODO4581', ET, ATTRS, acc_data=False, in_place=False).nodes()['NODO4597']"
   ]
  },
  {
   "cell_type": "code",
   "execution_count": 32,
   "metadata": {},
   "outputs": [
    {
     "output_type": "execute_result",
     "data": {
      "text/plain": [
       "{'node_id': 'NODO1815',\n",
       " 'subcatchment_id': 'CUENCA1698',\n",
       " 'elapsed_time': datetime.datetime(2017, 1, 1, 14, 15),\n",
       " 'depth_above_invert': 2.974,\n",
       " 'elevation': 0.286,\n",
       " 'area': 1.0,\n",
       " 'imperv': 0.061}"
      ]
     },
     "metadata": {},
     "execution_count": 32
    }
   ],
   "source": [
    "nodal_data_dict = conu_basin.get_nodal_data(ET, ATTRS, in_place=False)\n",
    "nodal_data_dict['NODO1815']"
   ]
  },
  {
   "cell_type": "code",
   "execution_count": 13,
   "metadata": {},
   "outputs": [
    {
     "output_type": "execute_result",
     "data": {
      "text/plain": [
       "['',\n",
       " '/mnt/notebooks',\n",
       " '/usr/local/spark/python',\n",
       " '/usr/local/spark/python/lib/py4j-0.10.9-src.zip',\n",
       " '/home/jovyan/.vscode-server/extensions/ms-python.python-2020.9.114305/pythonFiles',\n",
       " '/home/jovyan/.vscode-server/extensions/ms-python.python-2020.9.114305/pythonFiles/lib/python',\n",
       " '/opt/conda/envs/app-viz/lib/python37.zip',\n",
       " '/opt/conda/envs/app-viz/lib/python3.7',\n",
       " '/opt/conda/envs/app-viz/lib/python3.7/lib-dynload',\n",
       " '/opt/conda/envs/app-viz/lib/python3.7/site-packages',\n",
       " '/opt/conda/envs/app-viz/lib/python3.7/site-packages/IPython/extensions',\n",
       " '/home/jovyan/.ipython',\n",
       " '/mnt/src',\n",
       " '/mnt/notebooks/..',\n",
       " '/mnt/notebooks/..']"
      ]
     },
     "metadata": {},
     "execution_count": 13
    }
   ],
   "source": [
    "sys.path"
   ]
  },
  {
   "cell_type": "code",
   "execution_count": null,
   "metadata": {},
   "outputs": [],
   "source": []
  },
  {
   "cell_type": "code",
   "execution_count": null,
   "metadata": {},
   "outputs": [],
   "source": []
  }
 ]
}