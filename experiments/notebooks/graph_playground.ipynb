{
 "cells": [
  {
   "cell_type": "code",
   "execution_count": 1,
   "metadata": {},
   "outputs": [
    {
     "output_type": "display_data",
     "data": {
      "text/plain": "<IPython.core.display.HTML object>",
      "text/html": "<style type='text/css'>\n.datatable table.frame { margin-bottom: 0; }\n.datatable table.frame thead { border-bottom: none; }\n.datatable table.frame tr.coltypes td {  color: #FFFFFF;  line-height: 6px;  padding: 0 0.5em;}\n.datatable .boolean { background: #DDDD99; }\n.datatable .object  { background: #565656; }\n.datatable .integer { background: #5D9E5D; }\n.datatable .float   { background: #4040CC; }\n.datatable .string  { background: #CC4040; }\n.datatable .row_index {  background: var(--jp-border-color3);  border-right: 1px solid var(--jp-border-color0);  color: var(--jp-ui-font-color3);  font-size: 9px;}\n.datatable .frame tr.coltypes .row_index {  background: var(--jp-border-color0);}\n.datatable th:nth-child(2) { padding-left: 12px; }\n.datatable .hellipsis {  color: var(--jp-cell-editor-border-color);}\n.datatable .vellipsis {  background: var(--jp-layout-color0);  color: var(--jp-cell-editor-border-color);}\n.datatable .na {  color: var(--jp-cell-editor-border-color);  font-size: 80%;}\n.datatable .footer { font-size: 9px; }\n.datatable .frame_dimensions {  background: var(--jp-border-color3);  border-top: 1px solid var(--jp-border-color0);  color: var(--jp-ui-font-color3);  display: inline-block;  opacity: 0.6;  padding: 1px 10px 1px 5px;}\n.datatable .frame thead tr.colnames {  background-image: url('data:image/png;base64,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');  background-repeat: repeat-x;  background-size: 14px;  height: 28px;}\n</style>\n"
     },
     "metadata": {}
    }
   ],
   "source": [
    "import sys\n",
    "import os\n",
    "import networkx as nx\n",
    "\n",
    "import pandas as pd\n",
    "from plotly.subplots import make_subplots\n",
    "import plotly.express as px\n",
    "import plotly.graph_objects as go\n",
    "\n",
    "sys.path.append(os.path.join(os.getcwd(), '../..'))\n",
    "from ConuForecast.src.graph_utils import GraphEngine, DBconnector"
   ]
  },
  {
   "cell_type": "code",
   "execution_count": 3,
   "metadata": {
    "tags": []
   },
   "outputs": [],
   "source": [
    "conn = DBconnector('172.17.0.1', 5555, 'base-ina', 'postgres', 'postgres')\n",
    "\n",
    "EVENT = 'sjj-070'\n",
    "MODEL = f'model_{EVENT}'\n",
    "PRECIP = 'precipitation_{EVENT}'\n",
    "ET = '2017-01-01 10:15:00'\n",
    "ET = '2019-10-11 00:10:00'\n",
    "ATTRS = {\n",
    "    'nodes': ['elevation', 'area', 'imperv', 'slope','rainfall_acc', 'depth_above_invert'],\n",
    "    'edges': []\n",
    "    # 'edges': ['flow_rate', 'flow_velocity']\n",
    "    }\n",
    "\n",
    "conu_basin = GraphEngine(model=MODEL, event=EVENT, precip=PRECIP, conn=conn)"
   ]
  },
  {
   "cell_type": "code",
   "execution_count": 10,
   "metadata": {},
   "outputs": [
    {
     "output_type": "error",
     "ename": "KeyboardInterrupt",
     "evalue": "",
     "traceback": [
      "\u001b[0;31m---------------------------------------------------------------------------\u001b[0m",
      "\u001b[0;31mKeyboardInterrupt\u001b[0m                         Traceback (most recent call last)",
      "\u001b[0;32m<ipython-input-10-d8c5ee6cf183>\u001b[0m in \u001b[0;36m<module>\u001b[0;34m\u001b[0m\n\u001b[0;32m----> 1\u001b[0;31m \u001b[0mconu_basin\u001b[0m\u001b[0;34m.\u001b[0m\u001b[0mbuild_digraph\u001b[0m\u001b[0;34m(\u001b[0m\u001b[0mET\u001b[0m\u001b[0;34m,\u001b[0m \u001b[0mATTRS\u001b[0m\u001b[0;34m,\u001b[0m \u001b[0min_place\u001b[0m\u001b[0;34m=\u001b[0m\u001b[0;32mFalse\u001b[0m\u001b[0;34m)\u001b[0m\u001b[0;34m\u001b[0m\u001b[0;34m\u001b[0m\u001b[0m\n\u001b[0m",
      "\u001b[0;32m/mnt/experiments/notebooks/../../ConuForecast/src/graph_utils.py\u001b[0m in \u001b[0;36mbuild_digraph\u001b[0;34m(self, elapsed_time, attrs, in_place)\u001b[0m\n\u001b[1;32m    710\u001b[0m \u001b[0;34m\u001b[0m\u001b[0m\n\u001b[1;32m    711\u001b[0m         \u001b[0;32melse\u001b[0m\u001b[0;34m:\u001b[0m\u001b[0;34m\u001b[0m\u001b[0;34m\u001b[0m\u001b[0m\n\u001b[0;32m--> 712\u001b[0;31m             \u001b[0mnodal_data\u001b[0m \u001b[0;34m=\u001b[0m \u001b[0mself\u001b[0m\u001b[0;34m.\u001b[0m\u001b[0mget_nodal_data\u001b[0m\u001b[0;34m(\u001b[0m\u001b[0melapsed_time\u001b[0m\u001b[0;34m,\u001b[0m \u001b[0mattrs\u001b[0m\u001b[0;34m,\u001b[0m \u001b[0min_place\u001b[0m\u001b[0;34m=\u001b[0m\u001b[0;32mFalse\u001b[0m\u001b[0;34m)\u001b[0m\u001b[0;34m\u001b[0m\u001b[0;34m\u001b[0m\u001b[0m\n\u001b[0m\u001b[1;32m    713\u001b[0m             \u001b[0mnodal_linkage\u001b[0m \u001b[0;34m=\u001b[0m \u001b[0mself\u001b[0m\u001b[0;34m.\u001b[0m\u001b[0mget_nodal_linkage\u001b[0m\u001b[0;34m(\u001b[0m\u001b[0melapsed_time\u001b[0m\u001b[0;34m,\u001b[0m \u001b[0mattrs\u001b[0m\u001b[0;34m,\u001b[0m \u001b[0min_place\u001b[0m\u001b[0;34m=\u001b[0m\u001b[0;32mFalse\u001b[0m\u001b[0;34m)\u001b[0m\u001b[0;34m\u001b[0m\u001b[0;34m\u001b[0m\u001b[0m\n\u001b[1;32m    714\u001b[0m \u001b[0;34m\u001b[0m\u001b[0m\n",
      "\u001b[0;32m/mnt/experiments/notebooks/../../ConuForecast/src/graph_utils.py\u001b[0m in \u001b[0;36mget_nodal_data\u001b[0;34m(self, elapsed_time, attrs, in_place)\u001b[0m\n\u001b[1;32m    662\u001b[0m                 \u001b[0mself\u001b[0m\u001b[0;34m.\u001b[0m\u001b[0mnodal_data_dict\u001b[0m\u001b[0;34m[\u001b[0m\u001b[0;34mf'{self.event}_{elapsed_time}'\u001b[0m\u001b[0;34m]\u001b[0m \u001b[0;34m=\u001b[0m \u001b[0mnodal_data\u001b[0m\u001b[0;34m\u001b[0m\u001b[0;34m\u001b[0m\u001b[0m\n\u001b[1;32m    663\u001b[0m         \u001b[0;32melse\u001b[0m\u001b[0;34m:\u001b[0m\u001b[0;34m\u001b[0m\u001b[0;34m\u001b[0m\u001b[0m\n\u001b[0;32m--> 664\u001b[0;31m             \u001b[0mquery\u001b[0m \u001b[0;34m=\u001b[0m \u001b[0mself\u001b[0m\u001b[0;34m.\u001b[0m\u001b[0mnodal_data_query\u001b[0m\u001b[0;34m(\u001b[0m\u001b[0melapsed_time\u001b[0m\u001b[0;34m,\u001b[0m \u001b[0mattrs\u001b[0m\u001b[0;34m,\u001b[0m \u001b[0min_place\u001b[0m\u001b[0;34m=\u001b[0m\u001b[0;32mFalse\u001b[0m\u001b[0;34m)\u001b[0m\u001b[0;34m\u001b[0m\u001b[0;34m\u001b[0m\u001b[0m\n\u001b[0m\u001b[1;32m    665\u001b[0m \u001b[0;34m\u001b[0m\u001b[0m\n\u001b[1;32m    666\u001b[0m             nodal_data = {i[0]: dict(zip(node_attrs.split(','), i))\n",
      "\u001b[0;32m/mnt/experiments/notebooks/../../ConuForecast/src/graph_utils.py\u001b[0m in \u001b[0;36mnodal_data_query\u001b[0;34m(self, elapsed_time, attrs, in_place)\u001b[0m\n\u001b[1;32m    634\u001b[0m \u001b[0;34m\u001b[0m\u001b[0m\n\u001b[1;32m    635\u001b[0m         \u001b[0mcur2\u001b[0m \u001b[0;34m=\u001b[0m \u001b[0mself\u001b[0m\u001b[0;34m.\u001b[0m\u001b[0mconn\u001b[0m\u001b[0;34m.\u001b[0m\u001b[0mcursor\u001b[0m\u001b[0;34m(\u001b[0m\u001b[0;34m)\u001b[0m\u001b[0;34m\u001b[0m\u001b[0;34m\u001b[0m\u001b[0m\n\u001b[0;32m--> 636\u001b[0;31m         \u001b[0mcur2\u001b[0m\u001b[0;34m.\u001b[0m\u001b[0mexecute\u001b[0m\u001b[0;34m(\u001b[0m\u001b[0mnodal_data_query\u001b[0m\u001b[0;34m)\u001b[0m\u001b[0;34m\u001b[0m\u001b[0;34m\u001b[0m\u001b[0m\n\u001b[0m\u001b[1;32m    637\u001b[0m         \u001b[0mnodal_data_query_result\u001b[0m \u001b[0;34m=\u001b[0m \u001b[0mcur2\u001b[0m\u001b[0;34m.\u001b[0m\u001b[0mfetchall\u001b[0m\u001b[0;34m(\u001b[0m\u001b[0;34m)\u001b[0m\u001b[0;34m\u001b[0m\u001b[0;34m\u001b[0m\u001b[0m\n\u001b[1;32m    638\u001b[0m \u001b[0;34m\u001b[0m\u001b[0m\n",
      "\u001b[0;32m/opt/conda/envs/cpu-torch-geom/lib/python3.8/encodings/utf_8.py\u001b[0m in \u001b[0;36mdecode\u001b[0;34m(input, errors)\u001b[0m\n\u001b[1;32m     13\u001b[0m \u001b[0mencode\u001b[0m \u001b[0;34m=\u001b[0m \u001b[0mcodecs\u001b[0m\u001b[0;34m.\u001b[0m\u001b[0mutf_8_encode\u001b[0m\u001b[0;34m\u001b[0m\u001b[0;34m\u001b[0m\u001b[0m\n\u001b[1;32m     14\u001b[0m \u001b[0;34m\u001b[0m\u001b[0m\n\u001b[0;32m---> 15\u001b[0;31m \u001b[0;32mdef\u001b[0m \u001b[0mdecode\u001b[0m\u001b[0;34m(\u001b[0m\u001b[0minput\u001b[0m\u001b[0;34m,\u001b[0m \u001b[0merrors\u001b[0m\u001b[0;34m=\u001b[0m\u001b[0;34m'strict'\u001b[0m\u001b[0;34m)\u001b[0m\u001b[0;34m:\u001b[0m\u001b[0;34m\u001b[0m\u001b[0;34m\u001b[0m\u001b[0m\n\u001b[0m\u001b[1;32m     16\u001b[0m     \u001b[0;32mreturn\u001b[0m \u001b[0mcodecs\u001b[0m\u001b[0;34m.\u001b[0m\u001b[0mutf_8_decode\u001b[0m\u001b[0;34m(\u001b[0m\u001b[0minput\u001b[0m\u001b[0;34m,\u001b[0m \u001b[0merrors\u001b[0m\u001b[0;34m,\u001b[0m \u001b[0;32mTrue\u001b[0m\u001b[0;34m)\u001b[0m\u001b[0;34m\u001b[0m\u001b[0;34m\u001b[0m\u001b[0m\n\u001b[1;32m     17\u001b[0m \u001b[0;34m\u001b[0m\u001b[0m\n",
      "\u001b[0;31mKeyboardInterrupt\u001b[0m: "
     ]
    }
   ],
   "source": [
    "conu_basin.build_digraph(ET, ATTRS, in_place=False)"
   ]
  },
  {
   "cell_type": "code",
   "execution_count": 11,
   "metadata": {},
   "outputs": [
    {
     "output_type": "execute_result",
     "data": {
      "text/plain": [
       "('NODO7813', 'NODO6987')"
      ]
     },
     "metadata": {},
     "execution_count": 11
    }
   ],
   "source": [
    "preds_list = [(i[0],i[1]) for i in nx.edge_dfs(conu_basin.digraphs[f'{conu_basin.event}_{ET}'], 'NODO1819', 'reverse')]\n",
    "# if len(preds_list) == 0:\n",
    "#     preds_list = ['NODO1819',]\n",
    "\n",
    "conu_basin.nodal_linkage_dict.items()\n",
    "[(i[0],i[1]) for i in nx.edge_dfs(conu_basin.digraphs[f'{conu_basin.event}_{ET}'], 'NODO6987', 'reverse')][0]"
   ]
  },
  {
   "cell_type": "code",
   "execution_count": 9,
   "metadata": {
    "tags": []
   },
   "outputs": [
    {
     "output_type": "execute_result",
     "data": {
      "text/plain": [
       "<networkx.classes.digraph.DiGraph at 0x7f962aa34f10>"
      ]
     },
     "metadata": {},
     "execution_count": 9
    }
   ],
   "source": [
    "conu_basin.build_subgraph('NODO6', ET, ATTRS, False, False)"
   ]
  },
  {
   "cell_type": "code",
   "execution_count": 10,
   "metadata": {},
   "outputs": [
    {
     "output_type": "execute_result",
     "data": {
      "text/plain": [
       "'node_id,subcatchment_id,elapsed_time,depth_above_invert,elevation,area,imperv,slope'"
      ]
     },
     "metadata": {},
     "execution_count": 10
    }
   ],
   "source": [
    "','.join(['node_id', 'subcatchment_id', 'elapsed_time', 'depth_above_invert']) + ',' + ','.join(ATTRS['nodes'])"
   ]
  },
  {
   "cell_type": "code",
   "execution_count": null,
   "metadata": {},
   "outputs": [],
   "source": [
    "'area', 'imperv', 'infiltration_loss', 'elevation', \n",
    "\n",
    "\n",
    "'flow_rate', 'length', 'roughness', "
   ]
  },
  {
   "cell_type": "code",
   "execution_count": 5,
   "metadata": {},
   "outputs": [
    {
     "output_type": "execute_result",
     "data": {
      "text/plain": [
       "{'node_id': 'NODO7677',\n",
       " 'subcatchment_id': 'CUENCA7560',\n",
       " 'elapsed_time': datetime.datetime(2017, 1, 1, 0, 15),\n",
       " 'depth_above_invert': 0.0,\n",
       " 'area': 0.278}"
      ]
     },
     "metadata": {},
     "execution_count": 5
    }
   ],
   "source": [
    "conu_basin.nodal_data_dict['007_2017-01-01 00:15:00']['NODO7677']"
   ]
  },
  {
   "source": [
    "conu_basin.subgraph_tseries_viz('NODO1601',['area'], time_step=8)"
   ],
   "cell_type": "code",
   "metadata": {
    "tags": []
   },
   "execution_count": 3,
   "outputs": [
    {
     "output_type": "error",
     "ename": "TypeError",
     "evalue": "unhashable type: 'list'",
     "traceback": [
      "\u001b[0;31m---------------------------------------------------------------------------\u001b[0m",
      "\u001b[0;31mTypeError\u001b[0m                                 Traceback (most recent call last)",
      "\u001b[0;32m<ipython-input-3-578463478f6a>\u001b[0m in \u001b[0;36m<module>\u001b[0;34m\u001b[0m\n\u001b[0;32m----> 1\u001b[0;31m \u001b[0mconu_basin\u001b[0m\u001b[0;34m.\u001b[0m\u001b[0msubgraph_tseries_viz\u001b[0m\u001b[0;34m(\u001b[0m\u001b[0;34m'NODO1601'\u001b[0m\u001b[0;34m,\u001b[0m\u001b[0;34m[\u001b[0m\u001b[0;34m'area'\u001b[0m\u001b[0;34m]\u001b[0m\u001b[0;34m,\u001b[0m \u001b[0mtime_step\u001b[0m\u001b[0;34m=\u001b[0m\u001b[0;36m8\u001b[0m\u001b[0;34m)\u001b[0m\u001b[0;34m\u001b[0m\u001b[0;34m\u001b[0m\u001b[0m\n\u001b[0m",
      "\u001b[0;32m/mnt/notebooks/../ConuForecast/src/graph_utils_v2.py\u001b[0m in \u001b[0;36msubgraph_tseries_viz\u001b[0;34m(self, node, var, time_step)\u001b[0m\n\u001b[1;32m   1168\u001b[0m         \u001b[0mplot_rainfall_max\u001b[0m \u001b[0;34m=\u001b[0m \u001b[0;36m1.5\u001b[0m \u001b[0;34m*\u001b[0m \u001b[0mdf_plot_0\u001b[0m\u001b[0;34m[\u001b[0m\u001b[0;34m'rainfall'\u001b[0m\u001b[0;34m]\u001b[0m\u001b[0;34m.\u001b[0m\u001b[0mmax\u001b[0m\u001b[0;34m(\u001b[0m\u001b[0;34m)\u001b[0m\u001b[0;34m\u001b[0m\u001b[0;34m\u001b[0m\u001b[0m\n\u001b[1;32m   1169\u001b[0m \u001b[0;34m\u001b[0m\u001b[0m\n\u001b[0;32m-> 1170\u001b[0;31m         \u001b[0mdf_plot_1\u001b[0m \u001b[0;34m=\u001b[0m \u001b[0mself\u001b[0m\u001b[0;34m.\u001b[0m\u001b[0msub_digraphs_timeseries\u001b[0m\u001b[0;34m(\u001b[0m\u001b[0mnode\u001b[0m\u001b[0;34m,\u001b[0m \u001b[0mvar\u001b[0m\u001b[0;34m,\u001b[0m\u001b[0mtime_step\u001b[0m\u001b[0;34m=\u001b[0m\u001b[0mtime_step\u001b[0m\u001b[0;34m)\u001b[0m\u001b[0;34m\u001b[0m\u001b[0;34m\u001b[0m\u001b[0m\n\u001b[0m\u001b[1;32m   1171\u001b[0m         \u001b[0mplot_var_max\u001b[0m \u001b[0;34m=\u001b[0m \u001b[0;36m1.5\u001b[0m \u001b[0;34m*\u001b[0m \u001b[0mdf_plot_1\u001b[0m\u001b[0;34m[\u001b[0m\u001b[0mvar\u001b[0m\u001b[0;34m]\u001b[0m\u001b[0;34m.\u001b[0m\u001b[0mmax\u001b[0m\u001b[0;34m(\u001b[0m\u001b[0;34m)\u001b[0m\u001b[0;34m\u001b[0m\u001b[0;34m\u001b[0m\u001b[0m\n\u001b[1;32m   1172\u001b[0m         \u001b[0mplot_var_min\u001b[0m \u001b[0;34m=\u001b[0m \u001b[0;36m1.1\u001b[0m \u001b[0;34m*\u001b[0m \u001b[0mdf_plot_1\u001b[0m\u001b[0;34m[\u001b[0m\u001b[0mvar\u001b[0m\u001b[0;34m]\u001b[0m\u001b[0;34m.\u001b[0m\u001b[0mmin\u001b[0m\u001b[0;34m(\u001b[0m\u001b[0;34m)\u001b[0m\u001b[0;34m\u001b[0m\u001b[0;34m\u001b[0m\u001b[0m\n",
      "\u001b[0;32m/mnt/notebooks/../ConuForecast/src/graph_utils_v2.py\u001b[0m in \u001b[0;36msub_digraphs_timeseries\u001b[0;34m(self, node, var, time_step)\u001b[0m\n\u001b[1;32m   1107\u001b[0m \u001b[0;34m\u001b[0m\u001b[0m\n\u001b[1;32m   1108\u001b[0m         df = pd.DataFrame(\n\u001b[0;32m-> 1109\u001b[0;31m             [(datetime.strptime(time, '%Y-%m-%d %H:%M:%S'), self.sub_digraphs[f'{self.event}_{node}_{time}_acc'].nodes()[node][var]\n\u001b[0m\u001b[1;32m   1110\u001b[0m             ) for time in (sorted(self.time_range[1])[::time_step])])\\\n\u001b[1;32m   1111\u001b[0m                 \u001b[0;34m.\u001b[0m\u001b[0mrename\u001b[0m\u001b[0;34m(\u001b[0m\u001b[0;34m{\u001b[0m\u001b[0;36m0\u001b[0m\u001b[0;34m:\u001b[0m\u001b[0;34m'elapsed_time'\u001b[0m\u001b[0;34m,\u001b[0m \u001b[0;36m1\u001b[0m\u001b[0;34m:\u001b[0m \u001b[0mvar\u001b[0m\u001b[0;34m}\u001b[0m\u001b[0;34m,\u001b[0m \u001b[0maxis\u001b[0m\u001b[0;34m=\u001b[0m\u001b[0;36m1\u001b[0m\u001b[0;34m)\u001b[0m\u001b[0;34m.\u001b[0m\u001b[0mset_index\u001b[0m\u001b[0;34m(\u001b[0m\u001b[0;34m'elapsed_time'\u001b[0m\u001b[0;34m)\u001b[0m\u001b[0;34m\u001b[0m\u001b[0;34m\u001b[0m\u001b[0m\n",
      "\u001b[0;32m/mnt/notebooks/../ConuForecast/src/graph_utils_v2.py\u001b[0m in \u001b[0;36m<listcomp>\u001b[0;34m(.0)\u001b[0m\n\u001b[1;32m   1107\u001b[0m \u001b[0;34m\u001b[0m\u001b[0m\n\u001b[1;32m   1108\u001b[0m         df = pd.DataFrame(\n\u001b[0;32m-> 1109\u001b[0;31m             [(datetime.strptime(time, '%Y-%m-%d %H:%M:%S'), self.sub_digraphs[f'{self.event}_{node}_{time}_acc'].nodes()[node][var]\n\u001b[0m\u001b[1;32m   1110\u001b[0m             ) for time in (sorted(self.time_range[1])[::time_step])])\\\n\u001b[1;32m   1111\u001b[0m                 \u001b[0;34m.\u001b[0m\u001b[0mrename\u001b[0m\u001b[0;34m(\u001b[0m\u001b[0;34m{\u001b[0m\u001b[0;36m0\u001b[0m\u001b[0;34m:\u001b[0m\u001b[0;34m'elapsed_time'\u001b[0m\u001b[0;34m,\u001b[0m \u001b[0;36m1\u001b[0m\u001b[0;34m:\u001b[0m \u001b[0mvar\u001b[0m\u001b[0;34m}\u001b[0m\u001b[0;34m,\u001b[0m \u001b[0maxis\u001b[0m\u001b[0;34m=\u001b[0m\u001b[0;36m1\u001b[0m\u001b[0;34m)\u001b[0m\u001b[0;34m.\u001b[0m\u001b[0mset_index\u001b[0m\u001b[0;34m(\u001b[0m\u001b[0;34m'elapsed_time'\u001b[0m\u001b[0;34m)\u001b[0m\u001b[0;34m\u001b[0m\u001b[0;34m\u001b[0m\u001b[0m\n",
      "\u001b[0;31mTypeError\u001b[0m: unhashable type: 'list'"
     ]
    }
   ]
  },
  {
   "cell_type": "code",
   "execution_count": 6,
   "metadata": {},
   "outputs": [
    {
     "output_type": "error",
     "ename": "TypeError",
     "evalue": "build_subgraph() missing 2 required positional arguments: 'attrs' and 'acc_data'",
     "traceback": [
      "\u001b[0;31m---------------------------------------------------------------------------\u001b[0m",
      "\u001b[0;31mTypeError\u001b[0m                                 Traceback (most recent call last)",
      "\u001b[0;32m<ipython-input-6-8e9a7a66a7a1>\u001b[0m in \u001b[0;36m<module>\u001b[0;34m\u001b[0m\n\u001b[0;32m----> 1\u001b[0;31m \u001b[0ma\u001b[0m \u001b[0;34m=\u001b[0m \u001b[0mconu_basin\u001b[0m\u001b[0;34m.\u001b[0m\u001b[0mbuild_subgraph\u001b[0m\u001b[0;34m(\u001b[0m\u001b[0;34m'NODO1601'\u001b[0m\u001b[0;34m,\u001b[0m \u001b[0;34m'depth_above_invert'\u001b[0m\u001b[0;34m)\u001b[0m\u001b[0;34m\u001b[0m\u001b[0;34m\u001b[0m\u001b[0m\n\u001b[0m",
      "\u001b[0;31mTypeError\u001b[0m: build_subgraph() missing 2 required positional arguments: 'attrs' and 'acc_data'"
     ]
    }
   ],
   "source": [
    "a = conu_basin.build_subgraph('NODO1601', 'depth_above_invert'])"
   ]
  },
  {
   "cell_type": "code",
   "execution_count": 5,
   "metadata": {},
   "outputs": [
    {
     "output_type": "error",
     "ename": "AttributeError",
     "evalue": "'list' object has no attribute 'startswith'",
     "traceback": [
      "\u001b[0;31m---------------------------------------------------------------------------\u001b[0m",
      "\u001b[0;31mAttributeError\u001b[0m                            Traceback (most recent call last)",
      "\u001b[0;32m<ipython-input-5-9b6028056020>\u001b[0m in \u001b[0;36m<module>\u001b[0;34m\u001b[0m\n\u001b[0;32m----> 1\u001b[0;31m \u001b[0mconu_basin\u001b[0m\u001b[0;34m.\u001b[0m\u001b[0mtimeseries_viz\u001b[0m\u001b[0;34m(\u001b[0m\u001b[0;34m[\u001b[0m\u001b[0;34m'NODO1601'\u001b[0m\u001b[0;34m,\u001b[0m \u001b[0;34m'NODO10'\u001b[0m\u001b[0;34m]\u001b[0m\u001b[0;34m,\u001b[0m \u001b[0;34m[\u001b[0m\u001b[0;34m'depth_above_invert'\u001b[0m\u001b[0;34m]\u001b[0m\u001b[0;34m)\u001b[0m\u001b[0;34m\u001b[0m\u001b[0;34m\u001b[0m\u001b[0m\n\u001b[0m",
      "\u001b[0;32m/mnt/notebooks/../ConuForecast/src/graph_utils_v2.py\u001b[0m in \u001b[0;36mtimeseries_viz\u001b[0;34m(self, item, var)\u001b[0m\n\u001b[1;32m   1766\u001b[0m     \u001b[0;32mdef\u001b[0m \u001b[0mtimeseries_viz\u001b[0m\u001b[0;34m(\u001b[0m\u001b[0mself\u001b[0m\u001b[0;34m,\u001b[0m \u001b[0mitem\u001b[0m\u001b[0;34m:\u001b[0m\u001b[0mstr\u001b[0m\u001b[0;34m,\u001b[0m \u001b[0mvar\u001b[0m\u001b[0;34m:\u001b[0m\u001b[0mlist\u001b[0m\u001b[0;34m)\u001b[0m\u001b[0;34m:\u001b[0m\u001b[0;34m\u001b[0m\u001b[0;34m\u001b[0m\u001b[0m\n\u001b[1;32m   1767\u001b[0m \u001b[0;34m\u001b[0m\u001b[0m\n\u001b[0;32m-> 1768\u001b[0;31m         \u001b[0mdf_plot_0\u001b[0m \u001b[0;34m=\u001b[0m \u001b[0mself\u001b[0m\u001b[0;34m.\u001b[0m\u001b[0mtimeseries\u001b[0m\u001b[0;34m(\u001b[0m\u001b[0mitem\u001b[0m\u001b[0;34m,\u001b[0m \u001b[0;34m[\u001b[0m\u001b[0;34m'rainfall'\u001b[0m\u001b[0;34m]\u001b[0m\u001b[0;34m)\u001b[0m\u001b[0;34m\u001b[0m\u001b[0;34m\u001b[0m\u001b[0m\n\u001b[0m\u001b[1;32m   1769\u001b[0m         \u001b[0mdf_plot_0\u001b[0m \u001b[0;34m=\u001b[0m \u001b[0mdf_plot_0\u001b[0m\u001b[0;34m.\u001b[0m\u001b[0mresample\u001b[0m\u001b[0;34m(\u001b[0m\u001b[0;34mf'30min'\u001b[0m\u001b[0;34m)\u001b[0m\u001b[0;34m.\u001b[0m\u001b[0mmean\u001b[0m\u001b[0;34m(\u001b[0m\u001b[0;34m)\u001b[0m\u001b[0;34m\u001b[0m\u001b[0;34m\u001b[0m\u001b[0m\n\u001b[1;32m   1770\u001b[0m         \u001b[0mplot_rainfall_max\u001b[0m \u001b[0;34m=\u001b[0m \u001b[0;36m1.5\u001b[0m \u001b[0;34m*\u001b[0m \u001b[0mdf_plot_0\u001b[0m\u001b[0;34m[\u001b[0m\u001b[0;34m'rainfall'\u001b[0m\u001b[0;34m]\u001b[0m\u001b[0;34m.\u001b[0m\u001b[0mmax\u001b[0m\u001b[0;34m(\u001b[0m\u001b[0;34m)\u001b[0m\u001b[0;34m\u001b[0m\u001b[0;34m\u001b[0m\u001b[0m\n",
      "\u001b[0;32m/mnt/notebooks/../ConuForecast/src/graph_utils_v2.py\u001b[0m in \u001b[0;36mtimeseries\u001b[0;34m(self, item, var)\u001b[0m\n\u001b[1;32m   1211\u001b[0m         \u001b[0mGenerates\u001b[0m \u001b[0mthe\u001b[0m \u001b[0mtimeseries\u001b[0m \u001b[0mof\u001b[0m \u001b[0many\u001b[0m \u001b[0mvariable\u001b[0m \u001b[0mof\u001b[0m \u001b[0many\u001b[0m \u001b[0melement\u001b[0m\u001b[0;34m.\u001b[0m\u001b[0;34m\u001b[0m\u001b[0;34m\u001b[0m\u001b[0m\n\u001b[1;32m   1212\u001b[0m         \"\"\"\n\u001b[0;32m-> 1213\u001b[0;31m         \u001b[0;32mif\u001b[0m \u001b[0mitem\u001b[0m\u001b[0;34m.\u001b[0m\u001b[0mstartswith\u001b[0m\u001b[0;34m(\u001b[0m\u001b[0;34m'NODO'\u001b[0m\u001b[0;34m)\u001b[0m\u001b[0;34m:\u001b[0m\u001b[0;34m\u001b[0m\u001b[0;34m\u001b[0m\u001b[0m\n\u001b[0m\u001b[1;32m   1214\u001b[0m             nodal_data_vars_query = f\"\"\"\n\u001b[1;32m   1215\u001b[0m             \u001b[0mWITH\u001b[0m \u001b[0mmodel_node_coordinates\u001b[0m \u001b[0mAS\u001b[0m\u001b[0;34m\u001b[0m\u001b[0;34m\u001b[0m\u001b[0m\n",
      "\u001b[0;31mAttributeError\u001b[0m: 'list' object has no attribute 'startswith'"
     ]
    }
   ],
   "source": [
    "conu_basin.timeseries_viz('NODO1601', ['depth_above_invert'])"
   ]
  },
  {
   "cell_type": "code",
   "execution_count": 4,
   "metadata": {},
   "outputs": [
    {
     "output_type": "error",
     "ename": "ValueError",
     "evalue": "Column `target` does not exist in the Frame",
     "traceback": [
      "\u001b[0;31m---------------------------------------------------------------------------\u001b[0m",
      "\u001b[0;31mValueError\u001b[0m                                Traceback (most recent call last)",
      "\u001b[0;32m&lt;ipython-input-4-597350e349c3&gt;\u001b[0m in \u001b[0;36m&lt;module&gt;\u001b[0;34m\u001b[0m\n\u001b[0;32m----&gt; 1\u001b[0;31m \u001b[0mconu_basin\u001b[0m\u001b[0;34m.\u001b[0m\u001b[0mtimeseries\u001b[0m\u001b[0;34m(\u001b[0m\u001b[0;34m&#39;NODO456&#39;\u001b[0m\u001b[0;34m,\u001b[0m \u001b[0;34m[\u001b[0m\u001b[0;34m&#39;target&#39;\u001b[0m\u001b[0;34m]\u001b[0m\u001b[0;34m)\u001b[0m\u001b[0;34m\u001b[0m\u001b[0;34m\u001b[0m\u001b[0m\n\u001b[0m",
      "\u001b[0;32m/mnt/notebooks/../ConuForecast/src/graph_utils.py\u001b[0m in \u001b[0;36mtimeseries\u001b[0;34m(self, item, var)\u001b[0m\n\u001b[1;32m   1317\u001b[0m \u001b[0;34m\u001b[0m\u001b[0m\n\u001b[1;32m   1318\u001b[0m             \u001b[0;32melse\u001b[0m\u001b[0;34m:\u001b[0m\u001b[0;34m\u001b[0m\u001b[0;34m\u001b[0m\u001b[0m\n\u001b[0;32m-&gt; 1319\u001b[0;31m                 \u001b[0mdf\u001b[0m \u001b[0;34m=\u001b[0m \u001b[0mdt_nodes\u001b[0m\u001b[0;34m[\u001b[0m\u001b[0;34m:\u001b[0m\u001b[0;34m,\u001b[0m \u001b[0;34m[\u001b[0m\u001b[0;34m&#39;node_id&#39;\u001b[0m\u001b[0;34m,\u001b[0m\u001b[0;34m&#39;elapsed_time&#39;\u001b[0m\u001b[0;34m]\u001b[0m \u001b[0;34m+\u001b[0m \u001b[0mvar\u001b[0m\u001b[0;34m]\u001b[0m\u001b[0;34m.\u001b[0m\u001b[0mto_pandas\u001b[0m\u001b[0;34m(\u001b[0m\u001b[0;34m)\u001b[0m\u001b[0;34m\u001b[0m\u001b[0;34m\u001b[0m\u001b[0m\n\u001b[0m\u001b[1;32m   1320\u001b[0m                 \u001b[0mdf\u001b[0m\u001b[0;34m.\u001b[0m\u001b[0mloc\u001b[0m\u001b[0;34m[\u001b[0m\u001b[0;34m:\u001b[0m\u001b[0;34m,\u001b[0m\u001b[0;34m&#39;elapsed_time&#39;\u001b[0m\u001b[0;34m]\u001b[0m \u001b[0;34m=\u001b[0m \u001b[0mpd\u001b[0m\u001b[0;34m.\u001b[0m\u001b[0mto_datetime\u001b[0m\u001b[0;34m(\u001b[0m\u001b[0mdf\u001b[0m\u001b[0;34m.\u001b[0m\u001b[0mloc\u001b[0m\u001b[0;34m[\u001b[0m\u001b[0;34m:\u001b[0m\u001b[0;34m,\u001b[0m\u001b[0;34m&#39;elapsed_time&#39;\u001b[0m\u001b[0;34m]\u001b[0m\u001b[0;34m)\u001b[0m\u001b[0;34m\u001b[0m\u001b[0;34m\u001b[0m\u001b[0m\n\u001b[1;32m   1321\u001b[0m                 \u001b[0mdf\u001b[0m \u001b[0;34m=\u001b[0m \u001b[0mdf\u001b[0m\u001b[0;34m.\u001b[0m\u001b[0mset_index\u001b[0m\u001b[0;34m(\u001b[0m\u001b[0;34m&#39;elapsed_time&#39;\u001b[0m\u001b[0;34m)\u001b[0m\u001b[0;34m\u001b[0m\u001b[0;34m\u001b[0m\u001b[0m\n",
      "\u001b[0;31mValueError\u001b[0m: Column `target` does not exist in the Frame"
     ]
    }
   ],
   "source": [
    "conu_basin.timeseries('NODO456', ['target'])"
   ]
  },
  {
   "cell_type": "code",
   "execution_count": 9,
   "metadata": {},
   "outputs": [],
   "source": []
  },
  {
   "cell_type": "code",
   "execution_count": null,
   "metadata": {},
   "outputs": [],
   "source": []
  },
  {
   "cell_type": "code",
   "execution_count": null,
   "metadata": {},
   "outputs": [],
   "source": []
  },
  {
   "cell_type": "code",
   "execution_count": 7,
   "metadata": {},
   "outputs": [],
   "source": [
    "conu_basin.select_attrs({'nodes': ['total_inflow', 'lateral_inflow'], 'edges': ['flow_rate', 'flow_velocity']}, '2017-01-01 01:15:00')\n",
    "graph_test = conu_basin.pruned_digraph\n",
    "# graph_test.nodes(data=True)\n",
    "# data = from_networkx(conu_basin.pruned_digraph)"
   ]
  },
  {
   "cell_type": "code",
   "execution_count": 8,
   "metadata": {},
   "outputs": [
    {
     "output_type": "error",
     "ename": "NameError",
     "evalue": "name &#39;torch&#39; is not defined",
     "traceback": [
      "\u001b[0;31m---------------------------------------------------------------------------\u001b[0m",
      "\u001b[0;31mNameError\u001b[0m                                 Traceback (most recent call last)",
      "\u001b[0;32m&lt;ipython-input-8-1867a8d2ff54&gt;\u001b[0m in \u001b[0;36m&lt;module&gt;\u001b[0;34m\u001b[0m\n\u001b[0;32m----&gt; 1\u001b[0;31m \u001b[0mto_torch\u001b[0m\u001b[0;34m(\u001b[0m\u001b[0mgraph_test\u001b[0m\u001b[0;34m)\u001b[0m\u001b[0;34m\u001b[0m\u001b[0;34m\u001b[0m\u001b[0m\n\u001b[0m",
      "\u001b[0;32m/mnt/notebooks/../ConuForecast/src/graph_utils.py\u001b[0m in \u001b[0;36mto_torch\u001b[0;34m(G)\u001b[0m\n\u001b[1;32m   1630\u001b[0m     \u001b[0mG\u001b[0m \u001b[0;34m=\u001b[0m \u001b[0mnx\u001b[0m\u001b[0;34m.\u001b[0m\u001b[0mconvert_node_labels_to_integers\u001b[0m\u001b[0;34m(\u001b[0m\u001b[0mG\u001b[0m\u001b[0;34m)\u001b[0m\u001b[0;34m\u001b[0m\u001b[0;34m\u001b[0m\u001b[0m\n\u001b[1;32m   1631\u001b[0m     \u001b[0mG\u001b[0m \u001b[0;34m=\u001b[0m \u001b[0mG\u001b[0m\u001b[0;34m.\u001b[0m\u001b[0mto_directed\u001b[0m\u001b[0;34m(\u001b[0m\u001b[0;34m)\u001b[0m \u001b[0;32mif\u001b[0m \u001b[0;32mnot\u001b[0m \u001b[0mnx\u001b[0m\u001b[0;34m.\u001b[0m\u001b[0mis_directed\u001b[0m\u001b[0;34m(\u001b[0m\u001b[0mG\u001b[0m\u001b[0;34m)\u001b[0m \u001b[0;32melse\u001b[0m \u001b[0mG\u001b[0m\u001b[0;34m\u001b[0m\u001b[0;34m\u001b[0m\u001b[0m\n\u001b[0;32m-&gt; 1632\u001b[0;31m     \u001b[0medge_index\u001b[0m \u001b[0;34m=\u001b[0m \u001b[0mtorch\u001b[0m\u001b[0;34m.\u001b[0m\u001b[0mtensor\u001b[0m\u001b[0;34m(\u001b[0m\u001b[0mlist\u001b[0m\u001b[0;34m(\u001b[0m\u001b[0mG\u001b[0m\u001b[0;34m.\u001b[0m\u001b[0medges\u001b[0m\u001b[0;34m)\u001b[0m\u001b[0;34m)\u001b[0m\u001b[0;34m.\u001b[0m\u001b[0mt\u001b[0m\u001b[0;34m(\u001b[0m\u001b[0;34m)\u001b[0m\u001b[0;34m.\u001b[0m\u001b[0mcontiguous\u001b[0m\u001b[0;34m(\u001b[0m\u001b[0;34m)\u001b[0m\u001b[0;34m\u001b[0m\u001b[0;34m\u001b[0m\u001b[0m\n\u001b[0m\u001b[1;32m   1633\u001b[0m \u001b[0;34m\u001b[0m\u001b[0m\n\u001b[1;32m   1634\u001b[0m     \u001b[0mtorch_data\u001b[0m \u001b[0;34m=\u001b[0m \u001b[0;34m{\u001b[0m\u001b[0;34m}\u001b[0m\u001b[0;34m\u001b[0m\u001b[0;34m\u001b[0m\u001b[0m\n",
      "\u001b[0;31mNameError\u001b[0m: name &#39;torch&#39; is not defined"
     ]
    }
   ],
   "source": [
    "to_torch(graph_test)"
   ]
  },
  {
   "cell_type": "code",
   "execution_count": 278,
   "metadata": {},
   "outputs": [],
   "source": [
    "def to_torch(G):\n",
    "    data = {}\n",
    "\n",
    "    data['nodes_attrs'] = [list(v[1].values()) for i,v in enumerate(graph_test.nodes(data=True))]\n",
    "\n",
    "    data['edge_attrs'] = [list(v[2].values()) for i,v in enumerate(graph_test.edges(data=True))]\n",
    "\n",
    "    for key, item in data.items():\n",
    "        try:\n",
    "            data[key] = torch.tensor(item)\n",
    "        except ValueError:\n",
    "            pass\n",
    "    data = torch_geometric.data.Data.from_dict(data)\n",
    "\n",
    "    return data\n"
   ]
  },
  {
   "cell_type": "code",
   "execution_count": 282,
   "metadata": {},
   "outputs": [
    {
     "output_type": "execute_result",
     "data": {
      "text/plain": "tensor([[   0,    1,    1,  ..., 8733, 8734, 8735],\n        [   1, 5966, 5967,  ..., 8732, 8725, 8734]])"
     },
     "metadata": {},
     "execution_count": 282
    }
   ],
   "source": [
    "to_torch(graph_test)['edge_index']"
   ]
  },
  {
   "cell_type": "code",
   "execution_count": 280,
   "metadata": {},
   "outputs": [],
   "source": [
    "def to_torch(G):\n",
    "    \"\"\"Converts a :obj:`networkx.Graph` or :obj:`networkx.DiGraph` to a\n",
    "    :class:`torch_geometric.data.Data` instance.\n",
    "\n",
    "    Args:\n",
    "        G (networkx.Graph or networkx.DiGraph): A networkx graph.\n",
    "    \"\"\"\n",
    "\n",
    "    G = nx.convert_node_labels_to_integers(G)\n",
    "    G = G.to_directed() if not nx.is_directed(G) else G\n",
    "    edge_index = torch.tensor(list(G.edges)).t().contiguous()\n",
    "\n",
    "    data = {}\n",
    "\n",
    "    for i, (_, feat_dict) in enumerate(G.nodes(data=True)):\n",
    "        for key, value in feat_dict.items():\n",
    "            data['node_' + str(key)] = [value] if i == 0 else data['node_' + str(key)] + [value]\n",
    "\n",
    "    for i, (_, _, feat_dict) in enumerate(G.edges(data=True)):\n",
    "        for key, value in feat_dict.items():\n",
    "            data['edge_' + str(key)] = [value] if i == 0 else data['edge_' + str(key)] + [value]\n",
    "    \n",
    "    data['nodes_attrs'] = [list(v[1].values()) for i,v in enumerate(G.nodes(data=True))]\n",
    "\n",
    "    data['edge_attrs'] = [list(v[2].values()) for i,v in enumerate(G.edges(data=True))]\n",
    "\n",
    "    for key, item in data.items():\n",
    "        try:\n",
    "            data[key] = torch.tensor(item)\n",
    "        except ValueError:\n",
    "            pass\n",
    "\n",
    "    data['edge_index'] = edge_index.view(2, -1)\n",
    "    data = torch_geometric.data.Data.from_dict(data)\n",
    "    data.num_nodes = G.number_of_nodes()\n",
    "\n",
    "    return data"
   ]
  },
  {
   "cell_type": "code",
   "execution_count": 225,
   "metadata": {},
   "outputs": [],
   "source": [
    "conu_basin.select_attrs({'nodes': ['total_inflow', 'lateral_inflow'], 'edges': ['flow_rate']}, '2017-01-01 01:15:00')\n",
    "graph_test = conu_basin.pruned_digraph\n",
    "# data = from_networkx(conu_basin.pruned_digraph)"
   ]
  },
  {
   "cell_type": "code",
   "execution_count": 226,
   "metadata": {},
   "outputs": [
    {
     "output_type": "execute_result",
     "data": {
      "text/plain": "{'lateral_inflow': 0.0, 'total_inflow': 5.9406293217989514e-09}"
     },
     "metadata": {},
     "execution_count": 226
    }
   ],
   "source": [
    "graph_test.nodes()['NODO7659']"
   ]
  },
  {
   "cell_type": "code",
   "execution_count": 227,
   "metadata": {},
   "outputs": [
    {
     "output_type": "execute_result",
     "data": {
      "text/plain": "[list, list, list, list, list, list]"
     },
     "metadata": {},
     "execution_count": 227
    }
   ],
   "source": [
    "graph_test_torch = from_networkx(graph_test)\n",
    "[type(i[1]) for i in graph_test_torch.items()]"
   ]
  },
  {
   "cell_type": "code",
   "execution_count": 228,
   "metadata": {},
   "outputs": [
    {
     "output_type": "error",
     "ename": "AttributeError",
     "evalue": "'dict' object has no attribute 'zip'",
     "traceback": [
      "\u001b[0;31m---------------------------------------------------------------------------\u001b[0m",
      "\u001b[0;31mAttributeError\u001b[0m                            Traceback (most recent call last)",
      "\u001b[0;32m<ipython-input-228-a0643c7f8dea>\u001b[0m in \u001b[0;36m<module>\u001b[0;34m\u001b[0m\n\u001b[1;32m      1\u001b[0m \u001b[0mgraph_test_torch\u001b[0m \u001b[0;34m=\u001b[0m \u001b[0mfrom_networkx\u001b[0m\u001b[0;34m(\u001b[0m\u001b[0mgraph_test\u001b[0m\u001b[0;34m)\u001b[0m\u001b[0;34m\u001b[0m\u001b[0;34m\u001b[0m\u001b[0m\n\u001b[1;32m      2\u001b[0m \u001b[0;34m\u001b[0m\u001b[0m\n\u001b[0;32m----> 3\u001b[0;31m \u001b[0mgraph_test_torch\u001b[0m\u001b[0;34m.\u001b[0m\u001b[0mzip\u001b[0m\u001b[0;34m\u001b[0m\u001b[0;34m\u001b[0m\u001b[0m\n\u001b[0m",
      "\u001b[0;31mAttributeError\u001b[0m: 'dict' object has no attribute 'zip'"
     ]
    }
   ],
   "source": [
    "graph_test_torch = from_networkx(graph_test)\n",
    "\n",
    "graph_test_torch.zip"
   ]
  },
  {
   "cell_type": "code",
   "execution_count": 201,
   "metadata": {},
   "outputs": [
    {
     "output_type": "execute_result",
     "data": {
      "text/plain": "8),\n (0.0, 1.6577952899332615e-10),\n (0.0, 2.4741353854551562e-08),\n (0.0, 3.203623200054295e-10),\n (0.0, 0.0),\n (0.0, 9.482099549984468e-09),\n (0.0, 1.3491977313151438e-07),\n (0.0, 6.154960097148887e-09),\n (0.0, 0.0),\n (0.0, 6.169269095579466e-09),\n (0.0, 6.921056172615181e-09),\n (0.0, 5.068490960269401e-09),\n (0.0, 3.322597308397235e-08),\n (0.0, 2.6533546915175066e-08),\n (0.0, 8.786339833477541e-08),\n (0.0, 0.0),\n (0.0, 3.970013651155568e-09),\n (0.0, 1.415124728509909e-07),\n (0.0, 0.0),\n (0.0, 3.5436546141909275e-08),\n (0.0, 3.8331140927994056e-08),\n (0.0, 3.930500369619949e-08),\n (0.0, 3.1279082435275996e-08),\n (0.0, 0.0),\n (0.0, 0.0),\n (0.0, 2.0391295763033668e-08),\n (0.0, 1.9692722119657446e-08),\n (0.0, 8.801228545962658e-08),\n (0.0, 1.1023355455108685e-06),\n (0.0, 8.743705315339412e-09),\n (0.0, 3.998681918915281e-08),\n (0.0, 2.3693151884884855e-09),\n (0.0, 0.0),\n (0.0, 1.7935006813019072e-09),\n (0.0, 2.5011811288777608e-08),\n (0.0, 5.996918162054499e-08),\n (0.0, 1.5348511794854858e-08),\n (0.0, 0.0),\n (0.0, 1.2105025426478733e-08),\n (0.0, 1.3521348485312501e-08),\n (0.0, 2.3765595713598486e-08),\n (0.0, 3.0197487177474613e-08),\n (0.0, 0.0),\n (0.0, 2.3195768861228316e-08),\n (0.0, 5.207539288676344e-09),\n (0.0, 5.269553682296646e-09),\n (0.0, 2.258772724417213e-08),\n (0.0, 2.3159197226618744e-08),\n (0.0, 2.859795600329562e-08),\n (0.0, 5.59867778804346e-08),\n (0.0, 3.5886415616914746e-08),\n (0.0, 0.0),\n (0.0, 3.64191441803996e-06),\n (2.559264657975291e-06, 2.5607855604903307e-06),\n (9.922587906885383e-08, 3.0327879585456685e-07),\n (0.0, 0.0),\n (0.0, 1.0990529375476399e-08),\n (0.0, 1.1211601425031859e-08),\n (0.0, 3.37236407688124e-08),\n (0.0, 0.0),\n (0.0, 5.497188126923902e-08),\n (0.0, 4.3895269641325285e-08),\n (0.0, 1.6465172336666e-08),\n (0.0, 0.0),\n (0.0, 1.0814756729038422e-10),\n (0.0, 2.744267313392612e-10),\n (0.0, 1.6667799584979548e-08),\n (0.0, 0.0),\n (0.0, 7.536280577369325e-07),\n (0.0, 1.5045261911317276e-11),\n (0.0, 2.8734478685343845e-10),\n (0.0, 7.180372296744508e-09),\n (0.0, 1.8869454887493475e-09),\n (0.0, 1.1596362980981212e-08),\n (0.0, 1.9913120041792354e-08),\n (0.0, 2.5343453557979956e-08),\n (0.0, 5.615198972463986e-08),\n (0.0, 3.1226626617808506e-08),\n (0.0, 2.0908464293256657e-08),\n (0.0, 6.714663669526999e-08),\n (0.0, 1.6976962058379286e-08),\n (0.0, 0.0),\n (0.0, 8.741403156875549e-09),\n (0.0, 2.412529909179284e-08),\n (0.0, 2.4217078120614133e-08),\n (0.0, 2.5060344341909513e-06),\n (0.0, 2.1286517437602015e-08),\n (0.0, 4.612185122709889e-08),\n (0.0, 1.2797924853202858e-07),\n (0.0, 2.178068569946845e-08),\n (0.0, 2.3743035981738103e-08),\n (0.0, 2.14822755140176e-08),\n (0.0, 2.3532230386535957e-08),\n (0.0, 1.4243677526337706e-07),\n (0.0, 0.0),\n (0.0, 1.0694031438163165e-08),\n (0.0, 2.2573255265001535e-08),\n (0.0, 3.6064482173969736e-06),\n (0.0, 2.767283113769281e-08),\n (0.0, 2.3601099741199505e-08),\n (0.0, 2.5206352560758205e-08),\n (0.0, 1.0270731820583023e-08),\n (0.0, 1.8374681332034015e-08),\n (0.0, 6.183257905689743e-09),\n (0.0, 8.618222580025758e-09),\n (0.0, 6.41938457945912e-09),\n (0.0, 1.4051022567684868e-08),\n (0.0, 7.439610261172902e-09),\n (0.0, 7.313382610618646e-08),\n (0.0, 2.365863771558452e-08),\n (0.0, 4.42827570168447e-08),\n (0.0, 1.963699105544947e-06),\n (0.0, 0.0),\n (0.0, 6.061073865026856e-09),\n (0.0, 0.0),\n (0.0, 9.737034789569776e-11),\n (0.0, 0.0),\n (0.0, 6.212008884176612e-06),\n (0.0, 0.0),\n (0.0, 1.3873917292794857e-10),\n (0.0, 1.5188811985922257e-08),\n (0.0, 0.0),\n (0.0, 9.208410922667554e-09),\n (0.0, 1.9652957039539842e-10),\n (0.0, 0.0),\n (0.0, 2.985349190076647e-10),\n (0.0, 0.0),\n (0.0, 3.3122118936468326e-10),\n (0.0, 4.090714810445206e-06),\n (0.0, 0.0),\n (0.0, 2.5154722749221037e-10),\n (0.0, 1.437575891660714e-10),\n (0.0, 8.088924197124925e-09),\n (2.4846224278007867e-06, 2.490077804395696e-06),\n (0.0, 4.479768733745004e-08),\n (0.0, 9.469760087199575e-09),\n (0.0, 1.9423767483317533e-08),\n (0.0, 5.177740192152669e-08),\n (0.0, 5.4589968101481645e-08),\n (0.0, 2.7681291925318874e-08),\n (0.0, 3.723247132825236e-08),\n (0.0, 5.1076767704216763e-08),\n (0.0, 2.5206919218589974e-08),\n (0.0, 2.038141019511386e-06),\n (0.0, 2.3631663736978226e-08),\n (0.0, 2.1933407978735886e-08),\n (0.0, 2.225409900802333e-08),\n (0.0, 0.0),\n (0.0, 4.019915422759368e-08),\n (0.0, 6.838411614751294e-09),\n (0.0, 1.7416806485925918e-06),\n (0.0, 5.2846104381387704e-08),\n (0.0, 3.054663011425873e-08),\n (0.0, 0.0),\n (0.0, 4.003917183581507e-06),\n (0.0, 9.29212085054587e-09),\n (0.0, 4.872482577411574e-07),\n (0.0, 6.80369964811689e-08),\n (0.0, 1.624342260697631e-08),\n (0.0, 1.0742381206796381e-08),\n (0.0, 2.0217036933445343e-08),\n (0.0, 3.4939464654826224e-08),\n (0.0, 3.710285056968132e-08),\n (0.0, 3.028016237749398e-08),\n (0.0, 6.959051006560912e-07),\n (0.0, 5.878343856124957e-08),\n (0.0, 2.4750415050789343e-08),\n (0.0, 1.9515157489990997e-08),\n (0.0, 6.43801500999075e-09),\n (0.0, 9.809026479956628e-09),\n (0.0, 1.1139632327683557e-08),\n (0.0, 8.801124096180502e-08),\n (1.0190983630309347e-06, 1.0292307024428737e-06),\n (0.0, 3.819500271617926e-10),\n (0.0, 1.073346833635469e-08),\n (0.0, 2.4363231432289467e-07),\n (2.1787991499877535e-06, 2.1802427454531426e-06),\n (3.110290833774343e-07, 3.792696077198343e-07),\n (0.0, 1.5318484258841636e-08),\n (0.0, 3.403911819077621e-08),\n (0.0, 9.727558314409634e-09),\n (0.0, 7.773599008942256e-07),\n (0.0, 1.4708600701851537e-06),\n (0.0, 1.3138047094685135e-08),\n (0.0, 8.005229545915427e-08),\n (0.0, 6.68061783670737e-09),\n (0.0, 2.796305942354138e-08),\n (0.0, 3.004777582304996e-08),\n (0.0, 1.4885626953287101e-08),\n (0.0, 7.942717594744408e-09),\n (0.0, 2.93197194878303e-06),\n (0.0, 3.9601645767106675e-06),\n (0.0, 8.16852274709845e-09),\n (0.0, 2.469944604399643e-08),\n (0.0, 2.3529652892761987e-08),\n (0.0, 7.56501883358851e-09),\n (0.0, 0.0),\n (0.0, 3.910189150246879e-08),\n (0.0, 0.0),\n (0.0, 8.665858253209535e-09),\n (0.0, 3.6707976960315136e-06),\n (0.0, 3.929718772610613e-09),\n (0.0, 2.984174329867528e-08),\n (0.0, 1.0500908587118829e-08),\n (0.0, 1.8111554922484174e-08),\n (0.0, 5.740026054468217e-08),\n (0.0, 0.0),\n (0.0, 4.6213761706326295e-09),\n (0.0, 7.912076682714542e-08),\n (0.0, 4.985056989426084e-08),\n (0.0, 2.7309587480317532e-08),\n (0.0, 5.2674227646321015e-08),\n (0.0, 3.2784678296593484e-06),\n (0.0, 6.642972039117012e-06),\n (0.0, 5.17799136900976e-08),\n (0.0, 3.775063461830541e-08),\n (0.0, 3.117178337674886e-08),\n (0.0, 1.4384713864501464e-08),\n (0.0, 0.0),\n (0.0, 1.3334646276064177e-08),\n (0.0, 1.946218830539692e-08),\n (0.0, 0.0),\n (0.0, 6.385527218100151e-09),\n (0.0, 2.0346937468218584e-09),\n (0.0, 5.43505018768542e-09),\n (0.0, 4.785899363923818e-06),\n (0.0, 9.00532892700312e-09),\n (0.0, 8.088265168737507e-09),\n (0.0, 1.2046529995757282e-08),\n (0.0, 0.0),\n (0.0, 3.518911029232186e-08),\n (0.0, 1.0546059314719969e-07),\n (0.0, 9.100840969722412e-08),\n (0.0, 3.847205576335e-08),\n (0.0, 1.983149866546796e-09),\n (0.0, 1.1772597645176575e-05),\n (0.0, 2.822726496987116e-10),\n (0.0, 1.8930841616526806e-10),\n (0.0, 1.3842702539790253e-09),\n (0.0, 0.0),\n (0.0, 9.963279090641208e-09),\n (0.0, 2.622248373995717e-08),\n (0.0, 1.5601697711531415e-08),\n (0.0, 4.434688349874705e-08),\n (0.0, 3.320455377320286e-08),\n (0.0, 2.8259673712227595e-08),\n (0.0, 7.875730290152205e-09),\n (0.0, 1.7783175280783325e-05),\n (0.0, 3.3945536159762923e-08),\n (0.0, 1.5287474397496226e-08),\n (0.0, 7.443526328643202e-08),\n (0.0, 3.3187035342052695e-08),\n (0.0, 2.6008294184975966e-08),\n (0.0, 1.1024106072454742e-08),\n (0.0, 2.302915547147677e-08),\n (0.0, 7.818735880960048e-09),\n (0.0, 1.191627774232984e-08),\n (0.0, 4.429999034272214e-09),\n (0.0, 1.2615644664037973e-05),\n (0.0, 4.6055630420482885e-09),\n (0.0, 0.0),\n (0.0, 3.0679515816700587e-08),\n (0.0, 2.0844886705617682e-08),\n (0.0, 1.9668737749611864e-08),\n (0.0, 3.855631369731327e-10),\n (0.0, 0.0),\n (0.0, 5.987656948036602e-08),\n (0.0, 2.9097202514094533e-07),\n (0.0, 2.1843453623660025e-07),\n (0.0, 1.877877764400182e-08),\n (0.0, 3.9897076931083575e-06),\n (0.0, 9.175433035579772e-08),\n (0.0, 6.6778200746853145e-09),\n (0.0, 9.50611950267799e-11),\n (0.0, 2.0033017023024513e-08),\n (0.0, 2.4035868406713234e-08),\n (0.0, 3.594022501829386e-08),\n (0.0, 1.0577536180278457e-08),\n (0.0, 2.7402464297665574e-08),\n (0.0, 1.496267032052856e-06),\n (0.0, 7.507312105303754e-09),\n (0.0, 2.204940940941924e-08),\n (0.0, 2.436044077569477e-08),\n (0.0, 2.5771791367645847e-09),\n (0.0, 0.0),\n (0.0, 0.0),\n (0.0, 0.0),\n (0.0, 1.649832057637468e-07),\n (0.0, 2.0298635661220032e-07),\n (4.350503388650395e-07, 4.871266696682142e-07),\n (0.0, 0.0),\n (0.0, 3.805893911135172e-08),\n (0.0, 1.2577065433561074e-07),\n (0.0, 7.680107216856413e-08),\n (0.0, 2.1787490922520192e-08),\n (0.0, 1.249507874945266e-07),\n (0.0, 2.1237168468246637e-08),\n (0.0, 7.812369403836783e-06),\n (0.0, 1.3190109484639834e-06),\n (0.0, 1.1634533620963339e-06),\n (0.0, 1.7048501277372452e-08),\n (0.0, 6.122271578590244e-09),\n (0.0, 1.5937423825107544e-08),\n (0.0, 1.1532240051792542e-07),\n (0.0, 4.026205591145526e-09),\n (0.0, 5.747163456248927e-08),\n (0.0, 1.9299836395703096e-08),\n (0.0, 1.0248916382238349e-08),\n (0.0, 4.11408436207239e-08),\n (0.0, 1.5743849871796556e-05),\n (0.0, 4.195927516548181e-08),\n (0.0, 5.129895441768895e-08),\n (0.0, 4.463837655066527e-08),\n (0.0, 0.0),\n (0.0, 1.746840894156776e-09),\n (0.0, 0.0),\n (0.0, 9.91908333247693e-10),\n (0.0, 2.2854218073575794e-08),\n (0.0, 5.970162419544067e-06),\n (0.0, 1.2602080268209193e-08),\n (0.0, 8.4016500423445e-09),\n (0.0, 2.8354993020229813e-08),\n (0.0, 5.1881698936995235e-08),\n (2.3805067428384064e-07, 2.3893349521131313e-07),\n (0.0, 4.954127774681183e-09),\n (1.0978368436553865e-07, 1.1556118550970496e-07),\n (0.0, 6.4842260449893274e-09),\n (1.6891932830276346e-07, 1.7336355995212216e-07),\n (0.0, 0.0),\n (1.4795209324347525e-07, 1.4854241214834474e-07),\n (0.0, 3.5874243167199893e-06),\n (0.0, 3.6515539481030146e-09),\n (0.0, 4.4796641951450056e-09),\n (0.0, 0.0),\n (0.0, 1.9398328731767833e-05),\n (0.0, 3.0856759369868314e-09),\n (0.0, 3.3659188769519233e-09),\n (0.0, 1.4758485544774658e-09),\n (0.0, 6.321102308248783e-09),\n (0.0, 7.6729786968599e-09),\n (0.0, 4.350448890022562e-09),\n (0.0, 6.323341406044847e-09),\n (0.0, 1.127234527942278e-09),\n (0.0, 3.712581019499339e-05),\n (0.0, 0.0),\n (0.0, 2.0657910104748822e-10),\n (0.0, 3.2464284593913817e-09),\n (0.0, 2.847495572666503e-09),\n (0.0, 1.2776900426558768e-08),\n (2.0394704591808477e-08, 2.2059378324001955e-08),\n (0.0, 1.4109349799618087e-10),\n (0.0, 6.992202650213386e-11),\n (0.0, 1.8574434434981413e-08),\n (0.0, 4.797429120628749e-09),\n (0.0, 2.8258587917662226e-05),\n (0.0, 1.9402635942356028e-08),\n (0.0, 8.532476947209489e-09),\n (0.0, 4.12248279957339e-09),\n (0.0, 6.2426086522293645e-09),\n (0.0, 5.571624939193498e-09),\n (0.0, 7.602002582984824e-09),\n (0.0, 2.217988459563003e-09),\n (0.0, 2.960904188498148e-09),\n (0.0, 1.3610548244002985e-09),\n (0.0, 3.7149530118796292e-09),\n (0.0, 3.840796125587076e-08),\n (0.0, 5.718670763599221e-06),\n (0.0, 3.3042613978295776e-08),\n (0.0, 2.1553345774805166e-08),\n (0.0, 1.4157743422060776e-08),\n (0.0, 9.61973078972278e-09),\n (8.485465485819077e-08, 9.80145813400668e-08),\n (0.0, 2.7887853804031693e-08),\n (0.0, 2.350915373483531e-08),\n (0.0, 4.063973690904277e-08),\n (0.0, 1.2448818864640998e-08),\n (0.0, 1.2350839462271779e-08),\n (0.0, 2.2693512846672093e-08),\n (0.0, 2.8888109682156937e-06),\n (0.0, 1.1698555013595069e-08),\n (0.0, 1.3985319569087551e-08),\n (0.0, 0.0),\n (0.0, 1.2698250451137483e-08),\n (0.0, 4.5220097888432065e-08),\n (0.0, 2.9363253162273395e-08),\n (0.0, 8.457469391487393e-09),\n (0.0, 8.735193013365006e-09),\n (0.0, 2.193055337329497e-08),\n (0.0, 1.2534948190534578e-08),\n (0.0, 6.601072133349817e-09),\n (0.0, 2.2658436904521295e-08),\n (0.0, 8.039037879825628e-09),\n (0.0, 0.0),\n (0.0, 1.1597062865575936e-08),\n (0.0, 3.81156191053833e-08),\n (0.0, 2.5259106806174714e-08),\n (0.0, 3.5237960105405364e-08),\n (0.0, 2.0157772340212432e-08),\n (0.0, 2.4763204820033025e-08),\n (0.0, 5.5760338000254706e-06),\n (0.0, 0.0),\n (0.0, 6.73430811115594e-10),\n (0.0, 1.3567660328561715e-09),\n (0.0, 0.0),\n (0.0, 3.3823566170099184e-10),\n (0.0, 3.964185424365496e-08),\n (0.0, 4.332590108901968e-08),\n (0.0, 2.796205578192712e-08),\n (0.0, 2.6233125893782017e-08),\n (0.0, 1.696770546288917e-08),\n (0.0, 4.354804516992772e-08),\n (0.0, 3.526297831513148e-08),\n (0.0, 2.3382192182452854e-08),\n (0.0, 2.328463821754667e-08),\n (2.613547565033514e-07, 2.710682167617051e-07),\n (0.0, 5.3000409394599046e-08),\n (0.0, 3.438733031657648e-08),\n (0.0, 3.276774052096698e-08),\n (0.0, 1.9001051398959135e-08),\n (0.0, 6.428371079891804e-08),\n (0.0, 5.238531741724728e-08),\n (0.0, 1.2364699841782567e-07),\n (0.0, 4.264767738959563e-08),\n (0.0, 1.1633416761469562e-05),\n (0.0, 4.220709342916962e-06),\n (0.0, 4.524169838759917e-08),\n (0.0, 1.5742768866289225e-08),\n (0.0, 0.0),\n (0.0, 5.6312807750202865e-09),\n (0.0, 0.0),\n (0.0, 1.246228809037575e-08),\n (0.0, 9.393192890172486e-09),\n (0.0, 3.674919213381145e-08),\n (0.0, 3.856428776316534e-08),\n (0.0, 2.2603911631335905e-08),\n (0.0, 2.1791771942503146e-08),\n (0.0, 1.5169438484008424e-05),\n (0.0, 3.1639032727071026e-08),\n (0.0, 6.914206984731663e-09),\n (0.0, 2.970355694742466e-08),\n (0.0, 0.0),\n (0.0, 1.126689586072871e-08),\n (0.0, 2.9437115856012497e-08),\n (0.0, 1.2345874544905655e-08),\n (0.0, 1.3429224843264365e-08),\n (0.0, 1.1692376844507635e-08),\n (0.0, 1.1163529961777385e-05),\n (0.0, 2.996823056378162e-08),\n (0.0, 2.096916951188632e-08),\n (0.0, 1.5377623618917369e-09),\n (0.0, 0.0),\n (0.0, 1.2104250046718334e-08),\n (0.0, 9.274051393504124e-08),\n (0.0, 3.80033711167016e-08),\n (0.0, 1.9081172197843443e-08),\n (0.0, 1.0551953891990706e-05),\n (0.0, 9.768585940150842e-09),\n (0.0, 0.0),\n (0.0, 1.6287039272810944e-08),\n (0.0, 7.673814650388522e-08),\n (0.0, 0.0),\n (0.0, 1.8128650580706562e-08),\n (0.0, 8.344505886270781e-08),\n (0.0, 7.273738056312595e-09),\n (0.0, 3.9441061971956515e-08),\n (0.0, 5.4467222980747465e-06),\n (0.0, 2.371528928790667e-08),\n (0.0, 1.0218892398938806e-08),\n (0.0, 2.3678215654854284e-07),\n (0.0, 3.150438487864449e-08),\n (0.0, 0.0),\n (0.0, 3.938795956059948e-09),\n (0.0, 2.012448696575575e-08),\n (0.0, 3.048141294925699e-08),\n (0.0, 7.675401647588842e-09),\n (0.0, 3.2245293102306505e-09),\n (0.0, 3.8015532943802555e-09),\n (0.0, 1.6177752470980522e-08),\n (0.0, 2.8009037311704787e-09),\n (0.0, 4.7742009456896994e-08),\n (0.0, 9.553706270537532e-09),\n (0.0, 2.185948915212066e-06),\n (6.673101893284183e-08, 6.879672298509831e-08),\n (0.0, 2.0344709810160566e-06),\n (0.0, 1.2498728274579207e-08),\n (0.0, 1.9529228012515887e-08),\n (0.0, 9.129357714243724e-09),\n (0.0, 9.89900250658593e-09),\n (0.0, 0.0),\n (0.0, 4.554769894582478e-09),\n (0.0, 5.992530027754128e-09),\n (0.0, 6.960232923347576e-08),\n (1.6068050854300964e-06, 1.657575239732978e-06),\n (0.0, 2.027998569076317e-08),\n (0.0, 7.659217260425066e-09),\n (0.0, 1.077238565017069e-08),\n (0.0, 1.0506269632060139e-08),\n (0.0, 2.3466329324151047e-08),\n (0.0, 0.0),\n (0.0, 1.787567094346798e-09),\n (0.0, 0.0),\n (1.2860246201285008e-08, 1.9827728792165544e-08),\n (2.9181523863996972e-09, 3.1293596602921525e-09),\n (0.0, 8.606187762438822e-09),\n (0.0, 3.1763280894381296e-09),\n (0.0, 0.0),\n (0.0, 1.29375168356205e-08),\n (0.0, 9.309884418939873e-09),\n (0.0, 1.813526573357649e-08),\n (0.0, 7.647364519414168e-09),\n (0.0, 7.388711420475147e-09),\n (0.0, 4.851654722415333e-08),\n (0.0, 1.0910403247521572e-08),\n (0.0, 1.770230362296843e-08),\n (0.0, 1.5420239307673e-08),\n (0.0, 3.6978973216861277e-09),\n (0.0, 3.63136742898007e-09),\n (0.0, 1.246323577674957e-08),\n (0.0, 0.0),\n (0.0, 2.0822762181182952e-08),\n (0.0, 5.062541674760723e-08),\n (0.0, 0.0),\n (0.0, 2.1985220755027512e-08),\n (0.0, 1.4567300254952897e-08),\n (0.0, 2.0247499676884217e-08),\n (0.0, 1.6779626577090312e-08),\n (0.0, 0.0),\n (0.0, 6.559362830671489e-09),\n (0.0, 4.887680926657367e-09),\n (0.0, 2.721528957749797e-08),\n (1.445225450424914e-07, 1.9156142627707595e-07),\n (0.0, 4.4162874246467254e-08),\n (0.0, 2.410965009858046e-07),\n (0.0, 6.27322336299585e-08),\n (0.0, 1.0393028304633845e-07),\n (0.0, 5.894752047597152e-11),\n (0.0, 1.9119977423542878e-06),\n (0.0, 1.2471691945847851e-07),\n (0.0, 0.0),\n (0.0, 5.9310625744046774e-08),\n (0.0, 2.2881932792984117e-08),\n (0.0, 7.441407490205165e-08),\n (0.0, 1.2974168406287845e-08),\n (0.0, 2.6579314749142213e-08),\n (0.0, 4.7590454244073044e-08),\n (5.847375064149674e-07, 5.970290430923342e-07),\n (0.0, 7.687598890804281e-10),\n (0.0, 0.0),\n (0.0, 0.0),\n (0.0, 2.427510459312998e-08),\n (0.0, 1.9194038358705257e-08),\n (0.0, 1.2904629365095843e-08),\n (0.0, 1.7716830598146771e-06),\n (9.95142901416557e-09, 1.2994023563805968e-06),\n (0.0, 8.19135948404437e-06),\n (0.0, 2.1721380107919686e-06),\n (0.0, 1.786135726433713e-06),\n (0.0, 8.014445285198235e-08),\n (0.0, 5.1704816428355116e-08),\n (0.0, 8.243839744181969e-08),\n (0.0, 3.4048245112217046e-08),\n (0.0, 3.498855605243989e-08),\n (0.0, 2.1777568193215302e-08),\n (0.0, 6.176945532843092e-08),\n (0.0, 2.8658812212256635e-08),\n (0.0, 2.406781085539933e-08),\n (0.0, 4.025616817671107e-08),\n (0.0, 2.59738328622916e-08),\n (0.0, 8.48798631380987e-09),\n (0.0, 5.207271502882804e-09),\n (0.0, 7.576298699518702e-09),\n (0.0, 9.778205800614614e-09),\n (0.0, 3.760579347922288e-10),\n (0.0, 1.8203307305952876e-08),\n (0.0, 1.3134375365098094e-08),\n (0.0, 2.486540040536056e-08),\n (0.0, 5.026134619612321e-09),\n (0.0, 1.2464203891227044e-08),\n (0.0, 1.5525992935749855e-08),\n (0.0, 0.0),\n (0.0, 1.2078136713000731e-08),\n (0.0, 4.487905513883561e-08),\n (0.0, 1.423500606279049e-08),\n (0.0, 4.4581998537296386e-08),\n (0.0, 2.010843402899809e-08),\n (0.0, 1.5650742923867256e-08),\n (0.0, 1.2647058511561227e-08),\n (0.0, 3.0055771276238374e-06),\n (0.0, 2.5764000710637447e-08),\n (0.0, 2.335193727276419e-08),\n (0.0, 0.0),\n (0.0, 6.496313709192236e-09),\n (0.0, 0.0),\n (0.0, 7.70981569075957e-06),\n (0.0, 4.957397322868928e-06),\n (1.4379234016814735e-06, 1.4649491504314938e-06),\n (5.094752952850001e-10, 1.0492743562906526e-08),\n (0.0, 1.5300822724384489e-06),\n (0.0, 1.0570590802672086e-06),\n (0.0, 0.0),\n (0.0, 1.3430118350754583e-08),\n (0.0, 7.87014720060597e-09),\n (0.0, 7.546873348474037e-09),\n (0.0, 1.966146356835452e-08),\n (0.0, 3.1344061568461257e-08),\n (0.0, 0.0),\n (0.0, 2.3218690969883937e-08),\n (0.0, 4.189578817204165e-08),\n (0.0, 2.9422333014395008e-08),\n (0.0, 0.0),\n (0.0, 0.0),\n (0.0, 3.5457099478719556e-09),\n (0.0, 2.641396212865743e-09),\n (0.0, 0.0),\n (0.0, 2.562557529017795e-05),\n (0.0, 1.1569937896638294e-07),\n (1.251121872769545e-08, 1.2723951670068345e-08),\n (0.0, 2.2762366214124086e-08),\n (0.0, 1.7176629896198392e-08),\n (0.0, 1.4723775620950619e-06),\n (0.0, 1.0959183782688342e-06),\n (0.0, 0.0),\n (0.0, 3.5261324971003205e-09),\n (0.0, 1.4971814010777962e-08),\n (3.276249316286339e-08, 4.172091294663005e-08),\n (0.0, 1.5021182520058574e-08),\n (0.0, 6.162413512811327e-08),\n (0.0, 0.0),\n (0.0, 5.414005244119835e-09),\n (0.0, 1.3952702104802484e-08),\n (0.0, 1.2316525577205084e-08),\n (0.0, 3.884071020365809e-08),\n (0.0, 3.707199525138094e-08),\n (0.0, 1.1627919072054738e-08),\n (0.0, 4.648051188382851e-08),\n (0.0, 2.226950535089145e-08),\n (0.0, 6.775239569378755e-08),\n (0.0, 1.7010897579439188e-08),\n (0.0, 9.481515128584306e-09),\n (0.0, 3.846302476517849e-08),\n (0.0, 0.0),\n (0.0, 3.1955982304765485e-10),\n (0.0, 1.6835759175659604e-10),\n (0.0, 2.179077000619145e-06),\n (0.0, 3.036271678524827e-08),\n (0.0, 4.9446892802507136e-08),\n (0.0, 1.739921984267312e-08),\n (0.0, 1.695094375975259e-08),\n (0.0, 3.532410630668892e-08),\n (0.0, 6.655147188894261e-08),\n (0.0, 2.2625773254958403e-08),\n (0.0, 1.9708862097900237e-08),\n (0.0, 0.0),\n (0.0, 1.4500479039725178e-08),\n (0.0, 1.573339147853403e-08),\n (0.0, 5.042951670475304e-06),\n (0.0, 1.0249440407505972e-07),\n (0.0, 6.437591792973762e-08),\n (0.0, 4.7665210445302364e-08),\n (0.0, 1.3942635490593602e-08),\n (0.0, 5.509040690299116e-08),\n (0.0, 0.0),\n (0.0, 0.0),\n (0.0, 6.866518909021124e-09),\n (0.0, 2.2898841933738368e-08),\n (0.0, 5.071065970696509e-06),\n (0.0, 0.0),\n (0.0, 4.1173212061984543e-10),\n (6.630432949350507e-07, 6.646898782491917e-07),\n ...]"
     },
     "metadata": {},
     "execution_count": 201
    }
   ],
   "source": [
    "list(zip(graph_test_torch.node_lateral_inflow, graph_test_torch.node_total_inflow))"
   ]
  },
  {
   "cell_type": "code",
   "execution_count": 151,
   "metadata": {},
   "outputs": [
    {
     "output_type": "execute_result",
     "data": {
      "text/plain": "tensor([[4.7705e-08, 0.0000e+00, 3.8718e-08],\n        [1.0125e-08, 0.0000e+00, 6.0930e-08],\n        [1.8019e-08, 0.0000e+00, 6.1819e-08],\n        ...,\n        [2.4822e-10, 0.0000e+00, 0.0000e+00],\n        [2.1795e-10, 0.0000e+00, 0.0000e+00],\n        [9.6281e-09, 0.0000e+00, 0.0000e+00]])"
     },
     "metadata": {},
     "execution_count": 151
    }
   ],
   "source": [
    "torch.tensor(list(zip(graph_test_torch.flow_rate, graph_test_torch.lateral_inflow, graph_test_torch.total_inflow)))"
   ]
  },
  {
   "cell_type": "code",
   "execution_count": null,
   "metadata": {},
   "outputs": [],
   "source": [
    "torch.nn(np.matrix(pd.DataFrame(graph.nodal_data_dict).T[['lateral_inflow', 'rainfall']]))"
   ]
  },
  {
   "cell_type": "code",
   "execution_count": null,
   "metadata": {},
   "outputs": [],
   "source": [
    "nx.attr_matrix(a, node_attr='depth_above_invert')[0]"
   ]
  },
  {
   "cell_type": "code",
   "execution_count": null,
   "metadata": {},
   "outputs": [],
   "source": [
    "torch.tensor([i for i in graph.nodal_data_query_result])"
   ]
  },
  {
   "cell_type": "code",
   "execution_count": null,
   "metadata": {},
   "outputs": [],
   "source": []
  }
 ],
 "metadata": {
  "kernelspec": {
   "name": "python3",
   "display_name": "Python 3"
  },
  "language_info": {
   "codemirror_mode": {
    "name": "ipython",
    "version": 3
   },
   "file_extension": ".py",
   "mimetype": "text/x-python",
   "name": "python",
   "nbconvert_exporter": "python",
   "pygments_lexer": "ipython3",
   "version": "3.6.11-final"
  }
 },
 "nbformat": 4,
 "nbformat_minor": 4
}